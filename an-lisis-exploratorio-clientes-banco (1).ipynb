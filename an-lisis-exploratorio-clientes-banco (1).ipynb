{
 "cells": [
  {
   "cell_type": "code",
   "execution_count": 1,
   "id": "b39babf0",
   "metadata": {
    "execution": {
     "iopub.execute_input": "2023-06-08T01:34:55.372805Z",
     "iopub.status.busy": "2023-06-08T01:34:55.372397Z",
     "iopub.status.idle": "2023-06-08T01:34:57.168932Z",
     "shell.execute_reply": "2023-06-08T01:34:57.167634Z"
    },
    "papermill": {
     "duration": 1.814459,
     "end_time": "2023-06-08T01:34:57.171882",
     "exception": false,
     "start_time": "2023-06-08T01:34:55.357423",
     "status": "completed"
    },
    "tags": []
   },
   "outputs": [],
   "source": [
    "import pandas as pd\n",
    "import seaborn as sns\n",
    "import matplotlib.pyplot as plt\n",
    "%matplotlib inline\n",
    "import numpy as np"
   ]
  },
  {
   "cell_type": "markdown",
   "id": "4dbd6a78",
   "metadata": {
    "execution": {
     "iopub.execute_input": "2023-06-07T22:10:41.839923Z",
     "iopub.status.busy": "2023-06-07T22:10:41.839499Z",
     "iopub.status.idle": "2023-06-07T22:10:41.847809Z",
     "shell.execute_reply": "2023-06-07T22:10:41.846023Z",
     "shell.execute_reply.started": "2023-06-07T22:10:41.839895Z"
    },
    "papermill": {
     "duration": 0.011854,
     "end_time": "2023-06-08T01:34:57.196378",
     "exception": false,
     "start_time": "2023-06-08T01:34:57.184524",
     "status": "completed"
    },
    "tags": []
   },
   "source": [
    "Cargamos el dataset sobre los clientes de una entidad bancaria"
   ]
  },
  {
   "cell_type": "code",
   "execution_count": 2,
   "id": "30fa5051",
   "metadata": {
    "execution": {
     "iopub.execute_input": "2023-06-08T01:34:57.225125Z",
     "iopub.status.busy": "2023-06-08T01:34:57.224250Z",
     "iopub.status.idle": "2023-06-08T01:34:57.298324Z",
     "shell.execute_reply": "2023-06-08T01:34:57.296868Z"
    },
    "papermill": {
     "duration": 0.091053,
     "end_time": "2023-06-08T01:34:57.301322",
     "exception": false,
     "start_time": "2023-06-08T01:34:57.210269",
     "status": "completed"
    },
    "tags": []
   },
   "outputs": [],
   "source": [
    "banco = pd.read_csv(\"/kaggle/input/bank-customer-churn/Customer-Churn-Records.csv\")"
   ]
  },
  {
   "cell_type": "markdown",
   "id": "4f9e1103",
   "metadata": {
    "papermill": {
     "duration": 0.012377,
     "end_time": "2023-06-08T01:34:57.326656",
     "exception": false,
     "start_time": "2023-06-08T01:34:57.314279",
     "status": "completed"
    },
    "tags": []
   },
   "source": [
    " Observamos cuantas filas y columnas contiene el dataset"
   ]
  },
  {
   "cell_type": "code",
   "execution_count": 3,
   "id": "cd12f320",
   "metadata": {
    "execution": {
     "iopub.execute_input": "2023-06-08T01:34:57.354522Z",
     "iopub.status.busy": "2023-06-08T01:34:57.353688Z",
     "iopub.status.idle": "2023-06-08T01:34:57.361952Z",
     "shell.execute_reply": "2023-06-08T01:34:57.360855Z"
    },
    "papermill": {
     "duration": 0.025031,
     "end_time": "2023-06-08T01:34:57.364759",
     "exception": false,
     "start_time": "2023-06-08T01:34:57.339728",
     "status": "completed"
    },
    "tags": []
   },
   "outputs": [
    {
     "data": {
      "text/plain": [
       "(10000, 18)"
      ]
     },
     "execution_count": 3,
     "metadata": {},
     "output_type": "execute_result"
    }
   ],
   "source": [
    "banco.shape"
   ]
  },
  {
   "cell_type": "markdown",
   "id": "1ffd7779",
   "metadata": {
    "papermill": {
     "duration": 0.012273,
     "end_time": "2023-06-08T01:34:57.389441",
     "exception": false,
     "start_time": "2023-06-08T01:34:57.377168",
     "status": "completed"
    },
    "tags": []
   },
   "source": [
    "Observamos las primeras 10 filas del dataset para tener darle un vistazo general"
   ]
  },
  {
   "cell_type": "code",
   "execution_count": 4,
   "id": "6054ec16",
   "metadata": {
    "execution": {
     "iopub.execute_input": "2023-06-08T01:34:57.417290Z",
     "iopub.status.busy": "2023-06-08T01:34:57.416447Z",
     "iopub.status.idle": "2023-06-08T01:34:57.459967Z",
     "shell.execute_reply": "2023-06-08T01:34:57.458603Z"
    },
    "papermill": {
     "duration": 0.060423,
     "end_time": "2023-06-08T01:34:57.462895",
     "exception": false,
     "start_time": "2023-06-08T01:34:57.402472",
     "status": "completed"
    },
    "tags": []
   },
   "outputs": [
    {
     "data": {
      "text/html": [
       "<div>\n",
       "<style scoped>\n",
       "    .dataframe tbody tr th:only-of-type {\n",
       "        vertical-align: middle;\n",
       "    }\n",
       "\n",
       "    .dataframe tbody tr th {\n",
       "        vertical-align: top;\n",
       "    }\n",
       "\n",
       "    .dataframe thead th {\n",
       "        text-align: right;\n",
       "    }\n",
       "</style>\n",
       "<table border=\"1\" class=\"dataframe\">\n",
       "  <thead>\n",
       "    <tr style=\"text-align: right;\">\n",
       "      <th></th>\n",
       "      <th>RowNumber</th>\n",
       "      <th>CustomerId</th>\n",
       "      <th>Surname</th>\n",
       "      <th>CreditScore</th>\n",
       "      <th>Geography</th>\n",
       "      <th>Gender</th>\n",
       "      <th>Age</th>\n",
       "      <th>Tenure</th>\n",
       "      <th>Balance</th>\n",
       "      <th>NumOfProducts</th>\n",
       "      <th>HasCrCard</th>\n",
       "      <th>IsActiveMember</th>\n",
       "      <th>EstimatedSalary</th>\n",
       "      <th>Exited</th>\n",
       "      <th>Complain</th>\n",
       "      <th>Satisfaction Score</th>\n",
       "      <th>Card Type</th>\n",
       "      <th>Point Earned</th>\n",
       "    </tr>\n",
       "  </thead>\n",
       "  <tbody>\n",
       "    <tr>\n",
       "      <th>0</th>\n",
       "      <td>1</td>\n",
       "      <td>15634602</td>\n",
       "      <td>Hargrave</td>\n",
       "      <td>619</td>\n",
       "      <td>France</td>\n",
       "      <td>Female</td>\n",
       "      <td>42</td>\n",
       "      <td>2</td>\n",
       "      <td>0.00</td>\n",
       "      <td>1</td>\n",
       "      <td>1</td>\n",
       "      <td>1</td>\n",
       "      <td>101348.88</td>\n",
       "      <td>1</td>\n",
       "      <td>1</td>\n",
       "      <td>2</td>\n",
       "      <td>DIAMOND</td>\n",
       "      <td>464</td>\n",
       "    </tr>\n",
       "    <tr>\n",
       "      <th>1</th>\n",
       "      <td>2</td>\n",
       "      <td>15647311</td>\n",
       "      <td>Hill</td>\n",
       "      <td>608</td>\n",
       "      <td>Spain</td>\n",
       "      <td>Female</td>\n",
       "      <td>41</td>\n",
       "      <td>1</td>\n",
       "      <td>83807.86</td>\n",
       "      <td>1</td>\n",
       "      <td>0</td>\n",
       "      <td>1</td>\n",
       "      <td>112542.58</td>\n",
       "      <td>0</td>\n",
       "      <td>1</td>\n",
       "      <td>3</td>\n",
       "      <td>DIAMOND</td>\n",
       "      <td>456</td>\n",
       "    </tr>\n",
       "    <tr>\n",
       "      <th>2</th>\n",
       "      <td>3</td>\n",
       "      <td>15619304</td>\n",
       "      <td>Onio</td>\n",
       "      <td>502</td>\n",
       "      <td>France</td>\n",
       "      <td>Female</td>\n",
       "      <td>42</td>\n",
       "      <td>8</td>\n",
       "      <td>159660.80</td>\n",
       "      <td>3</td>\n",
       "      <td>1</td>\n",
       "      <td>0</td>\n",
       "      <td>113931.57</td>\n",
       "      <td>1</td>\n",
       "      <td>1</td>\n",
       "      <td>3</td>\n",
       "      <td>DIAMOND</td>\n",
       "      <td>377</td>\n",
       "    </tr>\n",
       "    <tr>\n",
       "      <th>3</th>\n",
       "      <td>4</td>\n",
       "      <td>15701354</td>\n",
       "      <td>Boni</td>\n",
       "      <td>699</td>\n",
       "      <td>France</td>\n",
       "      <td>Female</td>\n",
       "      <td>39</td>\n",
       "      <td>1</td>\n",
       "      <td>0.00</td>\n",
       "      <td>2</td>\n",
       "      <td>0</td>\n",
       "      <td>0</td>\n",
       "      <td>93826.63</td>\n",
       "      <td>0</td>\n",
       "      <td>0</td>\n",
       "      <td>5</td>\n",
       "      <td>GOLD</td>\n",
       "      <td>350</td>\n",
       "    </tr>\n",
       "    <tr>\n",
       "      <th>4</th>\n",
       "      <td>5</td>\n",
       "      <td>15737888</td>\n",
       "      <td>Mitchell</td>\n",
       "      <td>850</td>\n",
       "      <td>Spain</td>\n",
       "      <td>Female</td>\n",
       "      <td>43</td>\n",
       "      <td>2</td>\n",
       "      <td>125510.82</td>\n",
       "      <td>1</td>\n",
       "      <td>1</td>\n",
       "      <td>1</td>\n",
       "      <td>79084.10</td>\n",
       "      <td>0</td>\n",
       "      <td>0</td>\n",
       "      <td>5</td>\n",
       "      <td>GOLD</td>\n",
       "      <td>425</td>\n",
       "    </tr>\n",
       "    <tr>\n",
       "      <th>5</th>\n",
       "      <td>6</td>\n",
       "      <td>15574012</td>\n",
       "      <td>Chu</td>\n",
       "      <td>645</td>\n",
       "      <td>Spain</td>\n",
       "      <td>Male</td>\n",
       "      <td>44</td>\n",
       "      <td>8</td>\n",
       "      <td>113755.78</td>\n",
       "      <td>2</td>\n",
       "      <td>1</td>\n",
       "      <td>0</td>\n",
       "      <td>149756.71</td>\n",
       "      <td>1</td>\n",
       "      <td>1</td>\n",
       "      <td>5</td>\n",
       "      <td>DIAMOND</td>\n",
       "      <td>484</td>\n",
       "    </tr>\n",
       "    <tr>\n",
       "      <th>6</th>\n",
       "      <td>7</td>\n",
       "      <td>15592531</td>\n",
       "      <td>Bartlett</td>\n",
       "      <td>822</td>\n",
       "      <td>France</td>\n",
       "      <td>Male</td>\n",
       "      <td>50</td>\n",
       "      <td>7</td>\n",
       "      <td>0.00</td>\n",
       "      <td>2</td>\n",
       "      <td>1</td>\n",
       "      <td>1</td>\n",
       "      <td>10062.80</td>\n",
       "      <td>0</td>\n",
       "      <td>0</td>\n",
       "      <td>2</td>\n",
       "      <td>SILVER</td>\n",
       "      <td>206</td>\n",
       "    </tr>\n",
       "    <tr>\n",
       "      <th>7</th>\n",
       "      <td>8</td>\n",
       "      <td>15656148</td>\n",
       "      <td>Obinna</td>\n",
       "      <td>376</td>\n",
       "      <td>Germany</td>\n",
       "      <td>Female</td>\n",
       "      <td>29</td>\n",
       "      <td>4</td>\n",
       "      <td>115046.74</td>\n",
       "      <td>4</td>\n",
       "      <td>1</td>\n",
       "      <td>0</td>\n",
       "      <td>119346.88</td>\n",
       "      <td>1</td>\n",
       "      <td>1</td>\n",
       "      <td>2</td>\n",
       "      <td>DIAMOND</td>\n",
       "      <td>282</td>\n",
       "    </tr>\n",
       "    <tr>\n",
       "      <th>8</th>\n",
       "      <td>9</td>\n",
       "      <td>15792365</td>\n",
       "      <td>He</td>\n",
       "      <td>501</td>\n",
       "      <td>France</td>\n",
       "      <td>Male</td>\n",
       "      <td>44</td>\n",
       "      <td>4</td>\n",
       "      <td>142051.07</td>\n",
       "      <td>2</td>\n",
       "      <td>0</td>\n",
       "      <td>1</td>\n",
       "      <td>74940.50</td>\n",
       "      <td>0</td>\n",
       "      <td>0</td>\n",
       "      <td>3</td>\n",
       "      <td>GOLD</td>\n",
       "      <td>251</td>\n",
       "    </tr>\n",
       "    <tr>\n",
       "      <th>9</th>\n",
       "      <td>10</td>\n",
       "      <td>15592389</td>\n",
       "      <td>H?</td>\n",
       "      <td>684</td>\n",
       "      <td>France</td>\n",
       "      <td>Male</td>\n",
       "      <td>27</td>\n",
       "      <td>2</td>\n",
       "      <td>134603.88</td>\n",
       "      <td>1</td>\n",
       "      <td>1</td>\n",
       "      <td>1</td>\n",
       "      <td>71725.73</td>\n",
       "      <td>0</td>\n",
       "      <td>0</td>\n",
       "      <td>3</td>\n",
       "      <td>GOLD</td>\n",
       "      <td>342</td>\n",
       "    </tr>\n",
       "  </tbody>\n",
       "</table>\n",
       "</div>"
      ],
      "text/plain": [
       "   RowNumber  CustomerId   Surname  CreditScore Geography  Gender  Age  \\\n",
       "0          1    15634602  Hargrave          619    France  Female   42   \n",
       "1          2    15647311      Hill          608     Spain  Female   41   \n",
       "2          3    15619304      Onio          502    France  Female   42   \n",
       "3          4    15701354      Boni          699    France  Female   39   \n",
       "4          5    15737888  Mitchell          850     Spain  Female   43   \n",
       "5          6    15574012       Chu          645     Spain    Male   44   \n",
       "6          7    15592531  Bartlett          822    France    Male   50   \n",
       "7          8    15656148    Obinna          376   Germany  Female   29   \n",
       "8          9    15792365        He          501    France    Male   44   \n",
       "9         10    15592389        H?          684    France    Male   27   \n",
       "\n",
       "   Tenure    Balance  NumOfProducts  HasCrCard  IsActiveMember  \\\n",
       "0       2       0.00              1          1               1   \n",
       "1       1   83807.86              1          0               1   \n",
       "2       8  159660.80              3          1               0   \n",
       "3       1       0.00              2          0               0   \n",
       "4       2  125510.82              1          1               1   \n",
       "5       8  113755.78              2          1               0   \n",
       "6       7       0.00              2          1               1   \n",
       "7       4  115046.74              4          1               0   \n",
       "8       4  142051.07              2          0               1   \n",
       "9       2  134603.88              1          1               1   \n",
       "\n",
       "   EstimatedSalary  Exited  Complain  Satisfaction Score Card Type  \\\n",
       "0        101348.88       1         1                   2   DIAMOND   \n",
       "1        112542.58       0         1                   3   DIAMOND   \n",
       "2        113931.57       1         1                   3   DIAMOND   \n",
       "3         93826.63       0         0                   5      GOLD   \n",
       "4         79084.10       0         0                   5      GOLD   \n",
       "5        149756.71       1         1                   5   DIAMOND   \n",
       "6         10062.80       0         0                   2    SILVER   \n",
       "7        119346.88       1         1                   2   DIAMOND   \n",
       "8         74940.50       0         0                   3      GOLD   \n",
       "9         71725.73       0         0                   3      GOLD   \n",
       "\n",
       "   Point Earned  \n",
       "0           464  \n",
       "1           456  \n",
       "2           377  \n",
       "3           350  \n",
       "4           425  \n",
       "5           484  \n",
       "6           206  \n",
       "7           282  \n",
       "8           251  \n",
       "9           342  "
      ]
     },
     "execution_count": 4,
     "metadata": {},
     "output_type": "execute_result"
    }
   ],
   "source": [
    "banco.head(10)"
   ]
  },
  {
   "cell_type": "markdown",
   "id": "3185c1a6",
   "metadata": {
    "papermill": {
     "duration": 0.012898,
     "end_time": "2023-06-08T01:34:57.489334",
     "exception": false,
     "start_time": "2023-06-08T01:34:57.476436",
     "status": "completed"
    },
    "tags": []
   },
   "source": [
    "Observamos el nombre de cada una de las columnas (variables) del dataset"
   ]
  },
  {
   "cell_type": "code",
   "execution_count": 5,
   "id": "3b72c60f",
   "metadata": {
    "execution": {
     "iopub.execute_input": "2023-06-08T01:34:57.517234Z",
     "iopub.status.busy": "2023-06-08T01:34:57.516838Z",
     "iopub.status.idle": "2023-06-08T01:34:57.524838Z",
     "shell.execute_reply": "2023-06-08T01:34:57.523650Z"
    },
    "papermill": {
     "duration": 0.024823,
     "end_time": "2023-06-08T01:34:57.527205",
     "exception": false,
     "start_time": "2023-06-08T01:34:57.502382",
     "status": "completed"
    },
    "tags": []
   },
   "outputs": [
    {
     "data": {
      "text/plain": [
       "Index(['RowNumber', 'CustomerId', 'Surname', 'CreditScore', 'Geography',\n",
       "       'Gender', 'Age', 'Tenure', 'Balance', 'NumOfProducts', 'HasCrCard',\n",
       "       'IsActiveMember', 'EstimatedSalary', 'Exited', 'Complain',\n",
       "       'Satisfaction Score', 'Card Type', 'Point Earned'],\n",
       "      dtype='object')"
      ]
     },
     "execution_count": 5,
     "metadata": {},
     "output_type": "execute_result"
    }
   ],
   "source": [
    "banco.columns"
   ]
  },
  {
   "cell_type": "markdown",
   "id": "99019e0c",
   "metadata": {
    "papermill": {
     "duration": 0.01299,
     "end_time": "2023-06-08T01:34:57.553843",
     "exception": false,
     "start_time": "2023-06-08T01:34:57.540853",
     "status": "completed"
    },
    "tags": []
   },
   "source": [
    "Observo si hay valores nulos contenidos en el dataset"
   ]
  },
  {
   "cell_type": "code",
   "execution_count": 6,
   "id": "6ed584dd",
   "metadata": {
    "execution": {
     "iopub.execute_input": "2023-06-08T01:34:57.583499Z",
     "iopub.status.busy": "2023-06-08T01:34:57.583056Z",
     "iopub.status.idle": "2023-06-08T01:34:57.607519Z",
     "shell.execute_reply": "2023-06-08T01:34:57.606670Z"
    },
    "papermill": {
     "duration": 0.042162,
     "end_time": "2023-06-08T01:34:57.610048",
     "exception": false,
     "start_time": "2023-06-08T01:34:57.567886",
     "status": "completed"
    },
    "tags": []
   },
   "outputs": [
    {
     "data": {
      "text/plain": [
       "RowNumber             0\n",
       "CustomerId            0\n",
       "Surname               0\n",
       "CreditScore           0\n",
       "Geography             0\n",
       "Gender                0\n",
       "Age                   0\n",
       "Tenure                0\n",
       "Balance               0\n",
       "NumOfProducts         0\n",
       "HasCrCard             0\n",
       "IsActiveMember        0\n",
       "EstimatedSalary       0\n",
       "Exited                0\n",
       "Complain              0\n",
       "Satisfaction Score    0\n",
       "Card Type             0\n",
       "Point Earned          0\n",
       "dtype: int64"
      ]
     },
     "execution_count": 6,
     "metadata": {},
     "output_type": "execute_result"
    }
   ],
   "source": [
    "banco.isna().sum()"
   ]
  },
  {
   "cell_type": "markdown",
   "id": "25abffd8",
   "metadata": {
    "papermill": {
     "duration": 0.012882,
     "end_time": "2023-06-08T01:34:57.636252",
     "exception": false,
     "start_time": "2023-06-08T01:34:57.623370",
     "status": "completed"
    },
    "tags": []
   },
   "source": [
    "Vemos en la tabla anterior que ninguna de las columnas posee valores nulos\n",
    "\n",
    "Ahora queremos ir removiendo aquellas columnas que sean insignificantes para nuestro posterior analisis\n",
    "\n",
    "Empezamos removiendo la columna de \"RowNumber\", ya que es una columna de tipo indice, y para eso ya tenemos el indice que por defecto nos aparece cuando observamos el dataset"
   ]
  },
  {
   "cell_type": "code",
   "execution_count": 7,
   "id": "b4147f7d",
   "metadata": {
    "execution": {
     "iopub.execute_input": "2023-06-08T01:34:57.665419Z",
     "iopub.status.busy": "2023-06-08T01:34:57.663958Z",
     "iopub.status.idle": "2023-06-08T01:34:57.675932Z",
     "shell.execute_reply": "2023-06-08T01:34:57.674764Z"
    },
    "papermill": {
     "duration": 0.028913,
     "end_time": "2023-06-08T01:34:57.678312",
     "exception": false,
     "start_time": "2023-06-08T01:34:57.649399",
     "status": "completed"
    },
    "tags": []
   },
   "outputs": [
    {
     "data": {
      "text/plain": [
       "0           1\n",
       "1           2\n",
       "2           3\n",
       "3           4\n",
       "4           5\n",
       "        ...  \n",
       "9995     9996\n",
       "9996     9997\n",
       "9997     9998\n",
       "9998     9999\n",
       "9999    10000\n",
       "Name: RowNumber, Length: 10000, dtype: int64"
      ]
     },
     "execution_count": 7,
     "metadata": {},
     "output_type": "execute_result"
    }
   ],
   "source": [
    "banco.pop(\"RowNumber\")"
   ]
  },
  {
   "cell_type": "markdown",
   "id": "de87bc77",
   "metadata": {
    "papermill": {
     "duration": 0.013144,
     "end_time": "2023-06-08T01:34:57.704793",
     "exception": false,
     "start_time": "2023-06-08T01:34:57.691649",
     "status": "completed"
    },
    "tags": []
   },
   "source": [
    "Lo que vamos a hacer es dejar la columna \"CustomerId\" como el indice de las filas"
   ]
  },
  {
   "cell_type": "code",
   "execution_count": 8,
   "id": "bb73ce27",
   "metadata": {
    "execution": {
     "iopub.execute_input": "2023-06-08T01:34:57.733279Z",
     "iopub.status.busy": "2023-06-08T01:34:57.732880Z",
     "iopub.status.idle": "2023-06-08T01:34:57.741868Z",
     "shell.execute_reply": "2023-06-08T01:34:57.740718Z"
    },
    "papermill": {
     "duration": 0.02682,
     "end_time": "2023-06-08T01:34:57.744859",
     "exception": false,
     "start_time": "2023-06-08T01:34:57.718039",
     "status": "completed"
    },
    "tags": []
   },
   "outputs": [],
   "source": [
    "banco = banco.set_index(\"CustomerId\")"
   ]
  },
  {
   "cell_type": "code",
   "execution_count": 9,
   "id": "8f2cd321",
   "metadata": {
    "execution": {
     "iopub.execute_input": "2023-06-08T01:34:57.774130Z",
     "iopub.status.busy": "2023-06-08T01:34:57.773200Z",
     "iopub.status.idle": "2023-06-08T01:34:57.792965Z",
     "shell.execute_reply": "2023-06-08T01:34:57.791829Z"
    },
    "papermill": {
     "duration": 0.037187,
     "end_time": "2023-06-08T01:34:57.795510",
     "exception": false,
     "start_time": "2023-06-08T01:34:57.758323",
     "status": "completed"
    },
    "tags": []
   },
   "outputs": [
    {
     "data": {
      "text/html": [
       "<div>\n",
       "<style scoped>\n",
       "    .dataframe tbody tr th:only-of-type {\n",
       "        vertical-align: middle;\n",
       "    }\n",
       "\n",
       "    .dataframe tbody tr th {\n",
       "        vertical-align: top;\n",
       "    }\n",
       "\n",
       "    .dataframe thead th {\n",
       "        text-align: right;\n",
       "    }\n",
       "</style>\n",
       "<table border=\"1\" class=\"dataframe\">\n",
       "  <thead>\n",
       "    <tr style=\"text-align: right;\">\n",
       "      <th></th>\n",
       "      <th>Surname</th>\n",
       "      <th>CreditScore</th>\n",
       "      <th>Geography</th>\n",
       "      <th>Gender</th>\n",
       "      <th>Age</th>\n",
       "      <th>Tenure</th>\n",
       "      <th>Balance</th>\n",
       "      <th>NumOfProducts</th>\n",
       "      <th>HasCrCard</th>\n",
       "      <th>IsActiveMember</th>\n",
       "      <th>EstimatedSalary</th>\n",
       "      <th>Exited</th>\n",
       "      <th>Complain</th>\n",
       "      <th>Satisfaction Score</th>\n",
       "      <th>Card Type</th>\n",
       "      <th>Point Earned</th>\n",
       "    </tr>\n",
       "    <tr>\n",
       "      <th>CustomerId</th>\n",
       "      <th></th>\n",
       "      <th></th>\n",
       "      <th></th>\n",
       "      <th></th>\n",
       "      <th></th>\n",
       "      <th></th>\n",
       "      <th></th>\n",
       "      <th></th>\n",
       "      <th></th>\n",
       "      <th></th>\n",
       "      <th></th>\n",
       "      <th></th>\n",
       "      <th></th>\n",
       "      <th></th>\n",
       "      <th></th>\n",
       "      <th></th>\n",
       "    </tr>\n",
       "  </thead>\n",
       "  <tbody>\n",
       "    <tr>\n",
       "      <th>15634602</th>\n",
       "      <td>Hargrave</td>\n",
       "      <td>619</td>\n",
       "      <td>France</td>\n",
       "      <td>Female</td>\n",
       "      <td>42</td>\n",
       "      <td>2</td>\n",
       "      <td>0.00</td>\n",
       "      <td>1</td>\n",
       "      <td>1</td>\n",
       "      <td>1</td>\n",
       "      <td>101348.88</td>\n",
       "      <td>1</td>\n",
       "      <td>1</td>\n",
       "      <td>2</td>\n",
       "      <td>DIAMOND</td>\n",
       "      <td>464</td>\n",
       "    </tr>\n",
       "    <tr>\n",
       "      <th>15647311</th>\n",
       "      <td>Hill</td>\n",
       "      <td>608</td>\n",
       "      <td>Spain</td>\n",
       "      <td>Female</td>\n",
       "      <td>41</td>\n",
       "      <td>1</td>\n",
       "      <td>83807.86</td>\n",
       "      <td>1</td>\n",
       "      <td>0</td>\n",
       "      <td>1</td>\n",
       "      <td>112542.58</td>\n",
       "      <td>0</td>\n",
       "      <td>1</td>\n",
       "      <td>3</td>\n",
       "      <td>DIAMOND</td>\n",
       "      <td>456</td>\n",
       "    </tr>\n",
       "    <tr>\n",
       "      <th>15619304</th>\n",
       "      <td>Onio</td>\n",
       "      <td>502</td>\n",
       "      <td>France</td>\n",
       "      <td>Female</td>\n",
       "      <td>42</td>\n",
       "      <td>8</td>\n",
       "      <td>159660.80</td>\n",
       "      <td>3</td>\n",
       "      <td>1</td>\n",
       "      <td>0</td>\n",
       "      <td>113931.57</td>\n",
       "      <td>1</td>\n",
       "      <td>1</td>\n",
       "      <td>3</td>\n",
       "      <td>DIAMOND</td>\n",
       "      <td>377</td>\n",
       "    </tr>\n",
       "    <tr>\n",
       "      <th>15701354</th>\n",
       "      <td>Boni</td>\n",
       "      <td>699</td>\n",
       "      <td>France</td>\n",
       "      <td>Female</td>\n",
       "      <td>39</td>\n",
       "      <td>1</td>\n",
       "      <td>0.00</td>\n",
       "      <td>2</td>\n",
       "      <td>0</td>\n",
       "      <td>0</td>\n",
       "      <td>93826.63</td>\n",
       "      <td>0</td>\n",
       "      <td>0</td>\n",
       "      <td>5</td>\n",
       "      <td>GOLD</td>\n",
       "      <td>350</td>\n",
       "    </tr>\n",
       "    <tr>\n",
       "      <th>15737888</th>\n",
       "      <td>Mitchell</td>\n",
       "      <td>850</td>\n",
       "      <td>Spain</td>\n",
       "      <td>Female</td>\n",
       "      <td>43</td>\n",
       "      <td>2</td>\n",
       "      <td>125510.82</td>\n",
       "      <td>1</td>\n",
       "      <td>1</td>\n",
       "      <td>1</td>\n",
       "      <td>79084.10</td>\n",
       "      <td>0</td>\n",
       "      <td>0</td>\n",
       "      <td>5</td>\n",
       "      <td>GOLD</td>\n",
       "      <td>425</td>\n",
       "    </tr>\n",
       "  </tbody>\n",
       "</table>\n",
       "</div>"
      ],
      "text/plain": [
       "             Surname  CreditScore Geography  Gender  Age  Tenure    Balance  \\\n",
       "CustomerId                                                                    \n",
       "15634602    Hargrave          619    France  Female   42       2       0.00   \n",
       "15647311        Hill          608     Spain  Female   41       1   83807.86   \n",
       "15619304        Onio          502    France  Female   42       8  159660.80   \n",
       "15701354        Boni          699    France  Female   39       1       0.00   \n",
       "15737888    Mitchell          850     Spain  Female   43       2  125510.82   \n",
       "\n",
       "            NumOfProducts  HasCrCard  IsActiveMember  EstimatedSalary  Exited  \\\n",
       "CustomerId                                                                      \n",
       "15634602                1          1               1        101348.88       1   \n",
       "15647311                1          0               1        112542.58       0   \n",
       "15619304                3          1               0        113931.57       1   \n",
       "15701354                2          0               0         93826.63       0   \n",
       "15737888                1          1               1         79084.10       0   \n",
       "\n",
       "            Complain  Satisfaction Score Card Type  Point Earned  \n",
       "CustomerId                                                        \n",
       "15634602           1                   2   DIAMOND           464  \n",
       "15647311           1                   3   DIAMOND           456  \n",
       "15619304           1                   3   DIAMOND           377  \n",
       "15701354           0                   5      GOLD           350  \n",
       "15737888           0                   5      GOLD           425  "
      ]
     },
     "execution_count": 9,
     "metadata": {},
     "output_type": "execute_result"
    }
   ],
   "source": [
    "banco.head()"
   ]
  },
  {
   "cell_type": "markdown",
   "id": "d61da45e",
   "metadata": {
    "papermill": {
     "duration": 0.013504,
     "end_time": "2023-06-08T01:34:57.822796",
     "exception": false,
     "start_time": "2023-06-08T01:34:57.809292",
     "status": "completed"
    },
    "tags": []
   },
   "source": [
    "Ahora veamos mas en detalle cada una de las variables "
   ]
  },
  {
   "cell_type": "code",
   "execution_count": 10,
   "id": "2c35af2a",
   "metadata": {
    "execution": {
     "iopub.execute_input": "2023-06-08T01:34:57.852559Z",
     "iopub.status.busy": "2023-06-08T01:34:57.852105Z",
     "iopub.status.idle": "2023-06-08T01:34:57.913999Z",
     "shell.execute_reply": "2023-06-08T01:34:57.912886Z"
    },
    "papermill": {
     "duration": 0.080181,
     "end_time": "2023-06-08T01:34:57.916866",
     "exception": false,
     "start_time": "2023-06-08T01:34:57.836685",
     "status": "completed"
    },
    "tags": []
   },
   "outputs": [
    {
     "data": {
      "text/html": [
       "<div>\n",
       "<style scoped>\n",
       "    .dataframe tbody tr th:only-of-type {\n",
       "        vertical-align: middle;\n",
       "    }\n",
       "\n",
       "    .dataframe tbody tr th {\n",
       "        vertical-align: top;\n",
       "    }\n",
       "\n",
       "    .dataframe thead th {\n",
       "        text-align: right;\n",
       "    }\n",
       "</style>\n",
       "<table border=\"1\" class=\"dataframe\">\n",
       "  <thead>\n",
       "    <tr style=\"text-align: right;\">\n",
       "      <th></th>\n",
       "      <th>count</th>\n",
       "      <th>mean</th>\n",
       "      <th>std</th>\n",
       "      <th>min</th>\n",
       "      <th>25%</th>\n",
       "      <th>50%</th>\n",
       "      <th>75%</th>\n",
       "      <th>max</th>\n",
       "    </tr>\n",
       "  </thead>\n",
       "  <tbody>\n",
       "    <tr>\n",
       "      <th>CreditScore</th>\n",
       "      <td>10000.0</td>\n",
       "      <td>650.528800</td>\n",
       "      <td>96.653299</td>\n",
       "      <td>350.00</td>\n",
       "      <td>584.00</td>\n",
       "      <td>652.000</td>\n",
       "      <td>718.0000</td>\n",
       "      <td>850.00</td>\n",
       "    </tr>\n",
       "    <tr>\n",
       "      <th>Age</th>\n",
       "      <td>10000.0</td>\n",
       "      <td>38.921800</td>\n",
       "      <td>10.487806</td>\n",
       "      <td>18.00</td>\n",
       "      <td>32.00</td>\n",
       "      <td>37.000</td>\n",
       "      <td>44.0000</td>\n",
       "      <td>92.00</td>\n",
       "    </tr>\n",
       "    <tr>\n",
       "      <th>Tenure</th>\n",
       "      <td>10000.0</td>\n",
       "      <td>5.012800</td>\n",
       "      <td>2.892174</td>\n",
       "      <td>0.00</td>\n",
       "      <td>3.00</td>\n",
       "      <td>5.000</td>\n",
       "      <td>7.0000</td>\n",
       "      <td>10.00</td>\n",
       "    </tr>\n",
       "    <tr>\n",
       "      <th>Balance</th>\n",
       "      <td>10000.0</td>\n",
       "      <td>76485.889288</td>\n",
       "      <td>62397.405202</td>\n",
       "      <td>0.00</td>\n",
       "      <td>0.00</td>\n",
       "      <td>97198.540</td>\n",
       "      <td>127644.2400</td>\n",
       "      <td>250898.09</td>\n",
       "    </tr>\n",
       "    <tr>\n",
       "      <th>NumOfProducts</th>\n",
       "      <td>10000.0</td>\n",
       "      <td>1.530200</td>\n",
       "      <td>0.581654</td>\n",
       "      <td>1.00</td>\n",
       "      <td>1.00</td>\n",
       "      <td>1.000</td>\n",
       "      <td>2.0000</td>\n",
       "      <td>4.00</td>\n",
       "    </tr>\n",
       "    <tr>\n",
       "      <th>HasCrCard</th>\n",
       "      <td>10000.0</td>\n",
       "      <td>0.705500</td>\n",
       "      <td>0.455840</td>\n",
       "      <td>0.00</td>\n",
       "      <td>0.00</td>\n",
       "      <td>1.000</td>\n",
       "      <td>1.0000</td>\n",
       "      <td>1.00</td>\n",
       "    </tr>\n",
       "    <tr>\n",
       "      <th>IsActiveMember</th>\n",
       "      <td>10000.0</td>\n",
       "      <td>0.515100</td>\n",
       "      <td>0.499797</td>\n",
       "      <td>0.00</td>\n",
       "      <td>0.00</td>\n",
       "      <td>1.000</td>\n",
       "      <td>1.0000</td>\n",
       "      <td>1.00</td>\n",
       "    </tr>\n",
       "    <tr>\n",
       "      <th>EstimatedSalary</th>\n",
       "      <td>10000.0</td>\n",
       "      <td>100090.239881</td>\n",
       "      <td>57510.492818</td>\n",
       "      <td>11.58</td>\n",
       "      <td>51002.11</td>\n",
       "      <td>100193.915</td>\n",
       "      <td>149388.2475</td>\n",
       "      <td>199992.48</td>\n",
       "    </tr>\n",
       "    <tr>\n",
       "      <th>Exited</th>\n",
       "      <td>10000.0</td>\n",
       "      <td>0.203800</td>\n",
       "      <td>0.402842</td>\n",
       "      <td>0.00</td>\n",
       "      <td>0.00</td>\n",
       "      <td>0.000</td>\n",
       "      <td>0.0000</td>\n",
       "      <td>1.00</td>\n",
       "    </tr>\n",
       "    <tr>\n",
       "      <th>Complain</th>\n",
       "      <td>10000.0</td>\n",
       "      <td>0.204400</td>\n",
       "      <td>0.403283</td>\n",
       "      <td>0.00</td>\n",
       "      <td>0.00</td>\n",
       "      <td>0.000</td>\n",
       "      <td>0.0000</td>\n",
       "      <td>1.00</td>\n",
       "    </tr>\n",
       "    <tr>\n",
       "      <th>Satisfaction Score</th>\n",
       "      <td>10000.0</td>\n",
       "      <td>3.013800</td>\n",
       "      <td>1.405919</td>\n",
       "      <td>1.00</td>\n",
       "      <td>2.00</td>\n",
       "      <td>3.000</td>\n",
       "      <td>4.0000</td>\n",
       "      <td>5.00</td>\n",
       "    </tr>\n",
       "    <tr>\n",
       "      <th>Point Earned</th>\n",
       "      <td>10000.0</td>\n",
       "      <td>606.515100</td>\n",
       "      <td>225.924839</td>\n",
       "      <td>119.00</td>\n",
       "      <td>410.00</td>\n",
       "      <td>605.000</td>\n",
       "      <td>801.0000</td>\n",
       "      <td>1000.00</td>\n",
       "    </tr>\n",
       "  </tbody>\n",
       "</table>\n",
       "</div>"
      ],
      "text/plain": [
       "                      count           mean           std     min       25%  \\\n",
       "CreditScore         10000.0     650.528800     96.653299  350.00    584.00   \n",
       "Age                 10000.0      38.921800     10.487806   18.00     32.00   \n",
       "Tenure              10000.0       5.012800      2.892174    0.00      3.00   \n",
       "Balance             10000.0   76485.889288  62397.405202    0.00      0.00   \n",
       "NumOfProducts       10000.0       1.530200      0.581654    1.00      1.00   \n",
       "HasCrCard           10000.0       0.705500      0.455840    0.00      0.00   \n",
       "IsActiveMember      10000.0       0.515100      0.499797    0.00      0.00   \n",
       "EstimatedSalary     10000.0  100090.239881  57510.492818   11.58  51002.11   \n",
       "Exited              10000.0       0.203800      0.402842    0.00      0.00   \n",
       "Complain            10000.0       0.204400      0.403283    0.00      0.00   \n",
       "Satisfaction Score  10000.0       3.013800      1.405919    1.00      2.00   \n",
       "Point Earned        10000.0     606.515100    225.924839  119.00    410.00   \n",
       "\n",
       "                           50%          75%        max  \n",
       "CreditScore            652.000     718.0000     850.00  \n",
       "Age                     37.000      44.0000      92.00  \n",
       "Tenure                   5.000       7.0000      10.00  \n",
       "Balance              97198.540  127644.2400  250898.09  \n",
       "NumOfProducts            1.000       2.0000       4.00  \n",
       "HasCrCard                1.000       1.0000       1.00  \n",
       "IsActiveMember           1.000       1.0000       1.00  \n",
       "EstimatedSalary     100193.915  149388.2475  199992.48  \n",
       "Exited                   0.000       0.0000       1.00  \n",
       "Complain                 0.000       0.0000       1.00  \n",
       "Satisfaction Score       3.000       4.0000       5.00  \n",
       "Point Earned           605.000     801.0000    1000.00  "
      ]
     },
     "execution_count": 10,
     "metadata": {},
     "output_type": "execute_result"
    }
   ],
   "source": [
    "banco.describe().T"
   ]
  },
  {
   "cell_type": "markdown",
   "id": "0de28983",
   "metadata": {
    "papermill": {
     "duration": 0.013854,
     "end_time": "2023-06-08T01:34:57.944921",
     "exception": false,
     "start_time": "2023-06-08T01:34:57.931067",
     "status": "completed"
    },
    "tags": []
   },
   "source": [
    "Puedo graficar la columa \"Age\" para poder ver la distribucion de cada uno de los casos e incluso observar como se dividen entre los difertenes cuartiles, tal como lo pudimos observar en la tabla anterior"
   ]
  },
  {
   "cell_type": "code",
   "execution_count": 11,
   "id": "32fe40f0",
   "metadata": {
    "execution": {
     "iopub.execute_input": "2023-06-08T01:34:57.975021Z",
     "iopub.status.busy": "2023-06-08T01:34:57.974647Z",
     "iopub.status.idle": "2023-06-08T01:34:58.271495Z",
     "shell.execute_reply": "2023-06-08T01:34:58.270232Z"
    },
    "papermill": {
     "duration": 0.315233,
     "end_time": "2023-06-08T01:34:58.274252",
     "exception": false,
     "start_time": "2023-06-08T01:34:57.959019",
     "status": "completed"
    },
    "tags": []
   },
   "outputs": [
    {
     "data": {
      "image/png": "[encoded data removed]",
      "text/plain": [
       "<Figure size 640x480 with 1 Axes>"
      ]
     },
     "metadata": {},
     "output_type": "display_data"
    }
   ],
   "source": [
    "age = banco.loc[:,\"Age\"]\n",
    "plt.yticks(np.arange(10, 100, 5))\n",
    "plt.grid(True)\n",
    "plt.boxplot(age)\n",
    "plt.show()"
   ]
  },
  {
   "cell_type": "markdown",
   "id": "98cf8fee",
   "metadata": {
    "papermill": {
     "duration": 0.01497,
     "end_time": "2023-06-08T01:34:58.303897",
     "exception": false,
     "start_time": "2023-06-08T01:34:58.288927",
     "status": "completed"
    },
    "tags": []
   },
   "source": [
    "Los circulos que estan por encima del valor 65 son considerados outliers. Son casos atipicos\n",
    "\n",
    "La linea naranja nos indica que ahi esta media de esta variable\n",
    "\n",
    "Puedo tener a mano cada valor correspondiente a cada cuartil de esta variable para poder tener una mejor idea del comportamiento de esta"
   ]
  },
  {
   "cell_type": "code",
   "execution_count": 12,
   "id": "bb5cccb7",
   "metadata": {
    "execution": {
     "iopub.execute_input": "2023-06-08T01:34:58.335186Z",
     "iopub.status.busy": "2023-06-08T01:34:58.334744Z",
     "iopub.status.idle": "2023-06-08T01:34:58.345820Z",
     "shell.execute_reply": "2023-06-08T01:34:58.344706Z"
    },
    "papermill": {
     "duration": 0.029965,
     "end_time": "2023-06-08T01:34:58.348434",
     "exception": false,
     "start_time": "2023-06-08T01:34:58.318469",
     "status": "completed"
    },
    "tags": []
   },
   "outputs": [
    {
     "data": {
      "text/plain": [
       "(18, 32.0, 37.0, 44.0, 92)"
      ]
     },
     "execution_count": 12,
     "metadata": {},
     "output_type": "execute_result"
    }
   ],
   "source": [
    "(np.min(age), np.quantile(age, 0.25), np.median(age), np.quantile(age, 0.75), np.max(age))"
   ]
  },
  {
   "cell_type": "markdown",
   "id": "2d1ae662",
   "metadata": {
    "papermill": {
     "duration": 0.014373,
     "end_time": "2023-06-08T01:34:58.377856",
     "exception": false,
     "start_time": "2023-06-08T01:34:58.363483",
     "status": "completed"
    },
    "tags": []
   },
   "source": [
    "Puedo usar la tabla crosstab de pandas para poder cruzar dos variables del dataset a ver como se distribuyen los casos. Ademas le puedo agregar diferentes metricas para que sea mas facil su lectura\n",
    "\n",
    "Vamos a cruzar las variables \"Exited\" y \"Complain\" para observar cuantas de aquellas personas que tuvieron alguna queja, despues dejaron de ser clientes del banco.\n",
    "\n",
    "\"Exited\" tiene dos valores: 1 (Si) y 0 (No) y \"Complain\" tiene dos valores tambien: 1 (Si) y 0 (No)"
   ]
  },
  {
   "cell_type": "code",
   "execution_count": 13,
   "id": "31165bc2",
   "metadata": {
    "execution": {
     "iopub.execute_input": "2023-06-08T01:34:58.410177Z",
     "iopub.status.busy": "2023-06-08T01:34:58.409752Z",
     "iopub.status.idle": "2023-06-08T01:34:58.777461Z",
     "shell.execute_reply": "2023-06-08T01:34:58.776255Z"
    },
    "papermill": {
     "duration": 0.387172,
     "end_time": "2023-06-08T01:34:58.779867",
     "exception": false,
     "start_time": "2023-06-08T01:34:58.392695",
     "status": "completed"
    },
    "tags": []
   },
   "outputs": [
    {
     "data": {
      "text/plain": [
       "<Axes: xlabel='Complain', ylabel='Exited'>"
      ]
     },
     "execution_count": 13,
     "metadata": {},
     "output_type": "execute_result"
    },
    {
     "data": {
      "image/png": "[encoded data removed]",
      "text/plain": [
       "<Figure size 640x480 with 2 Axes>"
      ]
     },
     "metadata": {},
     "output_type": "display_data"
    }
   ],
   "source": [
    "tabla_frecuencia = pd.crosstab(banco['Exited'], banco['Complain'])\n",
    "sns.heatmap(tabla_frecuencia, cmap=\"YlGnBu\", annot=True, fmt=\"d\")"
   ]
  },
  {
   "cell_type": "markdown",
   "id": "b0d685b1",
   "metadata": {
    "papermill": {
     "duration": 0.014821,
     "end_time": "2023-06-08T01:34:58.809876",
     "exception": false,
     "start_time": "2023-06-08T01:34:58.795055",
     "status": "completed"
    },
    "tags": []
   },
   "source": [
    "Con seaborn le podemos agregar una intensidad de colores dependiendo de la cantidad de casos en cada casillero\n",
    "\n",
    "Si quiero observar la correlacion entre todas las variables, primero me tengo que asegurar de que todas las variables puedan graficarse en la tabla. Sin son variables del tipo \"object\" entonces no van a figurar en la tabla"
   ]
  },
  {
   "cell_type": "code",
   "execution_count": 14,
   "id": "7b4af470",
   "metadata": {
    "execution": {
     "iopub.execute_input": "2023-06-08T01:34:58.842954Z",
     "iopub.status.busy": "2023-06-08T01:34:58.842504Z",
     "iopub.status.idle": "2023-06-08T01:34:58.878372Z",
     "shell.execute_reply": "2023-06-08T01:34:58.877300Z"
    },
    "papermill": {
     "duration": 0.055698,
     "end_time": "2023-06-08T01:34:58.881247",
     "exception": false,
     "start_time": "2023-06-08T01:34:58.825549",
     "status": "completed"
    },
    "tags": []
   },
   "outputs": [
    {
     "name": "stdout",
     "output_type": "stream",
     "text": [
      "<class 'pandas.core.frame.DataFrame'>\n",
      "Int64Index: 10000 entries, 15634602 to 15628319\n",
      "Data columns (total 16 columns):\n",
      " #   Column              Non-Null Count  Dtype  \n",
      "---  ------              --------------  -----  \n",
      " 0   Surname             10000 non-null  object \n",
      " 1   CreditScore         10000 non-null  int64  \n",
      " 2   Geography           10000 non-null  object \n",
      " 3   Gender              10000 non-null  object \n",
      " 4   Age                 10000 non-null  int64  \n",
      " 5   Tenure              10000 non-null  int64  \n",
      " 6   Balance             10000 non-null  float64\n",
      " 7   NumOfProducts       10000 non-null  int64  \n",
      " 8   HasCrCard           10000 non-null  int64  \n",
      " 9   IsActiveMember      10000 non-null  int64  \n",
      " 10  EstimatedSalary     10000 non-null  float64\n",
      " 11  Exited              10000 non-null  int64  \n",
      " 12  Complain            10000 non-null  int64  \n",
      " 13  Satisfaction Score  10000 non-null  int64  \n",
      " 14  Card Type           10000 non-null  object \n",
      " 15  Point Earned        10000 non-null  int64  \n",
      "dtypes: float64(2), int64(10), object(4)\n",
      "memory usage: 1.3+ MB\n"
     ]
    }
   ],
   "source": [
    "banco.info()"
   ]
  },
  {
   "cell_type": "markdown",
   "id": "d4e1b6f2",
   "metadata": {
    "papermill": {
     "duration": 0.015631,
     "end_time": "2023-06-08T01:34:58.912568",
     "exception": false,
     "start_time": "2023-06-08T01:34:58.896937",
     "status": "completed"
    },
    "tags": []
   },
   "source": [
    "En la tabla de arriba podemos observar que hay 4 variables que son del tipo \"object\". Lo que vamos a hacer es codificarlas\n",
    "\n",
    "Pero si son muchas dimensiones por variable, no sera un trabajo engorroso tener de codificar una por una?\n",
    "\n",
    "Lo veremos observando cuantos valores unicos hay por cada variable"
   ]
  },
  {
   "cell_type": "code",
   "execution_count": 15,
   "id": "de805c2a",
   "metadata": {
    "execution": {
     "iopub.execute_input": "2023-06-08T01:34:58.946238Z",
     "iopub.status.busy": "2023-06-08T01:34:58.945819Z",
     "iopub.status.idle": "2023-06-08T01:34:58.957668Z",
     "shell.execute_reply": "2023-06-08T01:34:58.955956Z"
    },
    "papermill": {
     "duration": 0.031815,
     "end_time": "2023-06-08T01:34:58.960362",
     "exception": false,
     "start_time": "2023-06-08T01:34:58.928547",
     "status": "completed"
    },
    "tags": []
   },
   "outputs": [
    {
     "name": "stdout",
     "output_type": "stream",
     "text": [
      "Valores unicos de Gender:  \n",
      "['Female' 'Male']\n",
      "                           \n",
      "Valores unicos de Geography: \n",
      "['France' 'Spain' 'Germany']\n",
      "                           \n",
      "Valores unicos de Card Type: \n",
      "['DIAMOND' 'GOLD' 'SILVER' 'PLATINUM']\n"
     ]
    }
   ],
   "source": [
    "print(\"Valores unicos de Gender:  \")\n",
    "print(banco.Gender.unique())\n",
    "\n",
    "print(\"                           \")\n",
    "\n",
    "print(\"Valores unicos de Geography: \")\n",
    "print(banco.Geography.unique())\n",
    "\n",
    "print(\"                           \")\n",
    "\n",
    "print(\"Valores unicos de Card Type: \")\n",
    "print(banco[\"Card Type\"].unique())"
   ]
  },
  {
   "cell_type": "markdown",
   "id": "7ce238b0",
   "metadata": {
    "papermill": {
     "duration": 0.015347,
     "end_time": "2023-06-08T01:34:58.991680",
     "exception": false,
     "start_time": "2023-06-08T01:34:58.976333",
     "status": "completed"
    },
    "tags": []
   },
   "source": [
    "Son pocas las dimensiones por cada una de las variables, por lo que las codificaremos manualmente:"
   ]
  },
  {
   "cell_type": "code",
   "execution_count": 16,
   "id": "1c4b0e34",
   "metadata": {
    "execution": {
     "iopub.execute_input": "2023-06-08T01:34:59.024793Z",
     "iopub.status.busy": "2023-06-08T01:34:59.024371Z",
     "iopub.status.idle": "2023-06-08T01:34:59.039797Z",
     "shell.execute_reply": "2023-06-08T01:34:59.038580Z"
    },
    "papermill": {
     "duration": 0.03484,
     "end_time": "2023-06-08T01:34:59.042226",
     "exception": false,
     "start_time": "2023-06-08T01:34:59.007386",
     "status": "completed"
    },
    "tags": []
   },
   "outputs": [],
   "source": [
    "codificacion_manual = {\"Male\": 1, \"Female\": 2}\n",
    "banco[\"Gender\"] = banco[\"Gender\"].map(codificacion_manual)\n",
    "\n",
    "cod_manual = {\"Spain\": 1, \"France\": 2, \"Germany\": 3}\n",
    "banco[\"Geography\"] = banco[\"Geography\"].map(cod_manual)\n",
    "\n",
    "c_manual = {\"DIAMOND\": 1, \"GOLD\": 2, \"PLATINUM\": 3, \"SILVER\": 4}\n",
    "banco[\"Card Type\"] = banco[\"Card Type\"].map(c_manual)"
   ]
  },
  {
   "cell_type": "markdown",
   "id": "28499da7",
   "metadata": {
    "execution": {
     "iopub.execute_input": "2023-06-07T22:46:41.809522Z",
     "iopub.status.busy": "2023-06-07T22:46:41.809054Z",
     "iopub.status.idle": "2023-06-07T22:46:41.816970Z",
     "shell.execute_reply": "2023-06-07T22:46:41.815382Z",
     "shell.execute_reply.started": "2023-06-07T22:46:41.809490Z"
    },
    "papermill": {
     "duration": 0.016161,
     "end_time": "2023-06-08T01:34:59.074265",
     "exception": false,
     "start_time": "2023-06-08T01:34:59.058104",
     "status": "completed"
    },
    "tags": []
   },
   "source": [
    "Y ahora veamos si funciono, mostrando de nuevo las primeras 5 filas del dataset"
   ]
  },
  {
   "cell_type": "code",
   "execution_count": 17,
   "id": "86ef24de",
   "metadata": {
    "execution": {
     "iopub.execute_input": "2023-06-08T01:34:59.107660Z",
     "iopub.status.busy": "2023-06-08T01:34:59.107233Z",
     "iopub.status.idle": "2023-06-08T01:34:59.126453Z",
     "shell.execute_reply": "2023-06-08T01:34:59.125589Z"
    },
    "papermill": {
     "duration": 0.038585,
     "end_time": "2023-06-08T01:34:59.128794",
     "exception": false,
     "start_time": "2023-06-08T01:34:59.090209",
     "status": "completed"
    },
    "tags": []
   },
   "outputs": [
    {
     "data": {
      "text/html": [
       "<div>\n",
       "<style scoped>\n",
       "    .dataframe tbody tr th:only-of-type {\n",
       "        vertical-align: middle;\n",
       "    }\n",
       "\n",
       "    .dataframe tbody tr th {\n",
       "        vertical-align: top;\n",
       "    }\n",
       "\n",
       "    .dataframe thead th {\n",
       "        text-align: right;\n",
       "    }\n",
       "</style>\n",
       "<table border=\"1\" class=\"dataframe\">\n",
       "  <thead>\n",
       "    <tr style=\"text-align: right;\">\n",
       "      <th></th>\n",
       "      <th>Surname</th>\n",
       "      <th>CreditScore</th>\n",
       "      <th>Geography</th>\n",
       "      <th>Gender</th>\n",
       "      <th>Age</th>\n",
       "      <th>Tenure</th>\n",
       "      <th>Balance</th>\n",
       "      <th>NumOfProducts</th>\n",
       "      <th>HasCrCard</th>\n",
       "      <th>IsActiveMember</th>\n",
       "      <th>EstimatedSalary</th>\n",
       "      <th>Exited</th>\n",
       "      <th>Complain</th>\n",
       "      <th>Satisfaction Score</th>\n",
       "      <th>Card Type</th>\n",
       "      <th>Point Earned</th>\n",
       "    </tr>\n",
       "    <tr>\n",
       "      <th>CustomerId</th>\n",
       "      <th></th>\n",
       "      <th></th>\n",
       "      <th></th>\n",
       "      <th></th>\n",
       "      <th></th>\n",
       "      <th></th>\n",
       "      <th></th>\n",
       "      <th></th>\n",
       "      <th></th>\n",
       "      <th></th>\n",
       "      <th></th>\n",
       "      <th></th>\n",
       "      <th></th>\n",
       "      <th></th>\n",
       "      <th></th>\n",
       "      <th></th>\n",
       "    </tr>\n",
       "  </thead>\n",
       "  <tbody>\n",
       "    <tr>\n",
       "      <th>15634602</th>\n",
       "      <td>Hargrave</td>\n",
       "      <td>619</td>\n",
       "      <td>2</td>\n",
       "      <td>2</td>\n",
       "      <td>42</td>\n",
       "      <td>2</td>\n",
       "      <td>0.00</td>\n",
       "      <td>1</td>\n",
       "      <td>1</td>\n",
       "      <td>1</td>\n",
       "      <td>101348.88</td>\n",
       "      <td>1</td>\n",
       "      <td>1</td>\n",
       "      <td>2</td>\n",
       "      <td>1</td>\n",
       "      <td>464</td>\n",
       "    </tr>\n",
       "    <tr>\n",
       "      <th>15647311</th>\n",
       "      <td>Hill</td>\n",
       "      <td>608</td>\n",
       "      <td>1</td>\n",
       "      <td>2</td>\n",
       "      <td>41</td>\n",
       "      <td>1</td>\n",
       "      <td>83807.86</td>\n",
       "      <td>1</td>\n",
       "      <td>0</td>\n",
       "      <td>1</td>\n",
       "      <td>112542.58</td>\n",
       "      <td>0</td>\n",
       "      <td>1</td>\n",
       "      <td>3</td>\n",
       "      <td>1</td>\n",
       "      <td>456</td>\n",
       "    </tr>\n",
       "    <tr>\n",
       "      <th>15619304</th>\n",
       "      <td>Onio</td>\n",
       "      <td>502</td>\n",
       "      <td>2</td>\n",
       "      <td>2</td>\n",
       "      <td>42</td>\n",
       "      <td>8</td>\n",
       "      <td>159660.80</td>\n",
       "      <td>3</td>\n",
       "      <td>1</td>\n",
       "      <td>0</td>\n",
       "      <td>113931.57</td>\n",
       "      <td>1</td>\n",
       "      <td>1</td>\n",
       "      <td>3</td>\n",
       "      <td>1</td>\n",
       "      <td>377</td>\n",
       "    </tr>\n",
       "    <tr>\n",
       "      <th>15701354</th>\n",
       "      <td>Boni</td>\n",
       "      <td>699</td>\n",
       "      <td>2</td>\n",
       "      <td>2</td>\n",
       "      <td>39</td>\n",
       "      <td>1</td>\n",
       "      <td>0.00</td>\n",
       "      <td>2</td>\n",
       "      <td>0</td>\n",
       "      <td>0</td>\n",
       "      <td>93826.63</td>\n",
       "      <td>0</td>\n",
       "      <td>0</td>\n",
       "      <td>5</td>\n",
       "      <td>2</td>\n",
       "      <td>350</td>\n",
       "    </tr>\n",
       "    <tr>\n",
       "      <th>15737888</th>\n",
       "      <td>Mitchell</td>\n",
       "      <td>850</td>\n",
       "      <td>1</td>\n",
       "      <td>2</td>\n",
       "      <td>43</td>\n",
       "      <td>2</td>\n",
       "      <td>125510.82</td>\n",
       "      <td>1</td>\n",
       "      <td>1</td>\n",
       "      <td>1</td>\n",
       "      <td>79084.10</td>\n",
       "      <td>0</td>\n",
       "      <td>0</td>\n",
       "      <td>5</td>\n",
       "      <td>2</td>\n",
       "      <td>425</td>\n",
       "    </tr>\n",
       "  </tbody>\n",
       "</table>\n",
       "</div>"
      ],
      "text/plain": [
       "             Surname  CreditScore  Geography  Gender  Age  Tenure    Balance  \\\n",
       "CustomerId                                                                     \n",
       "15634602    Hargrave          619          2       2   42       2       0.00   \n",
       "15647311        Hill          608          1       2   41       1   83807.86   \n",
       "15619304        Onio          502          2       2   42       8  159660.80   \n",
       "15701354        Boni          699          2       2   39       1       0.00   \n",
       "15737888    Mitchell          850          1       2   43       2  125510.82   \n",
       "\n",
       "            NumOfProducts  HasCrCard  IsActiveMember  EstimatedSalary  Exited  \\\n",
       "CustomerId                                                                      \n",
       "15634602                1          1               1        101348.88       1   \n",
       "15647311                1          0               1        112542.58       0   \n",
       "15619304                3          1               0        113931.57       1   \n",
       "15701354                2          0               0         93826.63       0   \n",
       "15737888                1          1               1         79084.10       0   \n",
       "\n",
       "            Complain  Satisfaction Score  Card Type  Point Earned  \n",
       "CustomerId                                                         \n",
       "15634602           1                   2          1           464  \n",
       "15647311           1                   3          1           456  \n",
       "15619304           1                   3          1           377  \n",
       "15701354           0                   5          2           350  \n",
       "15737888           0                   5          2           425  "
      ]
     },
     "execution_count": 17,
     "metadata": {},
     "output_type": "execute_result"
    }
   ],
   "source": [
    "banco.head()"
   ]
  },
  {
   "cell_type": "markdown",
   "id": "31aea7e8",
   "metadata": {
    "papermill": {
     "duration": 0.016236,
     "end_time": "2023-06-08T01:34:59.161788",
     "exception": false,
     "start_time": "2023-06-08T01:34:59.145552",
     "status": "completed"
    },
    "tags": []
   },
   "source": [
    "Vamos a remover la columna \"Surname\" ya que no aportara nada a un futuro analisis de los datos"
   ]
  },
  {
   "cell_type": "markdown",
   "id": "26ea7710",
   "metadata": {
    "papermill": {
     "duration": 0.01579,
     "end_time": "2023-06-08T01:34:59.193696",
     "exception": false,
     "start_time": "2023-06-08T01:34:59.177906",
     "status": "completed"
    },
    "tags": []
   },
   "source": [
    "Pero lo vamos hacer de la siguiente manera, voy a cambiar el orden de las columnas, pero omitiendo la columna \"Surname\", por lo que el programa la va a descartar del dataset"
   ]
  },
  {
   "cell_type": "code",
   "execution_count": 18,
   "id": "47017648",
   "metadata": {
    "execution": {
     "iopub.execute_input": "2023-06-08T01:34:59.229545Z",
     "iopub.status.busy": "2023-06-08T01:34:59.228390Z",
     "iopub.status.idle": "2023-06-08T01:34:59.237850Z",
     "shell.execute_reply": "2023-06-08T01:34:59.236737Z"
    },
    "papermill": {
     "duration": 0.03055,
     "end_time": "2023-06-08T01:34:59.240441",
     "exception": false,
     "start_time": "2023-06-08T01:34:59.209891",
     "status": "completed"
    },
    "tags": []
   },
   "outputs": [],
   "source": [
    "nuevas_columnas = [\"Exited\", \"CreditScore\", \"Geography\", \"Gender\", \"Age\", \"Tenure\", \"Balance\", \"NumOfProducts\", \"HasCrCard\", \"IsActiveMember\", \"EstimatedSalary\", \"Complain\", \"Satisfaction Score\", \"Card Type\" ,\"Point Earned\"]\n",
    "banco = banco[nuevas_columnas]"
   ]
  },
  {
   "cell_type": "markdown",
   "id": "993c23af",
   "metadata": {
    "papermill": {
     "duration": 0.015899,
     "end_time": "2023-06-08T01:34:59.272745",
     "exception": false,
     "start_time": "2023-06-08T01:34:59.256846",
     "status": "completed"
    },
    "tags": []
   },
   "source": [
    "Ahora veamos si resulto el nuevo orden de las columnas y la eliminacion de la columna \"Surname\""
   ]
  },
  {
   "cell_type": "code",
   "execution_count": 19,
   "id": "14a419aa",
   "metadata": {
    "execution": {
     "iopub.execute_input": "2023-06-08T01:34:59.307112Z",
     "iopub.status.busy": "2023-06-08T01:34:59.306286Z",
     "iopub.status.idle": "2023-06-08T01:34:59.326842Z",
     "shell.execute_reply": "2023-06-08T01:34:59.325703Z"
    },
    "papermill": {
     "duration": 0.040675,
     "end_time": "2023-06-08T01:34:59.329462",
     "exception": false,
     "start_time": "2023-06-08T01:34:59.288787",
     "status": "completed"
    },
    "tags": []
   },
   "outputs": [
    {
     "data": {
      "text/html": [
       "<div>\n",
       "<style scoped>\n",
       "    .dataframe tbody tr th:only-of-type {\n",
       "        vertical-align: middle;\n",
       "    }\n",
       "\n",
       "    .dataframe tbody tr th {\n",
       "        vertical-align: top;\n",
       "    }\n",
       "\n",
       "    .dataframe thead th {\n",
       "        text-align: right;\n",
       "    }\n",
       "</style>\n",
       "<table border=\"1\" class=\"dataframe\">\n",
       "  <thead>\n",
       "    <tr style=\"text-align: right;\">\n",
       "      <th></th>\n",
       "      <th>Exited</th>\n",
       "      <th>CreditScore</th>\n",
       "      <th>Geography</th>\n",
       "      <th>Gender</th>\n",
       "      <th>Age</th>\n",
       "      <th>Tenure</th>\n",
       "      <th>Balance</th>\n",
       "      <th>NumOfProducts</th>\n",
       "      <th>HasCrCard</th>\n",
       "      <th>IsActiveMember</th>\n",
       "      <th>EstimatedSalary</th>\n",
       "      <th>Complain</th>\n",
       "      <th>Satisfaction Score</th>\n",
       "      <th>Card Type</th>\n",
       "      <th>Point Earned</th>\n",
       "    </tr>\n",
       "    <tr>\n",
       "      <th>CustomerId</th>\n",
       "      <th></th>\n",
       "      <th></th>\n",
       "      <th></th>\n",
       "      <th></th>\n",
       "      <th></th>\n",
       "      <th></th>\n",
       "      <th></th>\n",
       "      <th></th>\n",
       "      <th></th>\n",
       "      <th></th>\n",
       "      <th></th>\n",
       "      <th></th>\n",
       "      <th></th>\n",
       "      <th></th>\n",
       "      <th></th>\n",
       "    </tr>\n",
       "  </thead>\n",
       "  <tbody>\n",
       "    <tr>\n",
       "      <th>15634602</th>\n",
       "      <td>1</td>\n",
       "      <td>619</td>\n",
       "      <td>2</td>\n",
       "      <td>2</td>\n",
       "      <td>42</td>\n",
       "      <td>2</td>\n",
       "      <td>0.00</td>\n",
       "      <td>1</td>\n",
       "      <td>1</td>\n",
       "      <td>1</td>\n",
       "      <td>101348.88</td>\n",
       "      <td>1</td>\n",
       "      <td>2</td>\n",
       "      <td>1</td>\n",
       "      <td>464</td>\n",
       "    </tr>\n",
       "    <tr>\n",
       "      <th>15647311</th>\n",
       "      <td>0</td>\n",
       "      <td>608</td>\n",
       "      <td>1</td>\n",
       "      <td>2</td>\n",
       "      <td>41</td>\n",
       "      <td>1</td>\n",
       "      <td>83807.86</td>\n",
       "      <td>1</td>\n",
       "      <td>0</td>\n",
       "      <td>1</td>\n",
       "      <td>112542.58</td>\n",
       "      <td>1</td>\n",
       "      <td>3</td>\n",
       "      <td>1</td>\n",
       "      <td>456</td>\n",
       "    </tr>\n",
       "    <tr>\n",
       "      <th>15619304</th>\n",
       "      <td>1</td>\n",
       "      <td>502</td>\n",
       "      <td>2</td>\n",
       "      <td>2</td>\n",
       "      <td>42</td>\n",
       "      <td>8</td>\n",
       "      <td>159660.80</td>\n",
       "      <td>3</td>\n",
       "      <td>1</td>\n",
       "      <td>0</td>\n",
       "      <td>113931.57</td>\n",
       "      <td>1</td>\n",
       "      <td>3</td>\n",
       "      <td>1</td>\n",
       "      <td>377</td>\n",
       "    </tr>\n",
       "    <tr>\n",
       "      <th>15701354</th>\n",
       "      <td>0</td>\n",
       "      <td>699</td>\n",
       "      <td>2</td>\n",
       "      <td>2</td>\n",
       "      <td>39</td>\n",
       "      <td>1</td>\n",
       "      <td>0.00</td>\n",
       "      <td>2</td>\n",
       "      <td>0</td>\n",
       "      <td>0</td>\n",
       "      <td>93826.63</td>\n",
       "      <td>0</td>\n",
       "      <td>5</td>\n",
       "      <td>2</td>\n",
       "      <td>350</td>\n",
       "    </tr>\n",
       "    <tr>\n",
       "      <th>15737888</th>\n",
       "      <td>0</td>\n",
       "      <td>850</td>\n",
       "      <td>1</td>\n",
       "      <td>2</td>\n",
       "      <td>43</td>\n",
       "      <td>2</td>\n",
       "      <td>125510.82</td>\n",
       "      <td>1</td>\n",
       "      <td>1</td>\n",
       "      <td>1</td>\n",
       "      <td>79084.10</td>\n",
       "      <td>0</td>\n",
       "      <td>5</td>\n",
       "      <td>2</td>\n",
       "      <td>425</td>\n",
       "    </tr>\n",
       "    <tr>\n",
       "      <th>15574012</th>\n",
       "      <td>1</td>\n",
       "      <td>645</td>\n",
       "      <td>1</td>\n",
       "      <td>1</td>\n",
       "      <td>44</td>\n",
       "      <td>8</td>\n",
       "      <td>113755.78</td>\n",
       "      <td>2</td>\n",
       "      <td>1</td>\n",
       "      <td>0</td>\n",
       "      <td>149756.71</td>\n",
       "      <td>1</td>\n",
       "      <td>5</td>\n",
       "      <td>1</td>\n",
       "      <td>484</td>\n",
       "    </tr>\n",
       "    <tr>\n",
       "      <th>15592531</th>\n",
       "      <td>0</td>\n",
       "      <td>822</td>\n",
       "      <td>2</td>\n",
       "      <td>1</td>\n",
       "      <td>50</td>\n",
       "      <td>7</td>\n",
       "      <td>0.00</td>\n",
       "      <td>2</td>\n",
       "      <td>1</td>\n",
       "      <td>1</td>\n",
       "      <td>10062.80</td>\n",
       "      <td>0</td>\n",
       "      <td>2</td>\n",
       "      <td>4</td>\n",
       "      <td>206</td>\n",
       "    </tr>\n",
       "    <tr>\n",
       "      <th>15656148</th>\n",
       "      <td>1</td>\n",
       "      <td>376</td>\n",
       "      <td>3</td>\n",
       "      <td>2</td>\n",
       "      <td>29</td>\n",
       "      <td>4</td>\n",
       "      <td>115046.74</td>\n",
       "      <td>4</td>\n",
       "      <td>1</td>\n",
       "      <td>0</td>\n",
       "      <td>119346.88</td>\n",
       "      <td>1</td>\n",
       "      <td>2</td>\n",
       "      <td>1</td>\n",
       "      <td>282</td>\n",
       "    </tr>\n",
       "    <tr>\n",
       "      <th>15792365</th>\n",
       "      <td>0</td>\n",
       "      <td>501</td>\n",
       "      <td>2</td>\n",
       "      <td>1</td>\n",
       "      <td>44</td>\n",
       "      <td>4</td>\n",
       "      <td>142051.07</td>\n",
       "      <td>2</td>\n",
       "      <td>0</td>\n",
       "      <td>1</td>\n",
       "      <td>74940.50</td>\n",
       "      <td>0</td>\n",
       "      <td>3</td>\n",
       "      <td>2</td>\n",
       "      <td>251</td>\n",
       "    </tr>\n",
       "    <tr>\n",
       "      <th>15592389</th>\n",
       "      <td>0</td>\n",
       "      <td>684</td>\n",
       "      <td>2</td>\n",
       "      <td>1</td>\n",
       "      <td>27</td>\n",
       "      <td>2</td>\n",
       "      <td>134603.88</td>\n",
       "      <td>1</td>\n",
       "      <td>1</td>\n",
       "      <td>1</td>\n",
       "      <td>71725.73</td>\n",
       "      <td>0</td>\n",
       "      <td>3</td>\n",
       "      <td>2</td>\n",
       "      <td>342</td>\n",
       "    </tr>\n",
       "  </tbody>\n",
       "</table>\n",
       "</div>"
      ],
      "text/plain": [
       "            Exited  CreditScore  Geography  Gender  Age  Tenure    Balance  \\\n",
       "CustomerId                                                                   \n",
       "15634602         1          619          2       2   42       2       0.00   \n",
       "15647311         0          608          1       2   41       1   83807.86   \n",
       "15619304         1          502          2       2   42       8  159660.80   \n",
       "15701354         0          699          2       2   39       1       0.00   \n",
       "15737888         0          850          1       2   43       2  125510.82   \n",
       "15574012         1          645          1       1   44       8  113755.78   \n",
       "15592531         0          822          2       1   50       7       0.00   \n",
       "15656148         1          376          3       2   29       4  115046.74   \n",
       "15792365         0          501          2       1   44       4  142051.07   \n",
       "15592389         0          684          2       1   27       2  134603.88   \n",
       "\n",
       "            NumOfProducts  HasCrCard  IsActiveMember  EstimatedSalary  \\\n",
       "CustomerId                                                              \n",
       "15634602                1          1               1        101348.88   \n",
       "15647311                1          0               1        112542.58   \n",
       "15619304                3          1               0        113931.57   \n",
       "15701354                2          0               0         93826.63   \n",
       "15737888                1          1               1         79084.10   \n",
       "15574012                2          1               0        149756.71   \n",
       "15592531                2          1               1         10062.80   \n",
       "15656148                4          1               0        119346.88   \n",
       "15792365                2          0               1         74940.50   \n",
       "15592389                1          1               1         71725.73   \n",
       "\n",
       "            Complain  Satisfaction Score  Card Type  Point Earned  \n",
       "CustomerId                                                         \n",
       "15634602           1                   2          1           464  \n",
       "15647311           1                   3          1           456  \n",
       "15619304           1                   3          1           377  \n",
       "15701354           0                   5          2           350  \n",
       "15737888           0                   5          2           425  \n",
       "15574012           1                   5          1           484  \n",
       "15592531           0                   2          4           206  \n",
       "15656148           1                   2          1           282  \n",
       "15792365           0                   3          2           251  \n",
       "15592389           0                   3          2           342  "
      ]
     },
     "execution_count": 19,
     "metadata": {},
     "output_type": "execute_result"
    }
   ],
   "source": [
    "banco.head(10)"
   ]
  },
  {
   "cell_type": "code",
   "execution_count": 20,
   "id": "6b3bc12a",
   "metadata": {
    "execution": {
     "iopub.execute_input": "2023-06-08T01:34:59.364976Z",
     "iopub.status.busy": "2023-06-08T01:34:59.363895Z",
     "iopub.status.idle": "2023-06-08T01:34:59.371227Z",
     "shell.execute_reply": "2023-06-08T01:34:59.370111Z"
    },
    "papermill": {
     "duration": 0.027587,
     "end_time": "2023-06-08T01:34:59.373618",
     "exception": false,
     "start_time": "2023-06-08T01:34:59.346031",
     "status": "completed"
    },
    "tags": []
   },
   "outputs": [
    {
     "data": {
      "text/plain": [
       "(10000, 15)"
      ]
     },
     "execution_count": 20,
     "metadata": {},
     "output_type": "execute_result"
    }
   ],
   "source": [
    "#Por supuesto que contamos con menos columnas que al principio\n",
    "banco.shape"
   ]
  },
  {
   "cell_type": "markdown",
   "id": "9eca19d8",
   "metadata": {
    "papermill": {
     "duration": 0.016216,
     "end_time": "2023-06-08T01:34:59.407166",
     "exception": false,
     "start_time": "2023-06-08T01:34:59.390950",
     "status": "completed"
    },
    "tags": []
   },
   "source": [
    "Podemos construir una matriz de correlacion para poder ver como se correlaciona cada variable con el resto"
   ]
  },
  {
   "cell_type": "code",
   "execution_count": 21,
   "id": "0def0edd",
   "metadata": {
    "execution": {
     "iopub.execute_input": "2023-06-08T01:34:59.443730Z",
     "iopub.status.busy": "2023-06-08T01:34:59.442889Z",
     "iopub.status.idle": "2023-06-08T01:34:59.482035Z",
     "shell.execute_reply": "2023-06-08T01:34:59.480777Z"
    },
    "papermill": {
     "duration": 0.060449,
     "end_time": "2023-06-08T01:34:59.485002",
     "exception": false,
     "start_time": "2023-06-08T01:34:59.424553",
     "status": "completed"
    },
    "tags": []
   },
   "outputs": [
    {
     "data": {
      "text/html": [
       "<div>\n",
       "<style scoped>\n",
       "    .dataframe tbody tr th:only-of-type {\n",
       "        vertical-align: middle;\n",
       "    }\n",
       "\n",
       "    .dataframe tbody tr th {\n",
       "        vertical-align: top;\n",
       "    }\n",
       "\n",
       "    .dataframe thead th {\n",
       "        text-align: right;\n",
       "    }\n",
       "</style>\n",
       "<table border=\"1\" class=\"dataframe\">\n",
       "  <thead>\n",
       "    <tr style=\"text-align: right;\">\n",
       "      <th></th>\n",
       "      <th>Exited</th>\n",
       "      <th>CreditScore</th>\n",
       "      <th>Geography</th>\n",
       "      <th>Gender</th>\n",
       "      <th>Age</th>\n",
       "      <th>Tenure</th>\n",
       "      <th>Balance</th>\n",
       "      <th>NumOfProducts</th>\n",
       "      <th>HasCrCard</th>\n",
       "      <th>IsActiveMember</th>\n",
       "      <th>EstimatedSalary</th>\n",
       "      <th>Complain</th>\n",
       "      <th>Satisfaction Score</th>\n",
       "      <th>Card Type</th>\n",
       "      <th>Point Earned</th>\n",
       "    </tr>\n",
       "  </thead>\n",
       "  <tbody>\n",
       "    <tr>\n",
       "      <th>Exited</th>\n",
       "      <td>1.000000</td>\n",
       "      <td>-0.026771</td>\n",
       "      <td>0.138688</td>\n",
       "      <td>0.106267</td>\n",
       "      <td>0.285296</td>\n",
       "      <td>-0.013656</td>\n",
       "      <td>0.118577</td>\n",
       "      <td>-0.047611</td>\n",
       "      <td>-0.006976</td>\n",
       "      <td>-0.156356</td>\n",
       "      <td>0.012490</td>\n",
       "      <td>0.995693</td>\n",
       "      <td>-0.005849</td>\n",
       "      <td>-0.010861</td>\n",
       "      <td>-0.004628</td>\n",
       "    </tr>\n",
       "    <tr>\n",
       "      <th>CreditScore</th>\n",
       "      <td>-0.026771</td>\n",
       "      <td>1.000000</td>\n",
       "      <td>0.000478</td>\n",
       "      <td>0.002857</td>\n",
       "      <td>-0.003965</td>\n",
       "      <td>0.000842</td>\n",
       "      <td>0.006268</td>\n",
       "      <td>0.012238</td>\n",
       "      <td>-0.005458</td>\n",
       "      <td>0.025651</td>\n",
       "      <td>-0.001384</td>\n",
       "      <td>-0.027048</td>\n",
       "      <td>-0.012599</td>\n",
       "      <td>-0.006936</td>\n",
       "      <td>0.000077</td>\n",
       "    </tr>\n",
       "    <tr>\n",
       "      <th>Geography</th>\n",
       "      <td>0.138688</td>\n",
       "      <td>0.000478</td>\n",
       "      <td>1.000000</td>\n",
       "      <td>0.025446</td>\n",
       "      <td>0.029824</td>\n",
       "      <td>-0.002713</td>\n",
       "      <td>0.328736</td>\n",
       "      <td>-0.011923</td>\n",
       "      <td>0.014734</td>\n",
       "      <td>-0.022807</td>\n",
       "      <td>0.010285</td>\n",
       "      <td>0.140286</td>\n",
       "      <td>-0.001958</td>\n",
       "      <td>-0.009110</td>\n",
       "      <td>0.013698</td>\n",
       "    </tr>\n",
       "    <tr>\n",
       "      <th>Gender</th>\n",
       "      <td>0.106267</td>\n",
       "      <td>0.002857</td>\n",
       "      <td>0.025446</td>\n",
       "      <td>1.000000</td>\n",
       "      <td>0.027544</td>\n",
       "      <td>-0.014733</td>\n",
       "      <td>-0.012087</td>\n",
       "      <td>0.021859</td>\n",
       "      <td>-0.005766</td>\n",
       "      <td>-0.022544</td>\n",
       "      <td>0.008112</td>\n",
       "      <td>0.106287</td>\n",
       "      <td>-0.000242</td>\n",
       "      <td>0.008726</td>\n",
       "      <td>0.013225</td>\n",
       "    </tr>\n",
       "    <tr>\n",
       "      <th>Age</th>\n",
       "      <td>0.285296</td>\n",
       "      <td>-0.003965</td>\n",
       "      <td>0.029824</td>\n",
       "      <td>0.027544</td>\n",
       "      <td>1.000000</td>\n",
       "      <td>-0.009997</td>\n",
       "      <td>0.028308</td>\n",
       "      <td>-0.030680</td>\n",
       "      <td>-0.011721</td>\n",
       "      <td>0.085472</td>\n",
       "      <td>-0.007201</td>\n",
       "      <td>0.283530</td>\n",
       "      <td>-0.000876</td>\n",
       "      <td>-0.006997</td>\n",
       "      <td>0.002222</td>\n",
       "    </tr>\n",
       "    <tr>\n",
       "      <th>Tenure</th>\n",
       "      <td>-0.013656</td>\n",
       "      <td>0.000842</td>\n",
       "      <td>-0.002713</td>\n",
       "      <td>-0.014733</td>\n",
       "      <td>-0.009997</td>\n",
       "      <td>1.000000</td>\n",
       "      <td>-0.012254</td>\n",
       "      <td>0.013444</td>\n",
       "      <td>0.022583</td>\n",
       "      <td>-0.028362</td>\n",
       "      <td>0.007784</td>\n",
       "      <td>-0.013047</td>\n",
       "      <td>0.008663</td>\n",
       "      <td>-0.001414</td>\n",
       "      <td>-0.010196</td>\n",
       "    </tr>\n",
       "    <tr>\n",
       "      <th>Balance</th>\n",
       "      <td>0.118577</td>\n",
       "      <td>0.006268</td>\n",
       "      <td>0.328736</td>\n",
       "      <td>-0.012087</td>\n",
       "      <td>0.028308</td>\n",
       "      <td>-0.012254</td>\n",
       "      <td>1.000000</td>\n",
       "      <td>-0.304180</td>\n",
       "      <td>-0.014858</td>\n",
       "      <td>-0.010084</td>\n",
       "      <td>0.012797</td>\n",
       "      <td>0.119124</td>\n",
       "      <td>-0.002588</td>\n",
       "      <td>-0.027059</td>\n",
       "      <td>0.014608</td>\n",
       "    </tr>\n",
       "    <tr>\n",
       "      <th>NumOfProducts</th>\n",
       "      <td>-0.047611</td>\n",
       "      <td>0.012238</td>\n",
       "      <td>-0.011923</td>\n",
       "      <td>0.021859</td>\n",
       "      <td>-0.030680</td>\n",
       "      <td>0.013444</td>\n",
       "      <td>-0.304180</td>\n",
       "      <td>1.000000</td>\n",
       "      <td>0.003183</td>\n",
       "      <td>0.009612</td>\n",
       "      <td>0.014204</td>\n",
       "      <td>-0.046357</td>\n",
       "      <td>-0.011394</td>\n",
       "      <td>0.020387</td>\n",
       "      <td>-0.015330</td>\n",
       "    </tr>\n",
       "    <tr>\n",
       "      <th>HasCrCard</th>\n",
       "      <td>-0.006976</td>\n",
       "      <td>-0.005458</td>\n",
       "      <td>0.014734</td>\n",
       "      <td>-0.005766</td>\n",
       "      <td>-0.011721</td>\n",
       "      <td>0.022583</td>\n",
       "      <td>-0.014858</td>\n",
       "      <td>0.003183</td>\n",
       "      <td>1.000000</td>\n",
       "      <td>-0.011866</td>\n",
       "      <td>-0.009933</td>\n",
       "      <td>-0.007095</td>\n",
       "      <td>-0.000212</td>\n",
       "      <td>0.005809</td>\n",
       "      <td>-0.011041</td>\n",
       "    </tr>\n",
       "    <tr>\n",
       "      <th>IsActiveMember</th>\n",
       "      <td>-0.156356</td>\n",
       "      <td>0.025651</td>\n",
       "      <td>-0.022807</td>\n",
       "      <td>-0.022544</td>\n",
       "      <td>0.085472</td>\n",
       "      <td>-0.028362</td>\n",
       "      <td>-0.010084</td>\n",
       "      <td>0.009612</td>\n",
       "      <td>-0.011866</td>\n",
       "      <td>1.000000</td>\n",
       "      <td>-0.011421</td>\n",
       "      <td>-0.154741</td>\n",
       "      <td>0.010236</td>\n",
       "      <td>0.016247</td>\n",
       "      <td>-0.004983</td>\n",
       "    </tr>\n",
       "    <tr>\n",
       "      <th>EstimatedSalary</th>\n",
       "      <td>0.012490</td>\n",
       "      <td>-0.001384</td>\n",
       "      <td>0.010285</td>\n",
       "      <td>0.008112</td>\n",
       "      <td>-0.007201</td>\n",
       "      <td>0.007784</td>\n",
       "      <td>0.012797</td>\n",
       "      <td>0.014204</td>\n",
       "      <td>-0.009933</td>\n",
       "      <td>-0.011421</td>\n",
       "      <td>1.000000</td>\n",
       "      <td>0.012494</td>\n",
       "      <td>-0.013747</td>\n",
       "      <td>0.014295</td>\n",
       "      <td>-0.001515</td>\n",
       "    </tr>\n",
       "    <tr>\n",
       "      <th>Complain</th>\n",
       "      <td>0.995693</td>\n",
       "      <td>-0.027048</td>\n",
       "      <td>0.140286</td>\n",
       "      <td>0.106287</td>\n",
       "      <td>0.283530</td>\n",
       "      <td>-0.013047</td>\n",
       "      <td>0.119124</td>\n",
       "      <td>-0.046357</td>\n",
       "      <td>-0.007095</td>\n",
       "      <td>-0.154741</td>\n",
       "      <td>0.012494</td>\n",
       "      <td>1.000000</td>\n",
       "      <td>-0.004799</td>\n",
       "      <td>-0.011068</td>\n",
       "      <td>-0.002893</td>\n",
       "    </tr>\n",
       "    <tr>\n",
       "      <th>Satisfaction Score</th>\n",
       "      <td>-0.005849</td>\n",
       "      <td>-0.012599</td>\n",
       "      <td>-0.001958</td>\n",
       "      <td>-0.000242</td>\n",
       "      <td>-0.000876</td>\n",
       "      <td>0.008663</td>\n",
       "      <td>-0.002588</td>\n",
       "      <td>-0.011394</td>\n",
       "      <td>-0.000212</td>\n",
       "      <td>0.010236</td>\n",
       "      <td>-0.013747</td>\n",
       "      <td>-0.004799</td>\n",
       "      <td>1.000000</td>\n",
       "      <td>0.000526</td>\n",
       "      <td>-0.014400</td>\n",
       "    </tr>\n",
       "    <tr>\n",
       "      <th>Card Type</th>\n",
       "      <td>-0.010861</td>\n",
       "      <td>-0.006936</td>\n",
       "      <td>-0.009110</td>\n",
       "      <td>0.008726</td>\n",
       "      <td>-0.006997</td>\n",
       "      <td>-0.001414</td>\n",
       "      <td>-0.027059</td>\n",
       "      <td>0.020387</td>\n",
       "      <td>0.005809</td>\n",
       "      <td>0.016247</td>\n",
       "      <td>0.014295</td>\n",
       "      <td>-0.011068</td>\n",
       "      <td>0.000526</td>\n",
       "      <td>1.000000</td>\n",
       "      <td>-0.002141</td>\n",
       "    </tr>\n",
       "    <tr>\n",
       "      <th>Point Earned</th>\n",
       "      <td>-0.004628</td>\n",
       "      <td>0.000077</td>\n",
       "      <td>0.013698</td>\n",
       "      <td>0.013225</td>\n",
       "      <td>0.002222</td>\n",
       "      <td>-0.010196</td>\n",
       "      <td>0.014608</td>\n",
       "      <td>-0.015330</td>\n",
       "      <td>-0.011041</td>\n",
       "      <td>-0.004983</td>\n",
       "      <td>-0.001515</td>\n",
       "      <td>-0.002893</td>\n",
       "      <td>-0.014400</td>\n",
       "      <td>-0.002141</td>\n",
       "      <td>1.000000</td>\n",
       "    </tr>\n",
       "  </tbody>\n",
       "</table>\n",
       "</div>"
      ],
      "text/plain": [
       "                      Exited  CreditScore  Geography    Gender       Age  \\\n",
       "Exited              1.000000    -0.026771   0.138688  0.106267  0.285296   \n",
       "CreditScore        -0.026771     1.000000   0.000478  0.002857 -0.003965   \n",
       "Geography           0.138688     0.000478   1.000000  0.025446  0.029824   \n",
       "Gender              0.106267     0.002857   0.025446  1.000000  0.027544   \n",
       "Age                 0.285296    -0.003965   0.029824  0.027544  1.000000   \n",
       "Tenure             -0.013656     0.000842  -0.002713 -0.014733 -0.009997   \n",
       "Balance             0.118577     0.006268   0.328736 -0.012087  0.028308   \n",
       "NumOfProducts      -0.047611     0.012238  -0.011923  0.021859 -0.030680   \n",
       "HasCrCard          -0.006976    -0.005458   0.014734 -0.005766 -0.011721   \n",
       "IsActiveMember     -0.156356     0.025651  -0.022807 -0.022544  0.085472   \n",
       "EstimatedSalary     0.012490    -0.001384   0.010285  0.008112 -0.007201   \n",
       "Complain            0.995693    -0.027048   0.140286  0.106287  0.283530   \n",
       "Satisfaction Score -0.005849    -0.012599  -0.001958 -0.000242 -0.000876   \n",
       "Card Type          -0.010861    -0.006936  -0.009110  0.008726 -0.006997   \n",
       "Point Earned       -0.004628     0.000077   0.013698  0.013225  0.002222   \n",
       "\n",
       "                      Tenure   Balance  NumOfProducts  HasCrCard  \\\n",
       "Exited             -0.013656  0.118577      -0.047611  -0.006976   \n",
       "CreditScore         0.000842  0.006268       0.012238  -0.005458   \n",
       "Geography          -0.002713  0.328736      -0.011923   0.014734   \n",
       "Gender             -0.014733 -0.012087       0.021859  -0.005766   \n",
       "Age                -0.009997  0.028308      -0.030680  -0.011721   \n",
       "Tenure              1.000000 -0.012254       0.013444   0.022583   \n",
       "Balance            -0.012254  1.000000      -0.304180  -0.014858   \n",
       "NumOfProducts       0.013444 -0.304180       1.000000   0.003183   \n",
       "HasCrCard           0.022583 -0.014858       0.003183   1.000000   \n",
       "IsActiveMember     -0.028362 -0.010084       0.009612  -0.011866   \n",
       "EstimatedSalary     0.007784  0.012797       0.014204  -0.009933   \n",
       "Complain           -0.013047  0.119124      -0.046357  -0.007095   \n",
       "Satisfaction Score  0.008663 -0.002588      -0.011394  -0.000212   \n",
       "Card Type          -0.001414 -0.027059       0.020387   0.005809   \n",
       "Point Earned       -0.010196  0.014608      -0.015330  -0.011041   \n",
       "\n",
       "                    IsActiveMember  EstimatedSalary  Complain  \\\n",
       "Exited                   -0.156356         0.012490  0.995693   \n",
       "CreditScore               0.025651        -0.001384 -0.027048   \n",
       "Geography                -0.022807         0.010285  0.140286   \n",
       "Gender                   -0.022544         0.008112  0.106287   \n",
       "Age                       0.085472        -0.007201  0.283530   \n",
       "Tenure                   -0.028362         0.007784 -0.013047   \n",
       "Balance                  -0.010084         0.012797  0.119124   \n",
       "NumOfProducts             0.009612         0.014204 -0.046357   \n",
       "HasCrCard                -0.011866        -0.009933 -0.007095   \n",
       "IsActiveMember            1.000000        -0.011421 -0.154741   \n",
       "EstimatedSalary          -0.011421         1.000000  0.012494   \n",
       "Complain                 -0.154741         0.012494  1.000000   \n",
       "Satisfaction Score        0.010236        -0.013747 -0.004799   \n",
       "Card Type                 0.016247         0.014295 -0.011068   \n",
       "Point Earned             -0.004983        -0.001515 -0.002893   \n",
       "\n",
       "                    Satisfaction Score  Card Type  Point Earned  \n",
       "Exited                       -0.005849  -0.010861     -0.004628  \n",
       "CreditScore                  -0.012599  -0.006936      0.000077  \n",
       "Geography                    -0.001958  -0.009110      0.013698  \n",
       "Gender                       -0.000242   0.008726      0.013225  \n",
       "Age                          -0.000876  -0.006997      0.002222  \n",
       "Tenure                        0.008663  -0.001414     -0.010196  \n",
       "Balance                      -0.002588  -0.027059      0.014608  \n",
       "NumOfProducts                -0.011394   0.020387     -0.015330  \n",
       "HasCrCard                    -0.000212   0.005809     -0.011041  \n",
       "IsActiveMember                0.010236   0.016247     -0.004983  \n",
       "EstimatedSalary              -0.013747   0.014295     -0.001515  \n",
       "Complain                     -0.004799  -0.011068     -0.002893  \n",
       "Satisfaction Score            1.000000   0.000526     -0.014400  \n",
       "Card Type                     0.000526   1.000000     -0.002141  \n",
       "Point Earned                 -0.014400  -0.002141      1.000000  "
      ]
     },
     "execution_count": 21,
     "metadata": {},
     "output_type": "execute_result"
    }
   ],
   "source": [
    "banco.corr()"
   ]
  },
  {
   "cell_type": "markdown",
   "id": "4dedc148",
   "metadata": {
    "papermill": {
     "duration": 0.016975,
     "end_time": "2023-06-08T01:34:59.520042",
     "exception": false,
     "start_time": "2023-06-08T01:34:59.503067",
     "status": "completed"
    },
    "tags": []
   },
   "source": [
    "Para facilitar la  lectura, voy a utilizar Seaborn y Pyplot para hacer un grafico mas amigable para la vista y la lectura"
   ]
  },
  {
   "cell_type": "code",
   "execution_count": 22,
   "id": "be8c6350",
   "metadata": {
    "execution": {
     "iopub.execute_input": "2023-06-08T01:34:59.556963Z",
     "iopub.status.busy": "2023-06-08T01:34:59.556556Z",
     "iopub.status.idle": "2023-06-08T01:35:00.657182Z",
     "shell.execute_reply": "2023-06-08T01:35:00.655906Z"
    },
    "papermill": {
     "duration": 1.124074,
     "end_time": "2023-06-08T01:35:00.661280",
     "exception": false,
     "start_time": "2023-06-08T01:34:59.537206",
     "status": "completed"
    },
    "tags": []
   },
   "outputs": [
    {
     "data": {
      "image/png": "[encoded data removed]",
      "text/plain": [
       "<Figure size 1500x800 with 2 Axes>"
      ]
     },
     "metadata": {},
     "output_type": "display_data"
    }
   ],
   "source": [
    "correlation_matrix = banco.corr()\n",
    "rounded_matrix = np.round(correlation_matrix, decimals=2)\n",
    "plt.figure(figsize = (15,8))\n",
    "sns.heatmap(correlation_matrix, vmax=1, vmin=-1, annot=True, cmap=\"coolwarm\")\n",
    "plt.show()"
   ]
  },
  {
   "cell_type": "markdown",
   "id": "5d141e1f",
   "metadata": {
    "papermill": {
     "duration": 0.019634,
     "end_time": "2023-06-08T01:35:00.700852",
     "exception": false,
     "start_time": "2023-06-08T01:35:00.681218",
     "status": "completed"
    },
    "tags": []
   },
   "source": [
    "Al ser un heatmap se puede jugar con los colores en base a los resultados de cada casillero. En este caso cuanto mas se acerca a rojo, es que mas tiende a 1 y por ende a una correlacion positiva. Por el contrario, cuanto mas se acerca al azul, es que mas tiende al -1, es decir a una correlacion negativa"
   ]
  },
  {
   "cell_type": "markdown",
   "id": "626b0a0c",
   "metadata": {
    "papermill": {
     "duration": 0.020115,
     "end_time": "2023-06-08T01:35:00.740935",
     "exception": false,
     "start_time": "2023-06-08T01:35:00.720820",
     "status": "completed"
    },
    "tags": []
   },
   "source": [
    "Un poco podemos observar el tipo de dato que contiene cada columna"
   ]
  },
  {
   "cell_type": "code",
   "execution_count": 23,
   "id": "d2cdd42d",
   "metadata": {
    "execution": {
     "iopub.execute_input": "2023-06-08T01:35:00.782104Z",
     "iopub.status.busy": "2023-06-08T01:35:00.781723Z",
     "iopub.status.idle": "2023-06-08T01:35:00.790829Z",
     "shell.execute_reply": "2023-06-08T01:35:00.789547Z"
    },
    "papermill": {
     "duration": 0.032894,
     "end_time": "2023-06-08T01:35:00.793520",
     "exception": false,
     "start_time": "2023-06-08T01:35:00.760626",
     "status": "completed"
    },
    "tags": []
   },
   "outputs": [
    {
     "data": {
      "text/plain": [
       "Exited                  int64\n",
       "CreditScore             int64\n",
       "Geography               int64\n",
       "Gender                  int64\n",
       "Age                     int64\n",
       "Tenure                  int64\n",
       "Balance               float64\n",
       "NumOfProducts           int64\n",
       "HasCrCard               int64\n",
       "IsActiveMember          int64\n",
       "EstimatedSalary       float64\n",
       "Complain                int64\n",
       "Satisfaction Score      int64\n",
       "Card Type               int64\n",
       "Point Earned            int64\n",
       "dtype: object"
      ]
     },
     "execution_count": 23,
     "metadata": {},
     "output_type": "execute_result"
    }
   ],
   "source": [
    "banco.dtypes"
   ]
  },
  {
   "cell_type": "markdown",
   "id": "0292d5f3",
   "metadata": {
    "papermill": {
     "duration": 0.0207,
     "end_time": "2023-06-08T01:35:00.834886",
     "exception": false,
     "start_time": "2023-06-08T01:35:00.814186",
     "status": "completed"
    },
    "tags": []
   },
   "source": [
    "Son todos valores numericos, por supuesto esto fue gracias a la codificacion previa de algunas variables anteriormente"
   ]
  }
 ],
 "metadata": {
  "kernelspec": {
   "display_name": "Python 3",
   "language": "python",
   "name": "python3"
  },
  "language_info": {
   "codemirror_mode": {
    "name": "ipython",
    "version": 3
   },
   "file_extension": ".py",
   "mimetype": "text/x-python",
   "name": "python",
   "nbconvert_exporter": "python",
   "pygments_lexer": "ipython3",
   "version": "3.10.10"
  },
  "papermill": {
   "default_parameters": {},
   "duration": 20.269993,
   "end_time": "2023-06-08T01:35:01.878806",
   "environment_variables": {},
   "exception": null,
   "input_path": "__notebook__.ipynb",
   "output_path": "__notebook__.ipynb",
   "parameters": {},
   "start_time": "2023-06-08T01:34:41.608813",
   "version": "2.4.0"
  }
 },
 "nbformat": 4,
 "nbformat_minor": 5
}

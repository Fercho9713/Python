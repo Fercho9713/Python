{
 "cells": [
  {
   "cell_type": "code",
   "execution_count": 1,
   "id": "c1f8c7a1",
   "metadata": {
    "execution": {
     "iopub.execute_input": "2023-06-13T02:31:01.189990Z",
     "iopub.status.busy": "2023-06-13T02:31:01.189608Z",
     "iopub.status.idle": "2023-06-13T02:31:02.681914Z",
     "shell.execute_reply": "2023-06-13T02:31:02.680812Z"
    },
    "papermill": {
     "duration": 1.503342,
     "end_time": "2023-06-13T02:31:02.684531",
     "exception": false,
     "start_time": "2023-06-13T02:31:01.181189",
     "status": "completed"
    },
    "tags": []
   },
   "outputs": [],
   "source": [
    "import pandas as pd\n",
    "import seaborn as sns\n",
    "import numpy as np"
   ]
  },
  {
   "cell_type": "code",
   "execution_count": 2,
   "id": "2b2dc13c",
   "metadata": {
    "execution": {
     "iopub.execute_input": "2023-06-13T02:31:02.698146Z",
     "iopub.status.busy": "2023-06-13T02:31:02.697758Z",
     "iopub.status.idle": "2023-06-13T02:31:02.703325Z",
     "shell.execute_reply": "2023-06-13T02:31:02.702185Z"
    },
    "papermill": {
     "duration": 0.015304,
     "end_time": "2023-06-13T02:31:02.705759",
     "exception": false,
     "start_time": "2023-06-13T02:31:02.690455",
     "status": "completed"
    },
    "tags": []
   },
   "outputs": [],
   "source": [
    "import matplotlib.pyplot as plt\n",
    "%matplotlib inline"
   ]
  },
  {
   "cell_type": "code",
   "execution_count": 3,
   "id": "c13d7b4a",
   "metadata": {
    "execution": {
     "iopub.execute_input": "2023-06-13T02:31:02.719582Z",
     "iopub.status.busy": "2023-06-13T02:31:02.719167Z",
     "iopub.status.idle": "2023-06-13T02:31:02.739812Z",
     "shell.execute_reply": "2023-06-13T02:31:02.738527Z"
    },
    "papermill": {
     "duration": 0.030542,
     "end_time": "2023-06-13T02:31:02.742205",
     "exception": false,
     "start_time": "2023-06-13T02:31:02.711663",
     "status": "completed"
    },
    "tags": []
   },
   "outputs": [],
   "source": [
    "credit = pd.read_csv(\"/kaggle/input/credit-card-customer-data/Credit Card Customer Data.csv\")"
   ]
  },
  {
   "cell_type": "code",
   "execution_count": 4,
   "id": "68381696",
   "metadata": {
    "execution": {
     "iopub.execute_input": "2023-06-13T02:31:02.755502Z",
     "iopub.status.busy": "2023-06-13T02:31:02.755070Z",
     "iopub.status.idle": "2023-06-13T02:31:02.784019Z",
     "shell.execute_reply": "2023-06-13T02:31:02.783176Z"
    },
    "papermill": {
     "duration": 0.038066,
     "end_time": "2023-06-13T02:31:02.786052",
     "exception": false,
     "start_time": "2023-06-13T02:31:02.747986",
     "status": "completed"
    },
    "tags": []
   },
   "outputs": [
    {
     "data": {
      "text/html": [
       "<div>\n",
       "<style scoped>\n",
       "    .dataframe tbody tr th:only-of-type {\n",
       "        vertical-align: middle;\n",
       "    }\n",
       "\n",
       "    .dataframe tbody tr th {\n",
       "        vertical-align: top;\n",
       "    }\n",
       "\n",
       "    .dataframe thead th {\n",
       "        text-align: right;\n",
       "    }\n",
       "</style>\n",
       "<table border=\"1\" class=\"dataframe\">\n",
       "  <thead>\n",
       "    <tr style=\"text-align: right;\">\n",
       "      <th></th>\n",
       "      <th>Sl_No</th>\n",
       "      <th>Customer Key</th>\n",
       "      <th>Avg_Credit_Limit</th>\n",
       "      <th>Total_Credit_Cards</th>\n",
       "      <th>Total_visits_bank</th>\n",
       "      <th>Total_visits_online</th>\n",
       "      <th>Total_calls_made</th>\n",
       "    </tr>\n",
       "  </thead>\n",
       "  <tbody>\n",
       "    <tr>\n",
       "      <th>0</th>\n",
       "      <td>1</td>\n",
       "      <td>87073</td>\n",
       "      <td>100000</td>\n",
       "      <td>2</td>\n",
       "      <td>1</td>\n",
       "      <td>1</td>\n",
       "      <td>0</td>\n",
       "    </tr>\n",
       "    <tr>\n",
       "      <th>1</th>\n",
       "      <td>2</td>\n",
       "      <td>38414</td>\n",
       "      <td>50000</td>\n",
       "      <td>3</td>\n",
       "      <td>0</td>\n",
       "      <td>10</td>\n",
       "      <td>9</td>\n",
       "    </tr>\n",
       "    <tr>\n",
       "      <th>2</th>\n",
       "      <td>3</td>\n",
       "      <td>17341</td>\n",
       "      <td>50000</td>\n",
       "      <td>7</td>\n",
       "      <td>1</td>\n",
       "      <td>3</td>\n",
       "      <td>4</td>\n",
       "    </tr>\n",
       "    <tr>\n",
       "      <th>3</th>\n",
       "      <td>4</td>\n",
       "      <td>40496</td>\n",
       "      <td>30000</td>\n",
       "      <td>5</td>\n",
       "      <td>1</td>\n",
       "      <td>1</td>\n",
       "      <td>4</td>\n",
       "    </tr>\n",
       "    <tr>\n",
       "      <th>4</th>\n",
       "      <td>5</td>\n",
       "      <td>47437</td>\n",
       "      <td>100000</td>\n",
       "      <td>6</td>\n",
       "      <td>0</td>\n",
       "      <td>12</td>\n",
       "      <td>3</td>\n",
       "    </tr>\n",
       "  </tbody>\n",
       "</table>\n",
       "</div>"
      ],
      "text/plain": [
       "   Sl_No  Customer Key  Avg_Credit_Limit  Total_Credit_Cards  \\\n",
       "0      1         87073            100000                   2   \n",
       "1      2         38414             50000                   3   \n",
       "2      3         17341             50000                   7   \n",
       "3      4         40496             30000                   5   \n",
       "4      5         47437            100000                   6   \n",
       "\n",
       "   Total_visits_bank  Total_visits_online  Total_calls_made  \n",
       "0                  1                    1                 0  \n",
       "1                  0                   10                 9  \n",
       "2                  1                    3                 4  \n",
       "3                  1                    1                 4  \n",
       "4                  0                   12                 3  "
      ]
     },
     "execution_count": 4,
     "metadata": {},
     "output_type": "execute_result"
    }
   ],
   "source": [
    "credit.head()"
   ]
  },
  {
   "cell_type": "code",
   "execution_count": 5,
   "id": "fbe383e3",
   "metadata": {
    "execution": {
     "iopub.execute_input": "2023-06-13T02:31:02.801445Z",
     "iopub.status.busy": "2023-06-13T02:31:02.800714Z",
     "iopub.status.idle": "2023-06-13T02:31:02.827839Z",
     "shell.execute_reply": "2023-06-13T02:31:02.826533Z"
    },
    "papermill": {
     "duration": 0.036898,
     "end_time": "2023-06-13T02:31:02.830298",
     "exception": false,
     "start_time": "2023-06-13T02:31:02.793400",
     "status": "completed"
    },
    "tags": []
   },
   "outputs": [
    {
     "name": "stdout",
     "output_type": "stream",
     "text": [
      "<class 'pandas.core.frame.DataFrame'>\n",
      "RangeIndex: 660 entries, 0 to 659\n",
      "Data columns (total 7 columns):\n",
      " #   Column               Non-Null Count  Dtype\n",
      "---  ------               --------------  -----\n",
      " 0   Sl_No                660 non-null    int64\n",
      " 1   Customer Key         660 non-null    int64\n",
      " 2   Avg_Credit_Limit     660 non-null    int64\n",
      " 3   Total_Credit_Cards   660 non-null    int64\n",
      " 4   Total_visits_bank    660 non-null    int64\n",
      " 5   Total_visits_online  660 non-null    int64\n",
      " 6   Total_calls_made     660 non-null    int64\n",
      "dtypes: int64(7)\n",
      "memory usage: 36.2 KB\n"
     ]
    }
   ],
   "source": [
    "credit.info()"
   ]
  },
  {
   "cell_type": "code",
   "execution_count": 6,
   "id": "67420f4d",
   "metadata": {
    "execution": {
     "iopub.execute_input": "2023-06-13T02:31:02.844337Z",
     "iopub.status.busy": "2023-06-13T02:31:02.843953Z",
     "iopub.status.idle": "2023-06-13T02:31:02.850704Z",
     "shell.execute_reply": "2023-06-13T02:31:02.849563Z"
    },
    "papermill": {
     "duration": 0.016431,
     "end_time": "2023-06-13T02:31:02.852855",
     "exception": false,
     "start_time": "2023-06-13T02:31:02.836424",
     "status": "completed"
    },
    "tags": []
   },
   "outputs": [
    {
     "data": {
      "text/plain": [
       "(660, 7)"
      ]
     },
     "execution_count": 6,
     "metadata": {},
     "output_type": "execute_result"
    }
   ],
   "source": [
    "credit.shape"
   ]
  },
  {
   "cell_type": "code",
   "execution_count": 7,
   "id": "505a5ba9",
   "metadata": {
    "execution": {
     "iopub.execute_input": "2023-06-13T02:31:02.867413Z",
     "iopub.status.busy": "2023-06-13T02:31:02.866504Z",
     "iopub.status.idle": "2023-06-13T02:31:02.875206Z",
     "shell.execute_reply": "2023-06-13T02:31:02.874275Z"
    },
    "papermill": {
     "duration": 0.018176,
     "end_time": "2023-06-13T02:31:02.877326",
     "exception": false,
     "start_time": "2023-06-13T02:31:02.859150",
     "status": "completed"
    },
    "tags": []
   },
   "outputs": [
    {
     "data": {
      "text/plain": [
       "Sl_No                  0\n",
       "Customer Key           0\n",
       "Avg_Credit_Limit       0\n",
       "Total_Credit_Cards     0\n",
       "Total_visits_bank      0\n",
       "Total_visits_online    0\n",
       "Total_calls_made       0\n",
       "dtype: int64"
      ]
     },
     "execution_count": 7,
     "metadata": {},
     "output_type": "execute_result"
    }
   ],
   "source": [
    "credit.isna().sum()"
   ]
  },
  {
   "cell_type": "markdown",
   "id": "a8b32d6d",
   "metadata": {
    "papermill": {
     "duration": 0.005923,
     "end_time": "2023-06-13T02:31:02.889781",
     "exception": false,
     "start_time": "2023-06-13T02:31:02.883858",
     "status": "completed"
    },
    "tags": []
   },
   "source": [
    "La columna \"Sl_No\" la eliminamos ya que se trata de una columna con los numeros de fila de cada cliente. Por otro lado, la columna \"Customer Key\" "
   ]
  },
  {
   "cell_type": "code",
   "execution_count": 8,
   "id": "63472d29",
   "metadata": {
    "execution": {
     "iopub.execute_input": "2023-06-13T02:31:02.904499Z",
     "iopub.status.busy": "2023-06-13T02:31:02.903821Z",
     "iopub.status.idle": "2023-06-13T02:31:02.909172Z",
     "shell.execute_reply": "2023-06-13T02:31:02.908436Z"
    },
    "papermill": {
     "duration": 0.015282,
     "end_time": "2023-06-13T02:31:02.911322",
     "exception": false,
     "start_time": "2023-06-13T02:31:02.896040",
     "status": "completed"
    },
    "tags": []
   },
   "outputs": [],
   "source": [
    "credits = credit.set_index(\"Customer Key\")"
   ]
  },
  {
   "cell_type": "code",
   "execution_count": 9,
   "id": "00d2070b",
   "metadata": {
    "execution": {
     "iopub.execute_input": "2023-06-13T02:31:02.925543Z",
     "iopub.status.busy": "2023-06-13T02:31:02.924917Z",
     "iopub.status.idle": "2023-06-13T02:31:02.933211Z",
     "shell.execute_reply": "2023-06-13T02:31:02.932263Z"
    },
    "papermill": {
     "duration": 0.017886,
     "end_time": "2023-06-13T02:31:02.935268",
     "exception": false,
     "start_time": "2023-06-13T02:31:02.917382",
     "status": "completed"
    },
    "tags": []
   },
   "outputs": [
    {
     "data": {
      "text/plain": [
       "Customer Key\n",
       "87073      1\n",
       "38414      2\n",
       "17341      3\n",
       "40496      4\n",
       "47437      5\n",
       "        ... \n",
       "51108    656\n",
       "60732    657\n",
       "53834    658\n",
       "80655    659\n",
       "80150    660\n",
       "Name: Sl_No, Length: 660, dtype: int64"
      ]
     },
     "execution_count": 9,
     "metadata": {},
     "output_type": "execute_result"
    }
   ],
   "source": [
    "credits.pop(\"Sl_No\")"
   ]
  },
  {
   "cell_type": "code",
   "execution_count": 10,
   "id": "c306d05c",
   "metadata": {
    "execution": {
     "iopub.execute_input": "2023-06-13T02:31:02.949311Z",
     "iopub.status.busy": "2023-06-13T02:31:02.948915Z",
     "iopub.status.idle": "2023-06-13T02:31:02.959308Z",
     "shell.execute_reply": "2023-06-13T02:31:02.958505Z"
    },
    "papermill": {
     "duration": 0.019629,
     "end_time": "2023-06-13T02:31:02.961279",
     "exception": false,
     "start_time": "2023-06-13T02:31:02.941650",
     "status": "completed"
    },
    "tags": []
   },
   "outputs": [
    {
     "data": {
      "text/html": [
       "<div>\n",
       "<style scoped>\n",
       "    .dataframe tbody tr th:only-of-type {\n",
       "        vertical-align: middle;\n",
       "    }\n",
       "\n",
       "    .dataframe tbody tr th {\n",
       "        vertical-align: top;\n",
       "    }\n",
       "\n",
       "    .dataframe thead th {\n",
       "        text-align: right;\n",
       "    }\n",
       "</style>\n",
       "<table border=\"1\" class=\"dataframe\">\n",
       "  <thead>\n",
       "    <tr style=\"text-align: right;\">\n",
       "      <th></th>\n",
       "      <th>Avg_Credit_Limit</th>\n",
       "      <th>Total_Credit_Cards</th>\n",
       "      <th>Total_visits_bank</th>\n",
       "      <th>Total_visits_online</th>\n",
       "      <th>Total_calls_made</th>\n",
       "    </tr>\n",
       "    <tr>\n",
       "      <th>Customer Key</th>\n",
       "      <th></th>\n",
       "      <th></th>\n",
       "      <th></th>\n",
       "      <th></th>\n",
       "      <th></th>\n",
       "    </tr>\n",
       "  </thead>\n",
       "  <tbody>\n",
       "    <tr>\n",
       "      <th>87073</th>\n",
       "      <td>100000</td>\n",
       "      <td>2</td>\n",
       "      <td>1</td>\n",
       "      <td>1</td>\n",
       "      <td>0</td>\n",
       "    </tr>\n",
       "    <tr>\n",
       "      <th>38414</th>\n",
       "      <td>50000</td>\n",
       "      <td>3</td>\n",
       "      <td>0</td>\n",
       "      <td>10</td>\n",
       "      <td>9</td>\n",
       "    </tr>\n",
       "    <tr>\n",
       "      <th>17341</th>\n",
       "      <td>50000</td>\n",
       "      <td>7</td>\n",
       "      <td>1</td>\n",
       "      <td>3</td>\n",
       "      <td>4</td>\n",
       "    </tr>\n",
       "    <tr>\n",
       "      <th>40496</th>\n",
       "      <td>30000</td>\n",
       "      <td>5</td>\n",
       "      <td>1</td>\n",
       "      <td>1</td>\n",
       "      <td>4</td>\n",
       "    </tr>\n",
       "    <tr>\n",
       "      <th>47437</th>\n",
       "      <td>100000</td>\n",
       "      <td>6</td>\n",
       "      <td>0</td>\n",
       "      <td>12</td>\n",
       "      <td>3</td>\n",
       "    </tr>\n",
       "  </tbody>\n",
       "</table>\n",
       "</div>"
      ],
      "text/plain": [
       "              Avg_Credit_Limit  Total_Credit_Cards  Total_visits_bank  \\\n",
       "Customer Key                                                            \n",
       "87073                   100000                   2                  1   \n",
       "38414                    50000                   3                  0   \n",
       "17341                    50000                   7                  1   \n",
       "40496                    30000                   5                  1   \n",
       "47437                   100000                   6                  0   \n",
       "\n",
       "              Total_visits_online  Total_calls_made  \n",
       "Customer Key                                         \n",
       "87073                           1                 0  \n",
       "38414                          10                 9  \n",
       "17341                           3                 4  \n",
       "40496                           1                 4  \n",
       "47437                          12                 3  "
      ]
     },
     "execution_count": 10,
     "metadata": {},
     "output_type": "execute_result"
    }
   ],
   "source": [
    "credits.head()"
   ]
  },
  {
   "cell_type": "code",
   "execution_count": 11,
   "id": "0e8121e7",
   "metadata": {
    "execution": {
     "iopub.execute_input": "2023-06-13T02:31:02.975899Z",
     "iopub.status.busy": "2023-06-13T02:31:02.975469Z",
     "iopub.status.idle": "2023-06-13T02:31:03.501791Z",
     "shell.execute_reply": "2023-06-13T02:31:03.500756Z"
    },
    "papermill": {
     "duration": 0.53649,
     "end_time": "2023-06-13T02:31:03.504253",
     "exception": false,
     "start_time": "2023-06-13T02:31:02.967763",
     "status": "completed"
    },
    "tags": []
   },
   "outputs": [
    {
     "data": {
      "image/png": "[encoded data removed]",
      "text/plain": [
       "<Figure size 1500x800 with 2 Axes>"
      ]
     },
     "metadata": {},
     "output_type": "display_data"
    }
   ],
   "source": [
    "correlation_matrix = credit.corr()\n",
    "rounded_matrix = np.round(correlation_matrix, decimals=2)\n",
    "plt.figure(figsize = (15,8))\n",
    "sns.heatmap(correlation_matrix, vmax=1, vmin=-1, annot=True, cmap=\"coolwarm\")\n",
    "plt.show()"
   ]
  },
  {
   "cell_type": "code",
   "execution_count": 12,
   "id": "b5b20723",
   "metadata": {
    "execution": {
     "iopub.execute_input": "2023-06-13T02:31:03.522346Z",
     "iopub.status.busy": "2023-06-13T02:31:03.521518Z",
     "iopub.status.idle": "2023-06-13T02:31:03.552058Z",
     "shell.execute_reply": "2023-06-13T02:31:03.550900Z"
    },
    "papermill": {
     "duration": 0.041775,
     "end_time": "2023-06-13T02:31:03.554325",
     "exception": false,
     "start_time": "2023-06-13T02:31:03.512550",
     "status": "completed"
    },
    "tags": []
   },
   "outputs": [
    {
     "data": {
      "text/html": [
       "<div>\n",
       "<style scoped>\n",
       "    .dataframe tbody tr th:only-of-type {\n",
       "        vertical-align: middle;\n",
       "    }\n",
       "\n",
       "    .dataframe tbody tr th {\n",
       "        vertical-align: top;\n",
       "    }\n",
       "\n",
       "    .dataframe thead th {\n",
       "        text-align: right;\n",
       "    }\n",
       "</style>\n",
       "<table border=\"1\" class=\"dataframe\">\n",
       "  <thead>\n",
       "    <tr style=\"text-align: right;\">\n",
       "      <th></th>\n",
       "      <th>count</th>\n",
       "      <th>mean</th>\n",
       "      <th>std</th>\n",
       "      <th>min</th>\n",
       "      <th>25%</th>\n",
       "      <th>50%</th>\n",
       "      <th>75%</th>\n",
       "      <th>max</th>\n",
       "    </tr>\n",
       "  </thead>\n",
       "  <tbody>\n",
       "    <tr>\n",
       "      <th>Avg_Credit_Limit</th>\n",
       "      <td>660.0</td>\n",
       "      <td>34574.242424</td>\n",
       "      <td>37625.487804</td>\n",
       "      <td>3000.0</td>\n",
       "      <td>10000.0</td>\n",
       "      <td>18000.0</td>\n",
       "      <td>48000.0</td>\n",
       "      <td>200000.0</td>\n",
       "    </tr>\n",
       "    <tr>\n",
       "      <th>Total_Credit_Cards</th>\n",
       "      <td>660.0</td>\n",
       "      <td>4.706061</td>\n",
       "      <td>2.167835</td>\n",
       "      <td>1.0</td>\n",
       "      <td>3.0</td>\n",
       "      <td>5.0</td>\n",
       "      <td>6.0</td>\n",
       "      <td>10.0</td>\n",
       "    </tr>\n",
       "    <tr>\n",
       "      <th>Total_visits_bank</th>\n",
       "      <td>660.0</td>\n",
       "      <td>2.403030</td>\n",
       "      <td>1.631813</td>\n",
       "      <td>0.0</td>\n",
       "      <td>1.0</td>\n",
       "      <td>2.0</td>\n",
       "      <td>4.0</td>\n",
       "      <td>5.0</td>\n",
       "    </tr>\n",
       "    <tr>\n",
       "      <th>Total_visits_online</th>\n",
       "      <td>660.0</td>\n",
       "      <td>2.606061</td>\n",
       "      <td>2.935724</td>\n",
       "      <td>0.0</td>\n",
       "      <td>1.0</td>\n",
       "      <td>2.0</td>\n",
       "      <td>4.0</td>\n",
       "      <td>15.0</td>\n",
       "    </tr>\n",
       "    <tr>\n",
       "      <th>Total_calls_made</th>\n",
       "      <td>660.0</td>\n",
       "      <td>3.583333</td>\n",
       "      <td>2.865317</td>\n",
       "      <td>0.0</td>\n",
       "      <td>1.0</td>\n",
       "      <td>3.0</td>\n",
       "      <td>5.0</td>\n",
       "      <td>10.0</td>\n",
       "    </tr>\n",
       "  </tbody>\n",
       "</table>\n",
       "</div>"
      ],
      "text/plain": [
       "                     count          mean           std     min      25%  \\\n",
       "Avg_Credit_Limit     660.0  34574.242424  37625.487804  3000.0  10000.0   \n",
       "Total_Credit_Cards   660.0      4.706061      2.167835     1.0      3.0   \n",
       "Total_visits_bank    660.0      2.403030      1.631813     0.0      1.0   \n",
       "Total_visits_online  660.0      2.606061      2.935724     0.0      1.0   \n",
       "Total_calls_made     660.0      3.583333      2.865317     0.0      1.0   \n",
       "\n",
       "                         50%      75%       max  \n",
       "Avg_Credit_Limit     18000.0  48000.0  200000.0  \n",
       "Total_Credit_Cards       5.0      6.0      10.0  \n",
       "Total_visits_bank        2.0      4.0       5.0  \n",
       "Total_visits_online      2.0      4.0      15.0  \n",
       "Total_calls_made         3.0      5.0      10.0  "
      ]
     },
     "execution_count": 12,
     "metadata": {},
     "output_type": "execute_result"
    }
   ],
   "source": [
    "credits.describe().T"
   ]
  },
  {
   "cell_type": "markdown",
   "id": "df4aa2c4",
   "metadata": {
    "papermill": {
     "duration": 0.007772,
     "end_time": "2023-06-13T02:31:03.569890",
     "exception": false,
     "start_time": "2023-06-13T02:31:03.562118",
     "status": "completed"
    },
    "tags": []
   },
   "source": [
    "De estas columnas, solo la de \"Avg_Credit_Limit\" es la unica que contiene valores numericos continuos, las columnas restantes contienen valores numericos discretos"
   ]
  },
  {
   "cell_type": "markdown",
   "id": "6aa3211e",
   "metadata": {
    "papermill": {
     "duration": 0.007478,
     "end_time": "2023-06-13T02:31:03.585449",
     "exception": false,
     "start_time": "2023-06-13T02:31:03.577971",
     "status": "completed"
    },
    "tags": []
   },
   "source": [
    "Convendria hacer un boxplot para las otras 4 columnas, asi observamos mas comodamente los datos"
   ]
  },
  {
   "cell_type": "markdown",
   "id": "e44e6c91",
   "metadata": {
    "papermill": {
     "duration": 0.007337,
     "end_time": "2023-06-13T02:31:03.600417",
     "exception": false,
     "start_time": "2023-06-13T02:31:03.593080",
     "status": "completed"
    },
    "tags": []
   },
   "source": [
    "Ajusto algunos parametros en cada boxplot en base a sus valores maximos, para facilitar la lectura"
   ]
  },
  {
   "cell_type": "code",
   "execution_count": 13,
   "id": "219c0849",
   "metadata": {
    "execution": {
     "iopub.execute_input": "2023-06-13T02:31:03.618038Z",
     "iopub.status.busy": "2023-06-13T02:31:03.617368Z",
     "iopub.status.idle": "2023-06-13T02:31:04.342551Z",
     "shell.execute_reply": "2023-06-13T02:31:04.341251Z"
    },
    "papermill": {
     "duration": 0.738291,
     "end_time": "2023-06-13T02:31:04.346498",
     "exception": false,
     "start_time": "2023-06-13T02:31:03.608207",
     "status": "completed"
    },
    "tags": []
   },
   "outputs": [
    {
     "name": "stdout",
     "output_type": "stream",
     "text": [
      "Boxplot de Total Credit Cards:        \n"
     ]
    },
    {
     "data": {
      "image/png": "[encoded data removed]",
      "text/plain": [
       "<Figure size 640x480 with 1 Axes>"
      ]
     },
     "metadata": {},
     "output_type": "display_data"
    },
    {
     "name": "stdout",
     "output_type": "stream",
     "text": [
      "----------------------------------------------------------------------------\n",
      "Boxplot de Total_visits_bank:         \n"
     ]
    },
    {
     "data": {
      "image/png": "[encoded data removed]",
      "text/plain": [
       "<Figure size 640x480 with 1 Axes>"
      ]
     },
     "metadata": {},
     "output_type": "display_data"
    },
    {
     "name": "stdout",
     "output_type": "stream",
     "text": [
      "----------------------------------------------------------------------------\n",
      "Boxplot de Total_visits_online:       \n"
     ]
    },
    {
     "data": {
      "image/png": "[encoded data removed]",
      "text/plain": [
       "<Figure size 640x480 with 1 Axes>"
      ]
     },
     "metadata": {},
     "output_type": "display_data"
    },
    {
     "name": "stdout",
     "output_type": "stream",
     "text": [
      "----------------------------------------------------------------------------\n",
      "Boxplot de Total_calls_made:       \n"
     ]
    },
    {
     "data": {
      "image/png": "[encoded data removed]",
      "text/plain": [
       "<Figure size 640x480 with 1 Axes>"
      ]
     },
     "metadata": {},
     "output_type": "display_data"
    }
   ],
   "source": [
    "print(\"Boxplot de Total Credit Cards:        \")\n",
    "plt.yticks(np.arange(0, 12))\n",
    "plt.grid(True)\n",
    "plt.boxplot(credit.loc[:,\"Total_Credit_Cards\"])\n",
    "plt.show()\n",
    "\n",
    "print(\"----------------------------------------------------------------------------\")\n",
    "\n",
    "print(\"Boxplot de Total_visits_bank:         \")\n",
    "plt.yticks(np.arange(0, 6))\n",
    "plt.grid(True)\n",
    "plt.boxplot(credit.loc[:,\"Total_visits_bank\"])\n",
    "plt.show()\n",
    "\n",
    "\n",
    "print(\"----------------------------------------------------------------------------\")\n",
    "\n",
    "print(\"Boxplot de Total_visits_online:       \")\n",
    "plt.yticks(np.arange(0, 16))\n",
    "plt.grid(True)\n",
    "plt.boxplot(credit.loc[:,\"Total_visits_online\"])\n",
    "plt.show()\n",
    "\n",
    "print(\"----------------------------------------------------------------------------\")\n",
    "\n",
    "print(\"Boxplot de Total_calls_made:       \")\n",
    "plt.yticks(np.arange(0, 12))\n",
    "plt.grid(True)\n",
    "plt.boxplot(credit.loc[:,\"Total_calls_made\"])\n",
    "plt.show()\n"
   ]
  },
  {
   "cell_type": "markdown",
   "id": "71d8fdeb",
   "metadata": {
    "papermill": {
     "duration": 0.012269,
     "end_time": "2023-06-13T02:31:04.373545",
     "exception": false,
     "start_time": "2023-06-13T02:31:04.361276",
     "status": "completed"
    },
    "tags": []
   },
   "source": [
    "Voy a realizar un modelo de K-means para agrupar a los clientes en determinados grupos"
   ]
  },
  {
   "cell_type": "markdown",
   "id": "566c4de6",
   "metadata": {
    "papermill": {
     "duration": 0.012088,
     "end_time": "2023-06-13T02:31:04.399257",
     "exception": false,
     "start_time": "2023-06-13T02:31:04.387169",
     "status": "completed"
    },
    "tags": []
   },
   "source": [
    "Supongamos que queremos agrupar a los clientes en dos grupos, para ver el comportamiento con el consumo de la tarjeta de credito"
   ]
  },
  {
   "cell_type": "markdown",
   "id": "308619df",
   "metadata": {
    "papermill": {
     "duration": 0.010565,
     "end_time": "2023-06-13T02:31:04.418765",
     "exception": false,
     "start_time": "2023-06-13T02:31:04.408200",
     "status": "completed"
    },
    "tags": []
   },
   "source": [
    "Y vamos a tratar de agrupar a los clientes en dos grupos: aquellos que tienen un alto uso de la tarjeta y aquellos que tienen un bajo uso de la misma"
   ]
  },
  {
   "cell_type": "code",
   "execution_count": 14,
   "id": "b7567cc8",
   "metadata": {
    "execution": {
     "iopub.execute_input": "2023-06-13T02:31:04.439457Z",
     "iopub.status.busy": "2023-06-13T02:31:04.439039Z",
     "iopub.status.idle": "2023-06-13T02:31:05.108090Z",
     "shell.execute_reply": "2023-06-13T02:31:05.106874Z"
    },
    "papermill": {
     "duration": 0.682849,
     "end_time": "2023-06-13T02:31:05.111010",
     "exception": false,
     "start_time": "2023-06-13T02:31:04.428161",
     "status": "completed"
    },
    "tags": []
   },
   "outputs": [],
   "source": [
    "from sklearn.cluster import KMeans\n"
   ]
  },
  {
   "cell_type": "code",
   "execution_count": 15,
   "id": "ae73c780",
   "metadata": {
    "execution": {
     "iopub.execute_input": "2023-06-13T02:31:05.131327Z",
     "iopub.status.busy": "2023-06-13T02:31:05.130593Z",
     "iopub.status.idle": "2023-06-13T02:31:05.135228Z",
     "shell.execute_reply": "2023-06-13T02:31:05.134542Z"
    },
    "papermill": {
     "duration": 0.01728,
     "end_time": "2023-06-13T02:31:05.137326",
     "exception": false,
     "start_time": "2023-06-13T02:31:05.120046",
     "status": "completed"
    },
    "tags": []
   },
   "outputs": [],
   "source": [
    "kmeans = KMeans(n_clusters = 4, n_init=10)"
   ]
  },
  {
   "cell_type": "code",
   "execution_count": 16,
   "id": "ff4ea94c",
   "metadata": {
    "execution": {
     "iopub.execute_input": "2023-06-13T02:31:05.157388Z",
     "iopub.status.busy": "2023-06-13T02:31:05.156628Z",
     "iopub.status.idle": "2023-06-13T02:31:05.261882Z",
     "shell.execute_reply": "2023-06-13T02:31:05.260815Z"
    },
    "papermill": {
     "duration": 0.118104,
     "end_time": "2023-06-13T02:31:05.264369",
     "exception": false,
     "start_time": "2023-06-13T02:31:05.146265",
     "status": "completed"
    },
    "tags": []
   },
   "outputs": [
    {
     "data": {
      "text/html": [
       "<style>#sk-container-id-1 {color: black;background-color: white;}#sk-container-id-1 pre{padding: 0;}#sk-container-id-1 div.sk-toggleable {background-color: white;}#sk-container-id-1 label.sk-toggleable__label {cursor: pointer;display: block;width: 100%;margin-bottom: 0;padding: 0.3em;box-sizing: border-box;text-align: center;}#sk-container-id-1 label.sk-toggleable__label-arrow:before {content: \"▸\";float: left;margin-right: 0.25em;color: #696969;}#sk-container-id-1 label.sk-toggleable__label-arrow:hover:before {color: black;}#sk-container-id-1 div.sk-estimator:hover label.sk-toggleable__label-arrow:before {color: black;}#sk-container-id-1 div.sk-toggleable__content {max-height: 0;max-width: 0;overflow: hidden;text-align: left;background-color: #f0f8ff;}#sk-container-id-1 div.sk-toggleable__content pre {margin: 0.2em;color: black;border-radius: 0.25em;background-color: #f0f8ff;}#sk-container-id-1 input.sk-toggleable__control:checked~div.sk-toggleable__content {max-height: 200px;max-width: 100%;overflow: auto;}#sk-container-id-1 input.sk-toggleable__control:checked~label.sk-toggleable__label-arrow:before {content: \"▾\";}#sk-container-id-1 div.sk-estimator input.sk-toggleable__control:checked~label.sk-toggleable__label {background-color: #d4ebff;}#sk-container-id-1 div.sk-label input.sk-toggleable__control:checked~label.sk-toggleable__label {background-color: #d4ebff;}#sk-container-id-1 input.sk-hidden--visually {border: 0;clip: rect(1px 1px 1px 1px);clip: rect(1px, 1px, 1px, 1px);height: 1px;margin: -1px;overflow: hidden;padding: 0;position: absolute;width: 1px;}#sk-container-id-1 div.sk-estimator {font-family: monospace;background-color: #f0f8ff;border: 1px dotted black;border-radius: 0.25em;box-sizing: border-box;margin-bottom: 0.5em;}#sk-container-id-1 div.sk-estimator:hover {background-color: #d4ebff;}#sk-container-id-1 div.sk-parallel-item::after {content: \"\";width: 100%;border-bottom: 1px solid gray;flex-grow: 1;}#sk-container-id-1 div.sk-label:hover label.sk-toggleable__label {background-color: #d4ebff;}#sk-container-id-1 div.sk-serial::before {content: \"\";position: absolute;border-left: 1px solid gray;box-sizing: border-box;top: 0;bottom: 0;left: 50%;z-index: 0;}#sk-container-id-1 div.sk-serial {display: flex;flex-direction: column;align-items: center;background-color: white;padding-right: 0.2em;padding-left: 0.2em;position: relative;}#sk-container-id-1 div.sk-item {position: relative;z-index: 1;}#sk-container-id-1 div.sk-parallel {display: flex;align-items: stretch;justify-content: center;background-color: white;position: relative;}#sk-container-id-1 div.sk-item::before, #sk-container-id-1 div.sk-parallel-item::before {content: \"\";position: absolute;border-left: 1px solid gray;box-sizing: border-box;top: 0;bottom: 0;left: 50%;z-index: -1;}#sk-container-id-1 div.sk-parallel-item {display: flex;flex-direction: column;z-index: 1;position: relative;background-color: white;}#sk-container-id-1 div.sk-parallel-item:first-child::after {align-self: flex-end;width: 50%;}#sk-container-id-1 div.sk-parallel-item:last-child::after {align-self: flex-start;width: 50%;}#sk-container-id-1 div.sk-parallel-item:only-child::after {width: 0;}#sk-container-id-1 div.sk-dashed-wrapped {border: 1px dashed gray;margin: 0 0.4em 0.5em 0.4em;box-sizing: border-box;padding-bottom: 0.4em;background-color: white;}#sk-container-id-1 div.sk-label label {font-family: monospace;font-weight: bold;display: inline-block;line-height: 1.2em;}#sk-container-id-1 div.sk-label-container {text-align: center;}#sk-container-id-1 div.sk-container {/* jupyter's `normalize.less` sets `[hidden] { display: none; }` but bootstrap.min.css set `[hidden] { display: none !important; }` so we also need the `!important` here to be able to override the default hidden behavior on the sphinx rendered scikit-learn.org. See: https://github.com/scikit-learn/scikit-learn/issues/21755 */display: inline-block !important;position: relative;}#sk-container-id-1 div.sk-text-repr-fallback {display: none;}</style><div id=\"sk-container-id-1\" class=\"sk-top-container\"><div class=\"sk-text-repr-fallback\"><pre>KMeans(n_clusters=4, n_init=10)</pre><b>In a Jupyter environment, please rerun this cell to show the HTML representation or trust the notebook. <br />On GitHub, the HTML representation is unable to render, please try loading this page with nbviewer.org.</b></div><div class=\"sk-container\" hidden><div class=\"sk-item\"><div class=\"sk-estimator sk-toggleable\"><input class=\"sk-toggleable__control sk-hidden--visually\" id=\"sk-estimator-id-1\" type=\"checkbox\" checked><label for=\"sk-estimator-id-1\" class=\"sk-toggleable__label sk-toggleable__label-arrow\">KMeans</label><div class=\"sk-toggleable__content\"><pre>KMeans(n_clusters=4, n_init=10)</pre></div></div></div></div></div>"
      ],
      "text/plain": [
       "KMeans(n_clusters=4, n_init=10)"
      ]
     },
     "execution_count": 16,
     "metadata": {},
     "output_type": "execute_result"
    }
   ],
   "source": [
    "kmeans.fit(credits)"
   ]
  },
  {
   "cell_type": "code",
   "execution_count": 17,
   "id": "0489e1dc",
   "metadata": {
    "execution": {
     "iopub.execute_input": "2023-06-13T02:31:05.284867Z",
     "iopub.status.busy": "2023-06-13T02:31:05.284444Z",
     "iopub.status.idle": "2023-06-13T02:31:05.289237Z",
     "shell.execute_reply": "2023-06-13T02:31:05.288317Z"
    },
    "papermill": {
     "duration": 0.017851,
     "end_time": "2023-06-13T02:31:05.291651",
     "exception": false,
     "start_time": "2023-06-13T02:31:05.273800",
     "status": "completed"
    },
    "tags": []
   },
   "outputs": [],
   "source": [
    "centroids = kmeans.cluster_centers_\n",
    "labels = kmeans.labels_"
   ]
  },
  {
   "cell_type": "code",
   "execution_count": 18,
   "id": "4553bb43",
   "metadata": {
    "execution": {
     "iopub.execute_input": "2023-06-13T02:31:05.311971Z",
     "iopub.status.busy": "2023-06-13T02:31:05.311565Z",
     "iopub.status.idle": "2023-06-13T02:31:05.319718Z",
     "shell.execute_reply": "2023-06-13T02:31:05.317884Z"
    },
    "papermill": {
     "duration": 0.02178,
     "end_time": "2023-06-13T02:31:05.322708",
     "exception": false,
     "start_time": "2023-06-13T02:31:05.300928",
     "status": "completed"
    },
    "tags": []
   },
   "outputs": [
    {
     "name": "stdout",
     "output_type": "stream",
     "text": [
      "Centroides:\n",
      "[[1.23994975e+04 3.75879397e+00 2.11306533e+00 2.41708543e+00\n",
      "  4.71105528e+00]\n",
      " [1.60676471e+05 8.67647059e+00 5.88235294e-01 1.11470588e+01\n",
      "  1.00000000e+00]\n",
      " [4.18000000e+04 5.53333333e+00 3.42222222e+00 1.05925926e+00\n",
      "  2.08148148e+00]\n",
      " [7.28817204e+04 6.10752688e+00 2.82795699e+00 2.53763441e+00\n",
      "  1.88172043e+00]]\n",
      "Etiquetas de los clusters:\n",
      "[3 2 2 2 3 0 3 0 0 0 0 0 0 0 0 0 0 0 0 0 0 0 0 0 0 0 0 0 0 0 0 0 0 0 0 0 0\n",
      " 0 0 0 0 0 0 0 0 0 0 0 0 0 0 0 0 0 0 0 0 0 0 0 0 0 0 0 0 0 0 0 0 0 0 0 0 0\n",
      " 0 0 0 0 0 0 0 0 0 0 0 0 0 0 0 0 0 0 0 0 0 0 0 0 0 0 0 0 0 0 0 0 0 0 0 0 0\n",
      " 0 0 0 0 0 0 0 0 0 0 0 0 0 0 0 0 0 0 0 0 0 0 0 0 0 0 0 0 0 0 0 0 0 0 0 0 0\n",
      " 0 0 0 0 0 0 0 0 0 0 0 0 0 0 0 0 0 0 0 0 0 0 0 0 0 0 0 0 0 0 0 0 0 0 0 0 0\n",
      " 0 0 0 0 0 0 0 0 0 0 0 0 0 0 0 0 0 0 0 0 0 0 0 0 0 0 0 0 0 0 0 0 0 0 0 0 0\n",
      " 0 0 0 0 0 0 0 0 0 0 0 0 0 0 0 0 0 0 0 0 0 0 0 0 0 0 0 0 0 0 0 0 0 0 0 0 0\n",
      " 0 0 0 0 0 0 0 0 0 0 0 0 0 0 0 0 0 0 0 0 0 0 0 0 0 0 0 0 0 0 0 0 0 0 0 0 0\n",
      " 0 0 0 0 0 0 0 0 0 0 0 0 0 0 0 0 0 0 0 0 0 0 0 0 0 0 0 0 0 0 0 0 0 0 0 0 0\n",
      " 0 0 0 0 0 0 0 0 0 0 0 0 0 0 0 0 0 0 0 0 0 0 0 0 0 0 0 0 0 0 0 0 0 0 0 0 0\n",
      " 0 0 0 0 0 0 0 0 0 0 0 0 0 0 0 0 0 0 0 0 0 0 0 0 0 0 3 2 3 3 3 2 2 3 3 2 3\n",
      " 2 2 3 2 2 2 2 3 2 2 3 3 3 2 3 2 2 2 2 3 2 2 2 3 3 3 3 2 3 3 2 2 3 2 0 2 3\n",
      " 3 2 3 3 2 2 2 2 2 3 0 2 2 2 3 3 0 2 3 2 2 2 3 2 2 3 2 2 2 0 2 2 3 2 2 2 2\n",
      " 2 3 2 2 3 3 2 2 2 3 3 2 2 2 2 2 2 2 3 2 2 2 3 2 3 0 2 3 2 2 2 3 2 2 2 2 3\n",
      " 2 2 2 3 2 3 3 3 2 2 2 2 2 2 2 2 2 2 2 3 3 3 2 3 2 3 2 2 3 0 2 2 3 2 3 2 2\n",
      " 2 3 3 2 2 2 2 2 3 2 3 2 2 3 3 3 2 3 3 3 3 2 2 2 3 2 0 3 2 2 2 2 3 2 2 2 3\n",
      " 2 3 3 2 2 2 3 2 3 2 2 3 0 2 3 2 2 2 2 2 1 3 1 1 3 1 1 1 3 1 1 1 1 3 1 1 3\n",
      " 1 1 1 1 1 3 3 1 1 1 1 1 1 3 3 1 1 1 1 3 3 1 1 1 3 1 3 3 1 1 1]\n"
     ]
    }
   ],
   "source": [
    "print(\"Centroides:\")\n",
    "print(centroids)\n",
    "print(\"Etiquetas de los clusters:\")\n",
    "print(labels)\n"
   ]
  },
  {
   "cell_type": "markdown",
   "id": "6a23fcab",
   "metadata": {
    "papermill": {
     "duration": 0.009229,
     "end_time": "2023-06-13T02:31:05.341834",
     "exception": false,
     "start_time": "2023-06-13T02:31:05.332605",
     "status": "completed"
    },
    "tags": []
   },
   "source": [
    "Recordatorio: hay que establecer bien cuantos k vamos a poner en nuestro modelo"
   ]
  }
 ],
 "metadata": {
  "kernelspec": {
   "display_name": "Python 3",
   "language": "python",
   "name": "python3"
  },
  "language_info": {
   "codemirror_mode": {
    "name": "ipython",
    "version": 3
   },
   "file_extension": ".py",
   "mimetype": "text/x-python",
   "name": "python",
   "nbconvert_exporter": "python",
   "pygments_lexer": "ipython3",
   "version": "3.10.10"
  },
  "papermill": {
   "default_parameters": {},
   "duration": 17.452077,
   "end_time": "2023-06-13T02:31:06.374939",
   "environment_variables": {},
   "exception": null,
   "input_path": "__notebook__.ipynb",
   "output_path": "__notebook__.ipynb",
   "parameters": {},
   "start_time": "2023-06-13T02:30:48.922862",
   "version": "2.4.0"
  }
 },
 "nbformat": 4,
 "nbformat_minor": 5
}

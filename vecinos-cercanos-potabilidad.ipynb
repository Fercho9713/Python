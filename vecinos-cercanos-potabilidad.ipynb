{
 "cells": [
  {
   "cell_type": "code",
   "execution_count": 1,
   "id": "d60da0dc",
   "metadata": {
    "execution": {
     "iopub.execute_input": "2023-06-10T21:37:39.817141Z",
     "iopub.status.busy": "2023-06-10T21:37:39.816748Z",
     "iopub.status.idle": "2023-06-10T21:37:41.350304Z",
     "shell.execute_reply": "2023-06-10T21:37:41.349138Z"
    },
    "papermill": {
     "duration": 1.554295,
     "end_time": "2023-06-10T21:37:41.353296",
     "exception": false,
     "start_time": "2023-06-10T21:37:39.799001",
     "status": "completed"
    },
    "tags": []
   },
   "outputs": [],
   "source": [
    "import pandas as pd\n",
    "import seaborn as sns\n",
    "import numpy as np"
   ]
  },
  {
   "cell_type": "code",
   "execution_count": 2,
   "id": "419b18ff",
   "metadata": {
    "execution": {
     "iopub.execute_input": "2023-06-10T21:37:41.386050Z",
     "iopub.status.busy": "2023-06-10T21:37:41.385631Z",
     "iopub.status.idle": "2023-06-10T21:37:41.427028Z",
     "shell.execute_reply": "2023-06-10T21:37:41.426022Z"
    },
    "papermill": {
     "duration": 0.060643,
     "end_time": "2023-06-10T21:37:41.429498",
     "exception": false,
     "start_time": "2023-06-10T21:37:41.368855",
     "status": "completed"
    },
    "tags": []
   },
   "outputs": [],
   "source": [
    "water = pd.read_csv(\"/kaggle/input/water-potability/water_potability.csv\")"
   ]
  },
  {
   "cell_type": "code",
   "execution_count": 3,
   "id": "b68853a0",
   "metadata": {
    "execution": {
     "iopub.execute_input": "2023-06-10T21:37:41.462086Z",
     "iopub.status.busy": "2023-06-10T21:37:41.461474Z",
     "iopub.status.idle": "2023-06-10T21:37:41.467907Z",
     "shell.execute_reply": "2023-06-10T21:37:41.466987Z"
    },
    "papermill": {
     "duration": 0.025199,
     "end_time": "2023-06-10T21:37:41.469958",
     "exception": false,
     "start_time": "2023-06-10T21:37:41.444759",
     "status": "completed"
    },
    "tags": []
   },
   "outputs": [
    {
     "data": {
      "text/plain": [
       "(3276, 10)"
      ]
     },
     "execution_count": 3,
     "metadata": {},
     "output_type": "execute_result"
    }
   ],
   "source": [
    "water.shape"
   ]
  },
  {
   "cell_type": "code",
   "execution_count": 4,
   "id": "a30f53c8",
   "metadata": {
    "execution": {
     "iopub.execute_input": "2023-06-10T21:37:41.503054Z",
     "iopub.status.busy": "2023-06-10T21:37:41.502425Z",
     "iopub.status.idle": "2023-06-10T21:37:41.508095Z",
     "shell.execute_reply": "2023-06-10T21:37:41.507390Z"
    },
    "papermill": {
     "duration": 0.02487,
     "end_time": "2023-06-10T21:37:41.510152",
     "exception": false,
     "start_time": "2023-06-10T21:37:41.485282",
     "status": "completed"
    },
    "tags": []
   },
   "outputs": [
    {
     "data": {
      "text/plain": [
       "Index(['ph', 'Hardness', 'Solids', 'Chloramines', 'Sulfate', 'Conductivity',\n",
       "       'Organic_carbon', 'Trihalomethanes', 'Turbidity', 'Potability'],\n",
       "      dtype='object')"
      ]
     },
     "execution_count": 4,
     "metadata": {},
     "output_type": "execute_result"
    }
   ],
   "source": [
    "water.columns"
   ]
  },
  {
   "cell_type": "code",
   "execution_count": 5,
   "id": "2b735471",
   "metadata": {
    "execution": {
     "iopub.execute_input": "2023-06-10T21:37:41.543917Z",
     "iopub.status.busy": "2023-06-10T21:37:41.543293Z",
     "iopub.status.idle": "2023-06-10T21:37:41.609455Z",
     "shell.execute_reply": "2023-06-10T21:37:41.608392Z"
    },
    "papermill": {
     "duration": 0.085551,
     "end_time": "2023-06-10T21:37:41.611750",
     "exception": false,
     "start_time": "2023-06-10T21:37:41.526199",
     "status": "completed"
    },
    "tags": []
   },
   "outputs": [
    {
     "data": {
      "text/html": [
       "<div>\n",
       "<style scoped>\n",
       "    .dataframe tbody tr th:only-of-type {\n",
       "        vertical-align: middle;\n",
       "    }\n",
       "\n",
       "    .dataframe tbody tr th {\n",
       "        vertical-align: top;\n",
       "    }\n",
       "\n",
       "    .dataframe thead th {\n",
       "        text-align: right;\n",
       "    }\n",
       "</style>\n",
       "<table border=\"1\" class=\"dataframe\">\n",
       "  <thead>\n",
       "    <tr style=\"text-align: right;\">\n",
       "      <th></th>\n",
       "      <th>count</th>\n",
       "      <th>mean</th>\n",
       "      <th>std</th>\n",
       "      <th>min</th>\n",
       "      <th>25%</th>\n",
       "      <th>50%</th>\n",
       "      <th>75%</th>\n",
       "      <th>max</th>\n",
       "    </tr>\n",
       "  </thead>\n",
       "  <tbody>\n",
       "    <tr>\n",
       "      <th>ph</th>\n",
       "      <td>2785.0</td>\n",
       "      <td>7.080795</td>\n",
       "      <td>1.594320</td>\n",
       "      <td>0.000000</td>\n",
       "      <td>6.093092</td>\n",
       "      <td>7.036752</td>\n",
       "      <td>8.062066</td>\n",
       "      <td>14.000000</td>\n",
       "    </tr>\n",
       "    <tr>\n",
       "      <th>Hardness</th>\n",
       "      <td>3276.0</td>\n",
       "      <td>196.369496</td>\n",
       "      <td>32.879761</td>\n",
       "      <td>47.432000</td>\n",
       "      <td>176.850538</td>\n",
       "      <td>196.967627</td>\n",
       "      <td>216.667456</td>\n",
       "      <td>323.124000</td>\n",
       "    </tr>\n",
       "    <tr>\n",
       "      <th>Solids</th>\n",
       "      <td>3276.0</td>\n",
       "      <td>22014.092526</td>\n",
       "      <td>8768.570828</td>\n",
       "      <td>320.942611</td>\n",
       "      <td>15666.690297</td>\n",
       "      <td>20927.833607</td>\n",
       "      <td>27332.762127</td>\n",
       "      <td>61227.196008</td>\n",
       "    </tr>\n",
       "    <tr>\n",
       "      <th>Chloramines</th>\n",
       "      <td>3276.0</td>\n",
       "      <td>7.122277</td>\n",
       "      <td>1.583085</td>\n",
       "      <td>0.352000</td>\n",
       "      <td>6.127421</td>\n",
       "      <td>7.130299</td>\n",
       "      <td>8.114887</td>\n",
       "      <td>13.127000</td>\n",
       "    </tr>\n",
       "    <tr>\n",
       "      <th>Sulfate</th>\n",
       "      <td>2495.0</td>\n",
       "      <td>333.775777</td>\n",
       "      <td>41.416840</td>\n",
       "      <td>129.000000</td>\n",
       "      <td>307.699498</td>\n",
       "      <td>333.073546</td>\n",
       "      <td>359.950170</td>\n",
       "      <td>481.030642</td>\n",
       "    </tr>\n",
       "    <tr>\n",
       "      <th>Conductivity</th>\n",
       "      <td>3276.0</td>\n",
       "      <td>426.205111</td>\n",
       "      <td>80.824064</td>\n",
       "      <td>181.483754</td>\n",
       "      <td>365.734414</td>\n",
       "      <td>421.884968</td>\n",
       "      <td>481.792304</td>\n",
       "      <td>753.342620</td>\n",
       "    </tr>\n",
       "    <tr>\n",
       "      <th>Organic_carbon</th>\n",
       "      <td>3276.0</td>\n",
       "      <td>14.284970</td>\n",
       "      <td>3.308162</td>\n",
       "      <td>2.200000</td>\n",
       "      <td>12.065801</td>\n",
       "      <td>14.218338</td>\n",
       "      <td>16.557652</td>\n",
       "      <td>28.300000</td>\n",
       "    </tr>\n",
       "    <tr>\n",
       "      <th>Trihalomethanes</th>\n",
       "      <td>3114.0</td>\n",
       "      <td>66.396293</td>\n",
       "      <td>16.175008</td>\n",
       "      <td>0.738000</td>\n",
       "      <td>55.844536</td>\n",
       "      <td>66.622485</td>\n",
       "      <td>77.337473</td>\n",
       "      <td>124.000000</td>\n",
       "    </tr>\n",
       "    <tr>\n",
       "      <th>Turbidity</th>\n",
       "      <td>3276.0</td>\n",
       "      <td>3.966786</td>\n",
       "      <td>0.780382</td>\n",
       "      <td>1.450000</td>\n",
       "      <td>3.439711</td>\n",
       "      <td>3.955028</td>\n",
       "      <td>4.500320</td>\n",
       "      <td>6.739000</td>\n",
       "    </tr>\n",
       "    <tr>\n",
       "      <th>Potability</th>\n",
       "      <td>3276.0</td>\n",
       "      <td>0.390110</td>\n",
       "      <td>0.487849</td>\n",
       "      <td>0.000000</td>\n",
       "      <td>0.000000</td>\n",
       "      <td>0.000000</td>\n",
       "      <td>1.000000</td>\n",
       "      <td>1.000000</td>\n",
       "    </tr>\n",
       "  </tbody>\n",
       "</table>\n",
       "</div>"
      ],
      "text/plain": [
       "                  count          mean          std         min           25%  \\\n",
       "ph               2785.0      7.080795     1.594320    0.000000      6.093092   \n",
       "Hardness         3276.0    196.369496    32.879761   47.432000    176.850538   \n",
       "Solids           3276.0  22014.092526  8768.570828  320.942611  15666.690297   \n",
       "Chloramines      3276.0      7.122277     1.583085    0.352000      6.127421   \n",
       "Sulfate          2495.0    333.775777    41.416840  129.000000    307.699498   \n",
       "Conductivity     3276.0    426.205111    80.824064  181.483754    365.734414   \n",
       "Organic_carbon   3276.0     14.284970     3.308162    2.200000     12.065801   \n",
       "Trihalomethanes  3114.0     66.396293    16.175008    0.738000     55.844536   \n",
       "Turbidity        3276.0      3.966786     0.780382    1.450000      3.439711   \n",
       "Potability       3276.0      0.390110     0.487849    0.000000      0.000000   \n",
       "\n",
       "                          50%           75%           max  \n",
       "ph                   7.036752      8.062066     14.000000  \n",
       "Hardness           196.967627    216.667456    323.124000  \n",
       "Solids           20927.833607  27332.762127  61227.196008  \n",
       "Chloramines          7.130299      8.114887     13.127000  \n",
       "Sulfate            333.073546    359.950170    481.030642  \n",
       "Conductivity       421.884968    481.792304    753.342620  \n",
       "Organic_carbon      14.218338     16.557652     28.300000  \n",
       "Trihalomethanes     66.622485     77.337473    124.000000  \n",
       "Turbidity            3.955028      4.500320      6.739000  \n",
       "Potability           0.000000      1.000000      1.000000  "
      ]
     },
     "execution_count": 5,
     "metadata": {},
     "output_type": "execute_result"
    }
   ],
   "source": [
    "water.describe().T"
   ]
  },
  {
   "cell_type": "code",
   "execution_count": 6,
   "id": "c8e8d023",
   "metadata": {
    "execution": {
     "iopub.execute_input": "2023-06-10T21:37:41.645649Z",
     "iopub.status.busy": "2023-06-10T21:37:41.644996Z",
     "iopub.status.idle": "2023-06-10T21:37:41.667265Z",
     "shell.execute_reply": "2023-06-10T21:37:41.666433Z"
    },
    "papermill": {
     "duration": 0.043303,
     "end_time": "2023-06-10T21:37:41.670849",
     "exception": false,
     "start_time": "2023-06-10T21:37:41.627546",
     "status": "completed"
    },
    "tags": []
   },
   "outputs": [
    {
     "name": "stdout",
     "output_type": "stream",
     "text": [
      "<class 'pandas.core.frame.DataFrame'>\n",
      "RangeIndex: 3276 entries, 0 to 3275\n",
      "Data columns (total 10 columns):\n",
      " #   Column           Non-Null Count  Dtype  \n",
      "---  ------           --------------  -----  \n",
      " 0   ph               2785 non-null   float64\n",
      " 1   Hardness         3276 non-null   float64\n",
      " 2   Solids           3276 non-null   float64\n",
      " 3   Chloramines      3276 non-null   float64\n",
      " 4   Sulfate          2495 non-null   float64\n",
      " 5   Conductivity     3276 non-null   float64\n",
      " 6   Organic_carbon   3276 non-null   float64\n",
      " 7   Trihalomethanes  3114 non-null   float64\n",
      " 8   Turbidity        3276 non-null   float64\n",
      " 9   Potability       3276 non-null   int64  \n",
      "dtypes: float64(9), int64(1)\n",
      "memory usage: 256.1 KB\n"
     ]
    }
   ],
   "source": [
    "water.info()"
   ]
  },
  {
   "cell_type": "markdown",
   "id": "ca9b7315",
   "metadata": {
    "papermill": {
     "duration": 0.015781,
     "end_time": "2023-06-10T21:37:41.703585",
     "exception": false,
     "start_time": "2023-06-10T21:37:41.687804",
     "status": "completed"
    },
    "tags": []
   },
   "source": [
    "Todas las variables son de tipo numericas. Salvo la variable \"Potability\" el resto son numericas del subtipo float, es decir con decimales"
   ]
  },
  {
   "cell_type": "markdown",
   "id": "997c5212",
   "metadata": {
    "papermill": {
     "duration": 0.015866,
     "end_time": "2023-06-10T21:37:41.735802",
     "exception": false,
     "start_time": "2023-06-10T21:37:41.719936",
     "status": "completed"
    },
    "tags": []
   },
   "source": [
    "Veamos la correlacion entre las variables con ayuda de la matriz de correlacion"
   ]
  },
  {
   "cell_type": "code",
   "execution_count": 7,
   "id": "6f601f8b",
   "metadata": {
    "execution": {
     "iopub.execute_input": "2023-06-10T21:37:41.769820Z",
     "iopub.status.busy": "2023-06-10T21:37:41.769357Z",
     "iopub.status.idle": "2023-06-10T21:37:41.775349Z",
     "shell.execute_reply": "2023-06-10T21:37:41.774211Z"
    },
    "papermill": {
     "duration": 0.025801,
     "end_time": "2023-06-10T21:37:41.777583",
     "exception": false,
     "start_time": "2023-06-10T21:37:41.751782",
     "status": "completed"
    },
    "tags": []
   },
   "outputs": [],
   "source": [
    "import matplotlib.pyplot as plt\n",
    "%matplotlib inline"
   ]
  },
  {
   "cell_type": "code",
   "execution_count": 8,
   "id": "72405ac9",
   "metadata": {
    "execution": {
     "iopub.execute_input": "2023-06-10T21:37:41.812199Z",
     "iopub.status.busy": "2023-06-10T21:37:41.811183Z",
     "iopub.status.idle": "2023-06-10T21:37:42.516867Z",
     "shell.execute_reply": "2023-06-10T21:37:42.515439Z"
    },
    "papermill": {
     "duration": 0.726398,
     "end_time": "2023-06-10T21:37:42.519984",
     "exception": false,
     "start_time": "2023-06-10T21:37:41.793586",
     "status": "completed"
    },
    "tags": []
   },
   "outputs": [
    {
     "data": {
      "image/png": "[encoded data removed]",
      "text/plain": [
       "<Figure size 1000x500 with 2 Axes>"
      ]
     },
     "metadata": {},
     "output_type": "display_data"
    }
   ],
   "source": [
    "correlation_matrix = water.corr()\n",
    "rounded_matrix = np.round(correlation_matrix, decimals=2)\n",
    "plt.figure(figsize = (10,5))\n",
    "sns.heatmap(correlation_matrix, vmax=1, vmin=-1, annot=True, cmap=\"coolwarm\")\n",
    "plt.show()"
   ]
  },
  {
   "cell_type": "markdown",
   "id": "df725a42",
   "metadata": {
    "papermill": {
     "duration": 0.0175,
     "end_time": "2023-06-10T21:37:42.555434",
     "exception": false,
     "start_time": "2023-06-10T21:37:42.537934",
     "status": "completed"
    },
    "tags": []
   },
   "source": [
    "Las correlaciones entre todas la variables son practicamente nulas. Quizas haya algo entre \"ph\" y \"Hardness\", lo mismo con \"ph\" y \"Solids\", pero ambos casos demuestran una correlacion positiva y negativa debil respectivamente"
   ]
  },
  {
   "cell_type": "markdown",
   "id": "8bc1730d",
   "metadata": {
    "papermill": {
     "duration": 0.017248,
     "end_time": "2023-06-10T21:37:42.590227",
     "exception": false,
     "start_time": "2023-06-10T21:37:42.572979",
     "status": "completed"
    },
    "tags": []
   },
   "source": [
    "Antes de seguir observando las relaciones entre las variables, vamos a ver si este dataset contiene valores nulos"
   ]
  },
  {
   "cell_type": "code",
   "execution_count": 9,
   "id": "04f4088f",
   "metadata": {
    "execution": {
     "iopub.execute_input": "2023-06-10T21:37:42.627422Z",
     "iopub.status.busy": "2023-06-10T21:37:42.627015Z",
     "iopub.status.idle": "2023-06-10T21:37:42.636509Z",
     "shell.execute_reply": "2023-06-10T21:37:42.635400Z"
    },
    "papermill": {
     "duration": 0.031347,
     "end_time": "2023-06-10T21:37:42.639100",
     "exception": false,
     "start_time": "2023-06-10T21:37:42.607753",
     "status": "completed"
    },
    "tags": []
   },
   "outputs": [
    {
     "data": {
      "text/plain": [
       "ph                 491\n",
       "Hardness             0\n",
       "Solids               0\n",
       "Chloramines          0\n",
       "Sulfate            781\n",
       "Conductivity         0\n",
       "Organic_carbon       0\n",
       "Trihalomethanes    162\n",
       "Turbidity            0\n",
       "Potability           0\n",
       "dtype: int64"
      ]
     },
     "execution_count": 9,
     "metadata": {},
     "output_type": "execute_result"
    }
   ],
   "source": [
    "water.isna().sum()"
   ]
  },
  {
   "cell_type": "markdown",
   "id": "fc7f7f66",
   "metadata": {
    "papermill": {
     "duration": 0.017952,
     "end_time": "2023-06-10T21:37:42.675121",
     "exception": false,
     "start_time": "2023-06-10T21:37:42.657169",
     "status": "completed"
    },
    "tags": []
   },
   "source": [
    "Podemos tomar dos caminos: 1) eliminar todas las filas que contengan valores nulos; 2) rellanar aquellos casilleros que estan vacion con valores relacionados con la variable en cuestion\n",
    "\n",
    "\n",
    "Con respecto a la opcion 2, por ejemplo, puedo tomar para la columna \"ph\", el valor promedio de esta, y rellenar las filas vacias con ese valor.\n",
    "\n",
    "\n",
    "Para un mejor analisis vamos a crear dos objetos distintos, que contengan el mismo dataset, pero uno sera modificado a partir de la opcion 1 y el otro sera modificado a partir de la opcion 2"
   ]
  },
  {
   "cell_type": "markdown",
   "id": "dd678a98",
   "metadata": {
    "execution": {
     "iopub.execute_input": "2023-06-10T19:50:36.745962Z",
     "iopub.status.busy": "2023-06-10T19:50:36.745561Z",
     "iopub.status.idle": "2023-06-10T19:50:36.752435Z",
     "shell.execute_reply": "2023-06-10T19:50:36.751195Z",
     "shell.execute_reply.started": "2023-06-10T19:50:36.745932Z"
    },
    "papermill": {
     "duration": 0.019237,
     "end_time": "2023-06-10T21:37:42.715764",
     "exception": false,
     "start_time": "2023-06-10T21:37:42.696527",
     "status": "completed"
    },
    "tags": []
   },
   "source": [
    "Vamos con la opcion 1), eliminamos todas las filas que contengan valores nulos"
   ]
  },
  {
   "cell_type": "code",
   "execution_count": 10,
   "id": "0fc5b4a7",
   "metadata": {
    "execution": {
     "iopub.execute_input": "2023-06-10T21:37:42.753461Z",
     "iopub.status.busy": "2023-06-10T21:37:42.753017Z",
     "iopub.status.idle": "2023-06-10T21:37:42.761087Z",
     "shell.execute_reply": "2023-06-10T21:37:42.759790Z"
    },
    "papermill": {
     "duration": 0.029951,
     "end_time": "2023-06-10T21:37:42.763482",
     "exception": false,
     "start_time": "2023-06-10T21:37:42.733531",
     "status": "completed"
    },
    "tags": []
   },
   "outputs": [],
   "source": [
    "water_1 = water.dropna(axis=0)"
   ]
  },
  {
   "cell_type": "markdown",
   "id": "fbc681b2",
   "metadata": {
    "papermill": {
     "duration": 0.018058,
     "end_time": "2023-06-10T21:37:42.799631",
     "exception": false,
     "start_time": "2023-06-10T21:37:42.781573",
     "status": "completed"
    },
    "tags": []
   },
   "source": [
    "Ahora comparemos el datset \"water\" con el dataset \"water_1\" para ver cuantas filas fueron eliminadas de este ultimo"
   ]
  },
  {
   "cell_type": "code",
   "execution_count": 11,
   "id": "9204f05b",
   "metadata": {
    "execution": {
     "iopub.execute_input": "2023-06-10T21:37:42.837490Z",
     "iopub.status.busy": "2023-06-10T21:37:42.837054Z",
     "iopub.status.idle": "2023-06-10T21:37:42.844573Z",
     "shell.execute_reply": "2023-06-10T21:37:42.842982Z"
    },
    "papermill": {
     "duration": 0.029417,
     "end_time": "2023-06-10T21:37:42.846852",
     "exception": false,
     "start_time": "2023-06-10T21:37:42.817435",
     "status": "completed"
    },
    "tags": []
   },
   "outputs": [
    {
     "name": "stdout",
     "output_type": "stream",
     "text": [
      "Cantidad de filas y columnas del dataset water:     \n",
      "(3276, 10)\n",
      "----------------------------------------------------\n",
      "Cantidad de filas y columnas del dataset water_1:     \n",
      "(2011, 10)\n"
     ]
    }
   ],
   "source": [
    "print(\"Cantidad de filas y columnas del dataset water:     \")\n",
    "print(water.shape)\n",
    "\n",
    "print(\"----------------------------------------------------\")\n",
    "\n",
    "print(\"Cantidad de filas y columnas del dataset water_1:     \")\n",
    "print(water_1.shape)"
   ]
  },
  {
   "cell_type": "markdown",
   "id": "5aad9ead",
   "metadata": {
    "papermill": {
     "duration": 0.017816,
     "end_time": "2023-06-10T21:37:42.882715",
     "exception": false,
     "start_time": "2023-06-10T21:37:42.864899",
     "status": "completed"
    },
    "tags": []
   },
   "source": [
    "Se han removido 1265 filas del dataset. Si lo ponemos el porcentajes, se elimino el 38,61% de la informacion del dataset\n",
    "\n",
    "\n",
    "Cuidado, no es que habia filas que no tenian ningun valor en todas las columnas, sino que la libreria Pandas, a partir del comando \"dropna\", remueve todas las filas que tengan por lo menos 1 casillero vacio\n",
    "\n",
    "\n",
    "Sera mejor rellenar esos valores nulos, en base a las descripciones de cada columna del dataset\n",
    "\n",
    "\n",
    "Vamos a usar el metodo \"SimpleImputer\", que directamente rellena los valores nulos de cada columna, en este caso, con el valor de la media de cada columna respectivamente"
   ]
  },
  {
   "cell_type": "code",
   "execution_count": 12,
   "id": "5585bf31",
   "metadata": {
    "execution": {
     "iopub.execute_input": "2023-06-10T21:37:42.920481Z",
     "iopub.status.busy": "2023-06-10T21:37:42.920070Z",
     "iopub.status.idle": "2023-06-10T21:37:43.448338Z",
     "shell.execute_reply": "2023-06-10T21:37:43.447204Z"
    },
    "papermill": {
     "duration": 0.55054,
     "end_time": "2023-06-10T21:37:43.451173",
     "exception": false,
     "start_time": "2023-06-10T21:37:42.900633",
     "status": "completed"
    },
    "tags": []
   },
   "outputs": [],
   "source": [
    "from sklearn.impute import SimpleImputer\n",
    "imputer = SimpleImputer(strategy=\"mean\")"
   ]
  },
  {
   "cell_type": "code",
   "execution_count": 13,
   "id": "b188a412",
   "metadata": {
    "execution": {
     "iopub.execute_input": "2023-06-10T21:37:43.489277Z",
     "iopub.status.busy": "2023-06-10T21:37:43.488859Z",
     "iopub.status.idle": "2023-06-10T21:37:43.506924Z",
     "shell.execute_reply": "2023-06-10T21:37:43.505708Z"
    },
    "papermill": {
     "duration": 0.039855,
     "end_time": "2023-06-10T21:37:43.509326",
     "exception": false,
     "start_time": "2023-06-10T21:37:43.469471",
     "status": "completed"
    },
    "tags": []
   },
   "outputs": [
    {
     "data": {
      "text/html": [
       "<style>#sk-container-id-1 {color: black;background-color: white;}#sk-container-id-1 pre{padding: 0;}#sk-container-id-1 div.sk-toggleable {background-color: white;}#sk-container-id-1 label.sk-toggleable__label {cursor: pointer;display: block;width: 100%;margin-bottom: 0;padding: 0.3em;box-sizing: border-box;text-align: center;}#sk-container-id-1 label.sk-toggleable__label-arrow:before {content: \"▸\";float: left;margin-right: 0.25em;color: #696969;}#sk-container-id-1 label.sk-toggleable__label-arrow:hover:before {color: black;}#sk-container-id-1 div.sk-estimator:hover label.sk-toggleable__label-arrow:before {color: black;}#sk-container-id-1 div.sk-toggleable__content {max-height: 0;max-width: 0;overflow: hidden;text-align: left;background-color: #f0f8ff;}#sk-container-id-1 div.sk-toggleable__content pre {margin: 0.2em;color: black;border-radius: 0.25em;background-color: #f0f8ff;}#sk-container-id-1 input.sk-toggleable__control:checked~div.sk-toggleable__content {max-height: 200px;max-width: 100%;overflow: auto;}#sk-container-id-1 input.sk-toggleable__control:checked~label.sk-toggleable__label-arrow:before {content: \"▾\";}#sk-container-id-1 div.sk-estimator input.sk-toggleable__control:checked~label.sk-toggleable__label {background-color: #d4ebff;}#sk-container-id-1 div.sk-label input.sk-toggleable__control:checked~label.sk-toggleable__label {background-color: #d4ebff;}#sk-container-id-1 input.sk-hidden--visually {border: 0;clip: rect(1px 1px 1px 1px);clip: rect(1px, 1px, 1px, 1px);height: 1px;margin: -1px;overflow: hidden;padding: 0;position: absolute;width: 1px;}#sk-container-id-1 div.sk-estimator {font-family: monospace;background-color: #f0f8ff;border: 1px dotted black;border-radius: 0.25em;box-sizing: border-box;margin-bottom: 0.5em;}#sk-container-id-1 div.sk-estimator:hover {background-color: #d4ebff;}#sk-container-id-1 div.sk-parallel-item::after {content: \"\";width: 100%;border-bottom: 1px solid gray;flex-grow: 1;}#sk-container-id-1 div.sk-label:hover label.sk-toggleable__label {background-color: #d4ebff;}#sk-container-id-1 div.sk-serial::before {content: \"\";position: absolute;border-left: 1px solid gray;box-sizing: border-box;top: 0;bottom: 0;left: 50%;z-index: 0;}#sk-container-id-1 div.sk-serial {display: flex;flex-direction: column;align-items: center;background-color: white;padding-right: 0.2em;padding-left: 0.2em;position: relative;}#sk-container-id-1 div.sk-item {position: relative;z-index: 1;}#sk-container-id-1 div.sk-parallel {display: flex;align-items: stretch;justify-content: center;background-color: white;position: relative;}#sk-container-id-1 div.sk-item::before, #sk-container-id-1 div.sk-parallel-item::before {content: \"\";position: absolute;border-left: 1px solid gray;box-sizing: border-box;top: 0;bottom: 0;left: 50%;z-index: -1;}#sk-container-id-1 div.sk-parallel-item {display: flex;flex-direction: column;z-index: 1;position: relative;background-color: white;}#sk-container-id-1 div.sk-parallel-item:first-child::after {align-self: flex-end;width: 50%;}#sk-container-id-1 div.sk-parallel-item:last-child::after {align-self: flex-start;width: 50%;}#sk-container-id-1 div.sk-parallel-item:only-child::after {width: 0;}#sk-container-id-1 div.sk-dashed-wrapped {border: 1px dashed gray;margin: 0 0.4em 0.5em 0.4em;box-sizing: border-box;padding-bottom: 0.4em;background-color: white;}#sk-container-id-1 div.sk-label label {font-family: monospace;font-weight: bold;display: inline-block;line-height: 1.2em;}#sk-container-id-1 div.sk-label-container {text-align: center;}#sk-container-id-1 div.sk-container {/* jupyter's `normalize.less` sets `[hidden] { display: none; }` but bootstrap.min.css set `[hidden] { display: none !important; }` so we also need the `!important` here to be able to override the default hidden behavior on the sphinx rendered scikit-learn.org. See: https://github.com/scikit-learn/scikit-learn/issues/21755 */display: inline-block !important;position: relative;}#sk-container-id-1 div.sk-text-repr-fallback {display: none;}</style><div id=\"sk-container-id-1\" class=\"sk-top-container\"><div class=\"sk-text-repr-fallback\"><pre>SimpleImputer()</pre><b>In a Jupyter environment, please rerun this cell to show the HTML representation or trust the notebook. <br />On GitHub, the HTML representation is unable to render, please try loading this page with nbviewer.org.</b></div><div class=\"sk-container\" hidden><div class=\"sk-item\"><div class=\"sk-estimator sk-toggleable\"><input class=\"sk-toggleable__control sk-hidden--visually\" id=\"sk-estimator-id-1\" type=\"checkbox\" checked><label for=\"sk-estimator-id-1\" class=\"sk-toggleable__label sk-toggleable__label-arrow\">SimpleImputer</label><div class=\"sk-toggleable__content\"><pre>SimpleImputer()</pre></div></div></div></div></div>"
      ],
      "text/plain": [
       "SimpleImputer()"
      ]
     },
     "execution_count": 13,
     "metadata": {},
     "output_type": "execute_result"
    }
   ],
   "source": [
    "imputer.fit(water)"
   ]
  },
  {
   "cell_type": "markdown",
   "id": "7ea4d071",
   "metadata": {
    "papermill": {
     "duration": 0.018284,
     "end_time": "2023-06-10T21:37:43.546267",
     "exception": false,
     "start_time": "2023-06-10T21:37:43.527983",
     "status": "completed"
    },
    "tags": []
   },
   "source": [
    "Aca arriba transforme los datos, o mejor dicho, rellene aquellos que estaban como \"NaN\"\n",
    "\n",
    "\n",
    "Y ahora los voy a guardar en un objeto para despues volver a transformar en un dataframe y asi poder continuar con el analisis"
   ]
  },
  {
   "cell_type": "code",
   "execution_count": 14,
   "id": "91a34e50",
   "metadata": {
    "execution": {
     "iopub.execute_input": "2023-06-10T21:37:43.585056Z",
     "iopub.status.busy": "2023-06-10T21:37:43.584631Z",
     "iopub.status.idle": "2023-06-10T21:37:43.592614Z",
     "shell.execute_reply": "2023-06-10T21:37:43.591690Z"
    },
    "papermill": {
     "duration": 0.030255,
     "end_time": "2023-06-10T21:37:43.594983",
     "exception": false,
     "start_time": "2023-06-10T21:37:43.564728",
     "status": "completed"
    },
    "tags": []
   },
   "outputs": [],
   "source": [
    "A = imputer.transform(water)"
   ]
  },
  {
   "cell_type": "code",
   "execution_count": 15,
   "id": "09f56894",
   "metadata": {
    "execution": {
     "iopub.execute_input": "2023-06-10T21:37:43.634309Z",
     "iopub.status.busy": "2023-06-10T21:37:43.633679Z",
     "iopub.status.idle": "2023-06-10T21:37:43.639006Z",
     "shell.execute_reply": "2023-06-10T21:37:43.637996Z"
    },
    "papermill": {
     "duration": 0.027791,
     "end_time": "2023-06-10T21:37:43.641225",
     "exception": false,
     "start_time": "2023-06-10T21:37:43.613434",
     "status": "completed"
    },
    "tags": []
   },
   "outputs": [],
   "source": [
    "water_2 = pd.DataFrame(A,\n",
    "                    columns=water.columns,\n",
    "                    index=water.index)"
   ]
  },
  {
   "cell_type": "code",
   "execution_count": 16,
   "id": "81cb090e",
   "metadata": {
    "execution": {
     "iopub.execute_input": "2023-06-10T21:37:43.680181Z",
     "iopub.status.busy": "2023-06-10T21:37:43.679476Z",
     "iopub.status.idle": "2023-06-10T21:37:43.697716Z",
     "shell.execute_reply": "2023-06-10T21:37:43.696491Z"
    },
    "papermill": {
     "duration": 0.040951,
     "end_time": "2023-06-10T21:37:43.700420",
     "exception": false,
     "start_time": "2023-06-10T21:37:43.659469",
     "status": "completed"
    },
    "tags": []
   },
   "outputs": [
    {
     "data": {
      "text/html": [
       "<div>\n",
       "<style scoped>\n",
       "    .dataframe tbody tr th:only-of-type {\n",
       "        vertical-align: middle;\n",
       "    }\n",
       "\n",
       "    .dataframe tbody tr th {\n",
       "        vertical-align: top;\n",
       "    }\n",
       "\n",
       "    .dataframe thead th {\n",
       "        text-align: right;\n",
       "    }\n",
       "</style>\n",
       "<table border=\"1\" class=\"dataframe\">\n",
       "  <thead>\n",
       "    <tr style=\"text-align: right;\">\n",
       "      <th></th>\n",
       "      <th>ph</th>\n",
       "      <th>Hardness</th>\n",
       "      <th>Solids</th>\n",
       "      <th>Chloramines</th>\n",
       "      <th>Sulfate</th>\n",
       "      <th>Conductivity</th>\n",
       "      <th>Organic_carbon</th>\n",
       "      <th>Trihalomethanes</th>\n",
       "      <th>Turbidity</th>\n",
       "      <th>Potability</th>\n",
       "    </tr>\n",
       "  </thead>\n",
       "  <tbody>\n",
       "    <tr>\n",
       "      <th>0</th>\n",
       "      <td>7.080795</td>\n",
       "      <td>204.890455</td>\n",
       "      <td>20791.318981</td>\n",
       "      <td>7.300212</td>\n",
       "      <td>368.516441</td>\n",
       "      <td>564.308654</td>\n",
       "      <td>10.379783</td>\n",
       "      <td>86.990970</td>\n",
       "      <td>2.963135</td>\n",
       "      <td>0.0</td>\n",
       "    </tr>\n",
       "    <tr>\n",
       "      <th>1</th>\n",
       "      <td>3.716080</td>\n",
       "      <td>129.422921</td>\n",
       "      <td>18630.057858</td>\n",
       "      <td>6.635246</td>\n",
       "      <td>333.775777</td>\n",
       "      <td>592.885359</td>\n",
       "      <td>15.180013</td>\n",
       "      <td>56.329076</td>\n",
       "      <td>4.500656</td>\n",
       "      <td>0.0</td>\n",
       "    </tr>\n",
       "    <tr>\n",
       "      <th>2</th>\n",
       "      <td>8.099124</td>\n",
       "      <td>224.236259</td>\n",
       "      <td>19909.541732</td>\n",
       "      <td>9.275884</td>\n",
       "      <td>333.775777</td>\n",
       "      <td>418.606213</td>\n",
       "      <td>16.868637</td>\n",
       "      <td>66.420093</td>\n",
       "      <td>3.055934</td>\n",
       "      <td>0.0</td>\n",
       "    </tr>\n",
       "    <tr>\n",
       "      <th>3</th>\n",
       "      <td>8.316766</td>\n",
       "      <td>214.373394</td>\n",
       "      <td>22018.417441</td>\n",
       "      <td>8.059332</td>\n",
       "      <td>356.886136</td>\n",
       "      <td>363.266516</td>\n",
       "      <td>18.436524</td>\n",
       "      <td>100.341674</td>\n",
       "      <td>4.628771</td>\n",
       "      <td>0.0</td>\n",
       "    </tr>\n",
       "    <tr>\n",
       "      <th>4</th>\n",
       "      <td>9.092223</td>\n",
       "      <td>181.101509</td>\n",
       "      <td>17978.986339</td>\n",
       "      <td>6.546600</td>\n",
       "      <td>310.135738</td>\n",
       "      <td>398.410813</td>\n",
       "      <td>11.558279</td>\n",
       "      <td>31.997993</td>\n",
       "      <td>4.075075</td>\n",
       "      <td>0.0</td>\n",
       "    </tr>\n",
       "  </tbody>\n",
       "</table>\n",
       "</div>"
      ],
      "text/plain": [
       "         ph    Hardness        Solids  Chloramines     Sulfate  Conductivity  \\\n",
       "0  7.080795  204.890455  20791.318981     7.300212  368.516441    564.308654   \n",
       "1  3.716080  129.422921  18630.057858     6.635246  333.775777    592.885359   \n",
       "2  8.099124  224.236259  19909.541732     9.275884  333.775777    418.606213   \n",
       "3  8.316766  214.373394  22018.417441     8.059332  356.886136    363.266516   \n",
       "4  9.092223  181.101509  17978.986339     6.546600  310.135738    398.410813   \n",
       "\n",
       "   Organic_carbon  Trihalomethanes  Turbidity  Potability  \n",
       "0       10.379783        86.990970   2.963135         0.0  \n",
       "1       15.180013        56.329076   4.500656         0.0  \n",
       "2       16.868637        66.420093   3.055934         0.0  \n",
       "3       18.436524       100.341674   4.628771         0.0  \n",
       "4       11.558279        31.997993   4.075075         0.0  "
      ]
     },
     "execution_count": 16,
     "metadata": {},
     "output_type": "execute_result"
    }
   ],
   "source": [
    "water_2.head()"
   ]
  },
  {
   "cell_type": "markdown",
   "id": "ef0dcce1",
   "metadata": {
    "papermill": {
     "duration": 0.019997,
     "end_time": "2023-06-10T21:37:43.739526",
     "exception": false,
     "start_time": "2023-06-10T21:37:43.719529",
     "status": "completed"
    },
    "tags": []
   },
   "source": [
    "Ahora veamos si todavia quedan valores nulos presentes"
   ]
  },
  {
   "cell_type": "code",
   "execution_count": 17,
   "id": "0a2a7d28",
   "metadata": {
    "execution": {
     "iopub.execute_input": "2023-06-10T21:37:43.785321Z",
     "iopub.status.busy": "2023-06-10T21:37:43.784917Z",
     "iopub.status.idle": "2023-06-10T21:37:43.795275Z",
     "shell.execute_reply": "2023-06-10T21:37:43.793551Z"
    },
    "papermill": {
     "duration": 0.039989,
     "end_time": "2023-06-10T21:37:43.798306",
     "exception": false,
     "start_time": "2023-06-10T21:37:43.758317",
     "status": "completed"
    },
    "tags": []
   },
   "outputs": [
    {
     "data": {
      "text/plain": [
       "ph                 0\n",
       "Hardness           0\n",
       "Solids             0\n",
       "Chloramines        0\n",
       "Sulfate            0\n",
       "Conductivity       0\n",
       "Organic_carbon     0\n",
       "Trihalomethanes    0\n",
       "Turbidity          0\n",
       "Potability         0\n",
       "dtype: int64"
      ]
     },
     "execution_count": 17,
     "metadata": {},
     "output_type": "execute_result"
    }
   ],
   "source": [
    "water_2.isna().sum()"
   ]
  },
  {
   "cell_type": "code",
   "execution_count": 18,
   "id": "542af02f",
   "metadata": {
    "execution": {
     "iopub.execute_input": "2023-06-10T21:37:43.851163Z",
     "iopub.status.busy": "2023-06-10T21:37:43.850197Z",
     "iopub.status.idle": "2023-06-10T21:37:44.571173Z",
     "shell.execute_reply": "2023-06-10T21:37:44.570306Z"
    },
    "papermill": {
     "duration": 0.74993,
     "end_time": "2023-06-10T21:37:44.575474",
     "exception": false,
     "start_time": "2023-06-10T21:37:43.825544",
     "status": "completed"
    },
    "tags": []
   },
   "outputs": [
    {
     "data": {
      "image/png": "[encoded data removed]",
      "text/plain": [
       "<Figure size 1000x500 with 2 Axes>"
      ]
     },
     "metadata": {},
     "output_type": "display_data"
    }
   ],
   "source": [
    "correlation_matrix = water_2.corr()\n",
    "rounded_matrix = np.round(correlation_matrix, decimals=2)\n",
    "plt.figure(figsize = (10,5))\n",
    "sns.heatmap(correlation_matrix, vmax=1, vmin=-1, annot=True, cmap=\"coolwarm\")\n",
    "plt.show()"
   ]
  },
  {
   "cell_type": "markdown",
   "id": "023beca5",
   "metadata": {
    "papermill": {
     "duration": 0.020422,
     "end_time": "2023-06-10T21:37:44.621254",
     "exception": false,
     "start_time": "2023-06-10T21:37:44.600832",
     "status": "completed"
    },
    "tags": []
   },
   "source": [
    "Observamos que no hubo modificaciones significativas referidas a la correlación\n"
   ]
  },
  {
   "cell_type": "markdown",
   "id": "65fab855",
   "metadata": {
    "papermill": {
     "duration": 0.020461,
     "end_time": "2023-06-10T21:37:44.662967",
     "exception": false,
     "start_time": "2023-06-10T21:37:44.642506",
     "status": "completed"
    },
    "tags": []
   },
   "source": [
    "Ahora vamos a normalizar los valores del dataset, exceptuando a la variable \"Potability\" ya que es una variable binaria y el resto contiene valores numericos continuos"
   ]
  },
  {
   "cell_type": "code",
   "execution_count": 19,
   "id": "7fc88726",
   "metadata": {
    "execution": {
     "iopub.execute_input": "2023-06-10T21:37:44.708968Z",
     "iopub.status.busy": "2023-06-10T21:37:44.707711Z",
     "iopub.status.idle": "2023-06-10T21:37:44.713213Z",
     "shell.execute_reply": "2023-06-10T21:37:44.712447Z"
    },
    "papermill": {
     "duration": 0.030954,
     "end_time": "2023-06-10T21:37:44.715476",
     "exception": false,
     "start_time": "2023-06-10T21:37:44.684522",
     "status": "completed"
    },
    "tags": []
   },
   "outputs": [],
   "source": [
    "from sklearn.preprocessing import MinMaxScaler\n",
    "scaler = MinMaxScaler()"
   ]
  },
  {
   "cell_type": "code",
   "execution_count": 20,
   "id": "9410bb5e",
   "metadata": {
    "execution": {
     "iopub.execute_input": "2023-06-10T21:37:44.759530Z",
     "iopub.status.busy": "2023-06-10T21:37:44.758334Z",
     "iopub.status.idle": "2023-06-10T21:37:44.764052Z",
     "shell.execute_reply": "2023-06-10T21:37:44.763167Z"
    },
    "papermill": {
     "duration": 0.030087,
     "end_time": "2023-06-10T21:37:44.766405",
     "exception": false,
     "start_time": "2023-06-10T21:37:44.736318",
     "status": "completed"
    },
    "tags": []
   },
   "outputs": [],
   "source": [
    "col_norm = ['ph', 'Hardness', 'Solids', 'Chloramines', 'Sulfate', 'Conductivity',\n",
    "       'Organic_carbon', 'Trihalomethanes', 'Turbidity']"
   ]
  },
  {
   "cell_type": "code",
   "execution_count": 21,
   "id": "3abdd400",
   "metadata": {
    "execution": {
     "iopub.execute_input": "2023-06-10T21:37:44.809667Z",
     "iopub.status.busy": "2023-06-10T21:37:44.809232Z",
     "iopub.status.idle": "2023-06-10T21:37:44.815453Z",
     "shell.execute_reply": "2023-06-10T21:37:44.814321Z"
    },
    "papermill": {
     "duration": 0.030955,
     "end_time": "2023-06-10T21:37:44.817817",
     "exception": false,
     "start_time": "2023-06-10T21:37:44.786862",
     "status": "completed"
    },
    "tags": []
   },
   "outputs": [],
   "source": [
    "norm = water_2[col_norm]"
   ]
  },
  {
   "cell_type": "code",
   "execution_count": 22,
   "id": "b3ac21b0",
   "metadata": {
    "execution": {
     "iopub.execute_input": "2023-06-10T21:37:44.864318Z",
     "iopub.status.busy": "2023-06-10T21:37:44.863485Z",
     "iopub.status.idle": "2023-06-10T21:37:44.872415Z",
     "shell.execute_reply": "2023-06-10T21:37:44.871662Z"
    },
    "papermill": {
     "duration": 0.033818,
     "end_time": "2023-06-10T21:37:44.874847",
     "exception": false,
     "start_time": "2023-06-10T21:37:44.841029",
     "status": "completed"
    },
    "tags": []
   },
   "outputs": [],
   "source": [
    "data_norm = scaler.fit_transform(norm)"
   ]
  },
  {
   "cell_type": "code",
   "execution_count": 23,
   "id": "8f0b7bfb",
   "metadata": {
    "execution": {
     "iopub.execute_input": "2023-06-10T21:37:44.918686Z",
     "iopub.status.busy": "2023-06-10T21:37:44.917885Z",
     "iopub.status.idle": "2023-06-10T21:37:44.923654Z",
     "shell.execute_reply": "2023-06-10T21:37:44.922725Z"
    },
    "papermill": {
     "duration": 0.030676,
     "end_time": "2023-06-10T21:37:44.926266",
     "exception": false,
     "start_time": "2023-06-10T21:37:44.895590",
     "status": "completed"
    },
    "tags": []
   },
   "outputs": [],
   "source": [
    "data_norm_df = pd.DataFrame(data_norm, columns=col_norm)"
   ]
  },
  {
   "cell_type": "code",
   "execution_count": 24,
   "id": "1fa981a3",
   "metadata": {
    "execution": {
     "iopub.execute_input": "2023-06-10T21:37:44.970797Z",
     "iopub.status.busy": "2023-06-10T21:37:44.970346Z",
     "iopub.status.idle": "2023-06-10T21:37:44.977847Z",
     "shell.execute_reply": "2023-06-10T21:37:44.976767Z"
    },
    "papermill": {
     "duration": 0.032382,
     "end_time": "2023-06-10T21:37:44.980336",
     "exception": false,
     "start_time": "2023-06-10T21:37:44.947954",
     "status": "completed"
    },
    "tags": []
   },
   "outputs": [],
   "source": [
    "water_norm = pd.concat([water[\"Potability\"], data_norm_df], axis = 1)"
   ]
  },
  {
   "cell_type": "code",
   "execution_count": 25,
   "id": "f72e0cb2",
   "metadata": {
    "execution": {
     "iopub.execute_input": "2023-06-10T21:37:45.023135Z",
     "iopub.status.busy": "2023-06-10T21:37:45.022746Z",
     "iopub.status.idle": "2023-06-10T21:37:45.040665Z",
     "shell.execute_reply": "2023-06-10T21:37:45.039556Z"
    },
    "papermill": {
     "duration": 0.042187,
     "end_time": "2023-06-10T21:37:45.043079",
     "exception": false,
     "start_time": "2023-06-10T21:37:45.000892",
     "status": "completed"
    },
    "tags": []
   },
   "outputs": [
    {
     "data": {
      "text/html": [
       "<div>\n",
       "<style scoped>\n",
       "    .dataframe tbody tr th:only-of-type {\n",
       "        vertical-align: middle;\n",
       "    }\n",
       "\n",
       "    .dataframe tbody tr th {\n",
       "        vertical-align: top;\n",
       "    }\n",
       "\n",
       "    .dataframe thead th {\n",
       "        text-align: right;\n",
       "    }\n",
       "</style>\n",
       "<table border=\"1\" class=\"dataframe\">\n",
       "  <thead>\n",
       "    <tr style=\"text-align: right;\">\n",
       "      <th></th>\n",
       "      <th>Potability</th>\n",
       "      <th>ph</th>\n",
       "      <th>Hardness</th>\n",
       "      <th>Solids</th>\n",
       "      <th>Chloramines</th>\n",
       "      <th>Sulfate</th>\n",
       "      <th>Conductivity</th>\n",
       "      <th>Organic_carbon</th>\n",
       "      <th>Trihalomethanes</th>\n",
       "      <th>Turbidity</th>\n",
       "    </tr>\n",
       "  </thead>\n",
       "  <tbody>\n",
       "    <tr>\n",
       "      <th>0</th>\n",
       "      <td>0</td>\n",
       "      <td>0.505771</td>\n",
       "      <td>0.571139</td>\n",
       "      <td>0.336096</td>\n",
       "      <td>0.543891</td>\n",
       "      <td>0.680385</td>\n",
       "      <td>0.669439</td>\n",
       "      <td>0.313402</td>\n",
       "      <td>0.699753</td>\n",
       "      <td>0.286091</td>\n",
       "    </tr>\n",
       "    <tr>\n",
       "      <th>1</th>\n",
       "      <td>0</td>\n",
       "      <td>0.265434</td>\n",
       "      <td>0.297400</td>\n",
       "      <td>0.300611</td>\n",
       "      <td>0.491839</td>\n",
       "      <td>0.581699</td>\n",
       "      <td>0.719411</td>\n",
       "      <td>0.497319</td>\n",
       "      <td>0.450999</td>\n",
       "      <td>0.576793</td>\n",
       "    </tr>\n",
       "    <tr>\n",
       "      <th>2</th>\n",
       "      <td>0</td>\n",
       "      <td>0.578509</td>\n",
       "      <td>0.641311</td>\n",
       "      <td>0.321619</td>\n",
       "      <td>0.698543</td>\n",
       "      <td>0.581699</td>\n",
       "      <td>0.414652</td>\n",
       "      <td>0.562017</td>\n",
       "      <td>0.532866</td>\n",
       "      <td>0.303637</td>\n",
       "    </tr>\n",
       "    <tr>\n",
       "      <th>3</th>\n",
       "      <td>0</td>\n",
       "      <td>0.594055</td>\n",
       "      <td>0.605536</td>\n",
       "      <td>0.356244</td>\n",
       "      <td>0.603314</td>\n",
       "      <td>0.647347</td>\n",
       "      <td>0.317880</td>\n",
       "      <td>0.622089</td>\n",
       "      <td>0.808065</td>\n",
       "      <td>0.601015</td>\n",
       "    </tr>\n",
       "    <tr>\n",
       "      <th>4</th>\n",
       "      <td>0</td>\n",
       "      <td>0.649445</td>\n",
       "      <td>0.484851</td>\n",
       "      <td>0.289922</td>\n",
       "      <td>0.484900</td>\n",
       "      <td>0.514545</td>\n",
       "      <td>0.379337</td>\n",
       "      <td>0.358555</td>\n",
       "      <td>0.253606</td>\n",
       "      <td>0.496327</td>\n",
       "    </tr>\n",
       "  </tbody>\n",
       "</table>\n",
       "</div>"
      ],
      "text/plain": [
       "   Potability        ph  Hardness    Solids  Chloramines   Sulfate  \\\n",
       "0           0  0.505771  0.571139  0.336096     0.543891  0.680385   \n",
       "1           0  0.265434  0.297400  0.300611     0.491839  0.581699   \n",
       "2           0  0.578509  0.641311  0.321619     0.698543  0.581699   \n",
       "3           0  0.594055  0.605536  0.356244     0.603314  0.647347   \n",
       "4           0  0.649445  0.484851  0.289922     0.484900  0.514545   \n",
       "\n",
       "   Conductivity  Organic_carbon  Trihalomethanes  Turbidity  \n",
       "0      0.669439        0.313402         0.699753   0.286091  \n",
       "1      0.719411        0.497319         0.450999   0.576793  \n",
       "2      0.414652        0.562017         0.532866   0.303637  \n",
       "3      0.317880        0.622089         0.808065   0.601015  \n",
       "4      0.379337        0.358555         0.253606   0.496327  "
      ]
     },
     "execution_count": 25,
     "metadata": {},
     "output_type": "execute_result"
    }
   ],
   "source": [
    "water_norm.head()"
   ]
  },
  {
   "cell_type": "markdown",
   "id": "3a25d1a8",
   "metadata": {
    "papermill": {
     "duration": 0.020904,
     "end_time": "2023-06-10T21:37:45.085269",
     "exception": false,
     "start_time": "2023-06-10T21:37:45.064365",
     "status": "completed"
    },
    "tags": []
   },
   "source": [
    "Recordemos que si el valor de \"Potability\" es 1 significa que el agua es potable, y si es valor 0 significa que el agua no es potable"
   ]
  },
  {
   "cell_type": "code",
   "execution_count": 26,
   "id": "0b73f21e",
   "metadata": {
    "execution": {
     "iopub.execute_input": "2023-06-10T21:37:45.130497Z",
     "iopub.status.busy": "2023-06-10T21:37:45.130064Z",
     "iopub.status.idle": "2023-06-10T21:37:45.137217Z",
     "shell.execute_reply": "2023-06-10T21:37:45.136146Z"
    },
    "papermill": {
     "duration": 0.032634,
     "end_time": "2023-06-10T21:37:45.139436",
     "exception": false,
     "start_time": "2023-06-10T21:37:45.106802",
     "status": "completed"
    },
    "tags": []
   },
   "outputs": [],
   "source": [
    "potable = water_norm[water_norm[\"Potability\"]==1]\n",
    "no_potable = water_norm[water_norm[\"Potability\"]==0]"
   ]
  },
  {
   "cell_type": "code",
   "execution_count": 27,
   "id": "7c1bcaa1",
   "metadata": {
    "execution": {
     "iopub.execute_input": "2023-06-10T21:37:45.182837Z",
     "iopub.status.busy": "2023-06-10T21:37:45.182373Z",
     "iopub.status.idle": "2023-06-10T21:37:45.200021Z",
     "shell.execute_reply": "2023-06-10T21:37:45.198902Z"
    },
    "papermill": {
     "duration": 0.041895,
     "end_time": "2023-06-10T21:37:45.202204",
     "exception": false,
     "start_time": "2023-06-10T21:37:45.160309",
     "status": "completed"
    },
    "tags": []
   },
   "outputs": [
    {
     "data": {
      "text/html": [
       "<div>\n",
       "<style scoped>\n",
       "    .dataframe tbody tr th:only-of-type {\n",
       "        vertical-align: middle;\n",
       "    }\n",
       "\n",
       "    .dataframe tbody tr th {\n",
       "        vertical-align: top;\n",
       "    }\n",
       "\n",
       "    .dataframe thead th {\n",
       "        text-align: right;\n",
       "    }\n",
       "</style>\n",
       "<table border=\"1\" class=\"dataframe\">\n",
       "  <thead>\n",
       "    <tr style=\"text-align: right;\">\n",
       "      <th></th>\n",
       "      <th>Potability</th>\n",
       "      <th>ph</th>\n",
       "      <th>Hardness</th>\n",
       "      <th>Solids</th>\n",
       "      <th>Chloramines</th>\n",
       "      <th>Sulfate</th>\n",
       "      <th>Conductivity</th>\n",
       "      <th>Organic_carbon</th>\n",
       "      <th>Trihalomethanes</th>\n",
       "      <th>Turbidity</th>\n",
       "    </tr>\n",
       "  </thead>\n",
       "  <tbody>\n",
       "    <tr>\n",
       "      <th>0</th>\n",
       "      <td>0</td>\n",
       "      <td>0.505771</td>\n",
       "      <td>0.571139</td>\n",
       "      <td>0.336096</td>\n",
       "      <td>0.543891</td>\n",
       "      <td>0.680385</td>\n",
       "      <td>0.669439</td>\n",
       "      <td>0.313402</td>\n",
       "      <td>0.699753</td>\n",
       "      <td>0.286091</td>\n",
       "    </tr>\n",
       "    <tr>\n",
       "      <th>1</th>\n",
       "      <td>0</td>\n",
       "      <td>0.265434</td>\n",
       "      <td>0.297400</td>\n",
       "      <td>0.300611</td>\n",
       "      <td>0.491839</td>\n",
       "      <td>0.581699</td>\n",
       "      <td>0.719411</td>\n",
       "      <td>0.497319</td>\n",
       "      <td>0.450999</td>\n",
       "      <td>0.576793</td>\n",
       "    </tr>\n",
       "    <tr>\n",
       "      <th>2</th>\n",
       "      <td>0</td>\n",
       "      <td>0.578509</td>\n",
       "      <td>0.641311</td>\n",
       "      <td>0.321619</td>\n",
       "      <td>0.698543</td>\n",
       "      <td>0.581699</td>\n",
       "      <td>0.414652</td>\n",
       "      <td>0.562017</td>\n",
       "      <td>0.532866</td>\n",
       "      <td>0.303637</td>\n",
       "    </tr>\n",
       "    <tr>\n",
       "      <th>3</th>\n",
       "      <td>0</td>\n",
       "      <td>0.594055</td>\n",
       "      <td>0.605536</td>\n",
       "      <td>0.356244</td>\n",
       "      <td>0.603314</td>\n",
       "      <td>0.647347</td>\n",
       "      <td>0.317880</td>\n",
       "      <td>0.622089</td>\n",
       "      <td>0.808065</td>\n",
       "      <td>0.601015</td>\n",
       "    </tr>\n",
       "    <tr>\n",
       "      <th>4</th>\n",
       "      <td>0</td>\n",
       "      <td>0.649445</td>\n",
       "      <td>0.484851</td>\n",
       "      <td>0.289922</td>\n",
       "      <td>0.484900</td>\n",
       "      <td>0.514545</td>\n",
       "      <td>0.379337</td>\n",
       "      <td>0.358555</td>\n",
       "      <td>0.253606</td>\n",
       "      <td>0.496327</td>\n",
       "    </tr>\n",
       "  </tbody>\n",
       "</table>\n",
       "</div>"
      ],
      "text/plain": [
       "   Potability        ph  Hardness    Solids  Chloramines   Sulfate  \\\n",
       "0           0  0.505771  0.571139  0.336096     0.543891  0.680385   \n",
       "1           0  0.265434  0.297400  0.300611     0.491839  0.581699   \n",
       "2           0  0.578509  0.641311  0.321619     0.698543  0.581699   \n",
       "3           0  0.594055  0.605536  0.356244     0.603314  0.647347   \n",
       "4           0  0.649445  0.484851  0.289922     0.484900  0.514545   \n",
       "\n",
       "   Conductivity  Organic_carbon  Trihalomethanes  Turbidity  \n",
       "0      0.669439        0.313402         0.699753   0.286091  \n",
       "1      0.719411        0.497319         0.450999   0.576793  \n",
       "2      0.414652        0.562017         0.532866   0.303637  \n",
       "3      0.317880        0.622089         0.808065   0.601015  \n",
       "4      0.379337        0.358555         0.253606   0.496327  "
      ]
     },
     "execution_count": 27,
     "metadata": {},
     "output_type": "execute_result"
    }
   ],
   "source": [
    "water_norm.head()"
   ]
  },
  {
   "cell_type": "code",
   "execution_count": 28,
   "id": "43f6ffef",
   "metadata": {
    "execution": {
     "iopub.execute_input": "2023-06-10T21:37:45.246633Z",
     "iopub.status.busy": "2023-06-10T21:37:45.246207Z",
     "iopub.status.idle": "2023-06-10T21:37:45.252580Z",
     "shell.execute_reply": "2023-06-10T21:37:45.251392Z"
    },
    "papermill": {
     "duration": 0.031294,
     "end_time": "2023-06-10T21:37:45.254661",
     "exception": false,
     "start_time": "2023-06-10T21:37:45.223367",
     "status": "completed"
    },
    "tags": []
   },
   "outputs": [
    {
     "name": "stdout",
     "output_type": "stream",
     "text": [
      "Cantidad de casos de agua potable: \n",
      "(1278, 10)\n",
      "--------------------------------------\n",
      "Cantidad de casos de agua no potable:  \n",
      "(1998, 10)\n"
     ]
    }
   ],
   "source": [
    "print(\"Cantidad de casos de agua potable: \")\n",
    "print(potable.shape)\n",
    "\n",
    "print(\"--------------------------------------\")\n",
    "\n",
    "print(\"Cantidad de casos de agua no potable:  \")\n",
    "print(no_potable.shape)"
   ]
  },
  {
   "cell_type": "markdown",
   "id": "029250ef",
   "metadata": {
    "papermill": {
     "duration": 0.020957,
     "end_time": "2023-06-10T21:37:45.297338",
     "exception": false,
     "start_time": "2023-06-10T21:37:45.276381",
     "status": "completed"
    },
    "tags": []
   },
   "source": [
    "Vamos a aplicar el modelo de Vecinos Cercanos para determinar si una muestra de agua es potable o no"
   ]
  },
  {
   "cell_type": "markdown",
   "id": "f76ef434",
   "metadata": {
    "papermill": {
     "duration": 0.020842,
     "end_time": "2023-06-10T21:37:45.339504",
     "exception": false,
     "start_time": "2023-06-10T21:37:45.318662",
     "status": "completed"
    },
    "tags": []
   },
   "source": [
    "Priemro hacemos la partición de los datos para despues comprobar que tan bien funciono nuestro modelo"
   ]
  },
  {
   "cell_type": "code",
   "execution_count": 29,
   "id": "e5ad4ac3",
   "metadata": {
    "execution": {
     "iopub.execute_input": "2023-06-10T21:37:45.385118Z",
     "iopub.status.busy": "2023-06-10T21:37:45.384316Z",
     "iopub.status.idle": "2023-06-10T21:37:45.390108Z",
     "shell.execute_reply": "2023-06-10T21:37:45.389286Z"
    },
    "papermill": {
     "duration": 0.031084,
     "end_time": "2023-06-10T21:37:45.392439",
     "exception": false,
     "start_time": "2023-06-10T21:37:45.361355",
     "status": "completed"
    },
    "tags": []
   },
   "outputs": [],
   "source": [
    "X = water_norm.iloc[:,1:8]\n",
    "y = water_norm.iloc[:,0]"
   ]
  },
  {
   "cell_type": "code",
   "execution_count": 30,
   "id": "b87be22f",
   "metadata": {
    "execution": {
     "iopub.execute_input": "2023-06-10T21:37:45.437207Z",
     "iopub.status.busy": "2023-06-10T21:37:45.436411Z",
     "iopub.status.idle": "2023-06-10T21:37:45.444282Z",
     "shell.execute_reply": "2023-06-10T21:37:45.443240Z"
    },
    "papermill": {
     "duration": 0.032436,
     "end_time": "2023-06-10T21:37:45.446310",
     "exception": false,
     "start_time": "2023-06-10T21:37:45.413874",
     "status": "completed"
    },
    "tags": []
   },
   "outputs": [],
   "source": [
    "from sklearn.model_selection import train_test_split\n",
    "X_train, X_test, y_train, y_test = train_test_split(X, y, test_size = 0.30, random_state = 0)"
   ]
  },
  {
   "cell_type": "code",
   "execution_count": 31,
   "id": "43c2ff6f",
   "metadata": {
    "execution": {
     "iopub.execute_input": "2023-06-10T21:37:45.491542Z",
     "iopub.status.busy": "2023-06-10T21:37:45.490737Z",
     "iopub.status.idle": "2023-06-10T21:37:45.496024Z",
     "shell.execute_reply": "2023-06-10T21:37:45.494945Z"
    },
    "papermill": {
     "duration": 0.030673,
     "end_time": "2023-06-10T21:37:45.498331",
     "exception": false,
     "start_time": "2023-06-10T21:37:45.467658",
     "status": "completed"
    },
    "tags": []
   },
   "outputs": [],
   "source": [
    "from sklearn.neighbors import KNeighborsClassifier"
   ]
  },
  {
   "cell_type": "markdown",
   "id": "35735880",
   "metadata": {
    "papermill": {
     "duration": 0.021105,
     "end_time": "2023-06-10T21:37:45.541313",
     "exception": false,
     "start_time": "2023-06-10T21:37:45.520208",
     "status": "completed"
    },
    "tags": []
   },
   "source": [
    "Para definir cuantos vecinos coloco en el modelo, voy  a hacer la raiz cuadrada de 3276, que es la cantidad de casos del dataset"
   ]
  },
  {
   "cell_type": "code",
   "execution_count": 32,
   "id": "b2faa253",
   "metadata": {
    "execution": {
     "iopub.execute_input": "2023-06-10T21:37:45.586053Z",
     "iopub.status.busy": "2023-06-10T21:37:45.585299Z",
     "iopub.status.idle": "2023-06-10T21:37:45.590925Z",
     "shell.execute_reply": "2023-06-10T21:37:45.589672Z"
    },
    "papermill": {
     "duration": 0.030722,
     "end_time": "2023-06-10T21:37:45.593220",
     "exception": false,
     "start_time": "2023-06-10T21:37:45.562498",
     "status": "completed"
    },
    "tags": []
   },
   "outputs": [
    {
     "name": "stdout",
     "output_type": "stream",
     "text": [
      "57.23635208501674\n"
     ]
    }
   ],
   "source": [
    "import math\n",
    "print(math.sqrt(3276))"
   ]
  },
  {
   "cell_type": "markdown",
   "id": "6be5e278",
   "metadata": {
    "papermill": {
     "duration": 0.021662,
     "end_time": "2023-06-10T21:37:45.636814",
     "exception": false,
     "start_time": "2023-06-10T21:37:45.615152",
     "status": "completed"
    },
    "tags": []
   },
   "source": [
    "Definimos para el modelo a 57 vecinos"
   ]
  },
  {
   "cell_type": "code",
   "execution_count": 33,
   "id": "f3a469e5",
   "metadata": {
    "execution": {
     "iopub.execute_input": "2023-06-10T21:37:45.683074Z",
     "iopub.status.busy": "2023-06-10T21:37:45.682656Z",
     "iopub.status.idle": "2023-06-10T21:37:45.701478Z",
     "shell.execute_reply": "2023-06-10T21:37:45.700025Z"
    },
    "papermill": {
     "duration": 0.046343,
     "end_time": "2023-06-10T21:37:45.704957",
     "exception": false,
     "start_time": "2023-06-10T21:37:45.658614",
     "status": "completed"
    },
    "tags": []
   },
   "outputs": [
    {
     "data": {
      "text/html": [
       "<style>#sk-container-id-2 {color: black;background-color: white;}#sk-container-id-2 pre{padding: 0;}#sk-container-id-2 div.sk-toggleable {background-color: white;}#sk-container-id-2 label.sk-toggleable__label {cursor: pointer;display: block;width: 100%;margin-bottom: 0;padding: 0.3em;box-sizing: border-box;text-align: center;}#sk-container-id-2 label.sk-toggleable__label-arrow:before {content: \"▸\";float: left;margin-right: 0.25em;color: #696969;}#sk-container-id-2 label.sk-toggleable__label-arrow:hover:before {color: black;}#sk-container-id-2 div.sk-estimator:hover label.sk-toggleable__label-arrow:before {color: black;}#sk-container-id-2 div.sk-toggleable__content {max-height: 0;max-width: 0;overflow: hidden;text-align: left;background-color: #f0f8ff;}#sk-container-id-2 div.sk-toggleable__content pre {margin: 0.2em;color: black;border-radius: 0.25em;background-color: #f0f8ff;}#sk-container-id-2 input.sk-toggleable__control:checked~div.sk-toggleable__content {max-height: 200px;max-width: 100%;overflow: auto;}#sk-container-id-2 input.sk-toggleable__control:checked~label.sk-toggleable__label-arrow:before {content: \"▾\";}#sk-container-id-2 div.sk-estimator input.sk-toggleable__control:checked~label.sk-toggleable__label {background-color: #d4ebff;}#sk-container-id-2 div.sk-label input.sk-toggleable__control:checked~label.sk-toggleable__label {background-color: #d4ebff;}#sk-container-id-2 input.sk-hidden--visually {border: 0;clip: rect(1px 1px 1px 1px);clip: rect(1px, 1px, 1px, 1px);height: 1px;margin: -1px;overflow: hidden;padding: 0;position: absolute;width: 1px;}#sk-container-id-2 div.sk-estimator {font-family: monospace;background-color: #f0f8ff;border: 1px dotted black;border-radius: 0.25em;box-sizing: border-box;margin-bottom: 0.5em;}#sk-container-id-2 div.sk-estimator:hover {background-color: #d4ebff;}#sk-container-id-2 div.sk-parallel-item::after {content: \"\";width: 100%;border-bottom: 1px solid gray;flex-grow: 1;}#sk-container-id-2 div.sk-label:hover label.sk-toggleable__label {background-color: #d4ebff;}#sk-container-id-2 div.sk-serial::before {content: \"\";position: absolute;border-left: 1px solid gray;box-sizing: border-box;top: 0;bottom: 0;left: 50%;z-index: 0;}#sk-container-id-2 div.sk-serial {display: flex;flex-direction: column;align-items: center;background-color: white;padding-right: 0.2em;padding-left: 0.2em;position: relative;}#sk-container-id-2 div.sk-item {position: relative;z-index: 1;}#sk-container-id-2 div.sk-parallel {display: flex;align-items: stretch;justify-content: center;background-color: white;position: relative;}#sk-container-id-2 div.sk-item::before, #sk-container-id-2 div.sk-parallel-item::before {content: \"\";position: absolute;border-left: 1px solid gray;box-sizing: border-box;top: 0;bottom: 0;left: 50%;z-index: -1;}#sk-container-id-2 div.sk-parallel-item {display: flex;flex-direction: column;z-index: 1;position: relative;background-color: white;}#sk-container-id-2 div.sk-parallel-item:first-child::after {align-self: flex-end;width: 50%;}#sk-container-id-2 div.sk-parallel-item:last-child::after {align-self: flex-start;width: 50%;}#sk-container-id-2 div.sk-parallel-item:only-child::after {width: 0;}#sk-container-id-2 div.sk-dashed-wrapped {border: 1px dashed gray;margin: 0 0.4em 0.5em 0.4em;box-sizing: border-box;padding-bottom: 0.4em;background-color: white;}#sk-container-id-2 div.sk-label label {font-family: monospace;font-weight: bold;display: inline-block;line-height: 1.2em;}#sk-container-id-2 div.sk-label-container {text-align: center;}#sk-container-id-2 div.sk-container {/* jupyter's `normalize.less` sets `[hidden] { display: none; }` but bootstrap.min.css set `[hidden] { display: none !important; }` so we also need the `!important` here to be able to override the default hidden behavior on the sphinx rendered scikit-learn.org. See: https://github.com/scikit-learn/scikit-learn/issues/21755 */display: inline-block !important;position: relative;}#sk-container-id-2 div.sk-text-repr-fallback {display: none;}</style><div id=\"sk-container-id-2\" class=\"sk-top-container\"><div class=\"sk-text-repr-fallback\"><pre>KNeighborsClassifier(n_neighbors=57)</pre><b>In a Jupyter environment, please rerun this cell to show the HTML representation or trust the notebook. <br />On GitHub, the HTML representation is unable to render, please try loading this page with nbviewer.org.</b></div><div class=\"sk-container\" hidden><div class=\"sk-item\"><div class=\"sk-estimator sk-toggleable\"><input class=\"sk-toggleable__control sk-hidden--visually\" id=\"sk-estimator-id-2\" type=\"checkbox\" checked><label for=\"sk-estimator-id-2\" class=\"sk-toggleable__label sk-toggleable__label-arrow\">KNeighborsClassifier</label><div class=\"sk-toggleable__content\"><pre>KNeighborsClassifier(n_neighbors=57)</pre></div></div></div></div></div>"
      ],
      "text/plain": [
       "KNeighborsClassifier(n_neighbors=57)"
      ]
     },
     "execution_count": 33,
     "metadata": {},
     "output_type": "execute_result"
    }
   ],
   "source": [
    "# Realizando el entrenamiento del dataset con Vecinos Cercanos\n",
    "from sklearn.neighbors import KNeighborsClassifier\n",
    "classifier = KNeighborsClassifier(n_neighbors = 57)\n",
    "classifier.fit(X_train, y_train)"
   ]
  },
  {
   "cell_type": "code",
   "execution_count": 34,
   "id": "01d0de3b",
   "metadata": {
    "execution": {
     "iopub.execute_input": "2023-06-10T21:37:45.762766Z",
     "iopub.status.busy": "2023-06-10T21:37:45.762085Z",
     "iopub.status.idle": "2023-06-10T21:37:45.863841Z",
     "shell.execute_reply": "2023-06-10T21:37:45.862624Z"
    },
    "papermill": {
     "duration": 0.135643,
     "end_time": "2023-06-10T21:37:45.866782",
     "exception": false,
     "start_time": "2023-06-10T21:37:45.731139",
     "status": "completed"
    },
    "tags": []
   },
   "outputs": [],
   "source": [
    "y_pred = classifier.predict(X_test)"
   ]
  },
  {
   "cell_type": "markdown",
   "id": "2f80cdea",
   "metadata": {
    "papermill": {
     "duration": 0.021667,
     "end_time": "2023-06-10T21:37:45.910094",
     "exception": false,
     "start_time": "2023-06-10T21:37:45.888427",
     "status": "completed"
    },
    "tags": []
   },
   "source": [
    "Evaluamos, mediante la matriz de confusion, como anduvo nuestro modelo"
   ]
  },
  {
   "cell_type": "code",
   "execution_count": 35,
   "id": "2cf0b9f0",
   "metadata": {
    "execution": {
     "iopub.execute_input": "2023-06-10T21:37:45.956494Z",
     "iopub.status.busy": "2023-06-10T21:37:45.955826Z",
     "iopub.status.idle": "2023-06-10T21:37:45.962568Z",
     "shell.execute_reply": "2023-06-10T21:37:45.961770Z"
    },
    "papermill": {
     "duration": 0.032924,
     "end_time": "2023-06-10T21:37:45.964984",
     "exception": false,
     "start_time": "2023-06-10T21:37:45.932060",
     "status": "completed"
    },
    "tags": []
   },
   "outputs": [],
   "source": [
    "from sklearn.metrics import confusion_matrix\n",
    "cm = confusion_matrix(y_test, y_pred)"
   ]
  },
  {
   "cell_type": "code",
   "execution_count": 36,
   "id": "1cc60a46",
   "metadata": {
    "execution": {
     "iopub.execute_input": "2023-06-10T21:37:46.011445Z",
     "iopub.status.busy": "2023-06-10T21:37:46.010784Z",
     "iopub.status.idle": "2023-06-10T21:37:46.016891Z",
     "shell.execute_reply": "2023-06-10T21:37:46.015534Z"
    },
    "papermill": {
     "duration": 0.032798,
     "end_time": "2023-06-10T21:37:46.019519",
     "exception": false,
     "start_time": "2023-06-10T21:37:45.986721",
     "status": "completed"
    },
    "tags": []
   },
   "outputs": [
    {
     "name": "stdout",
     "output_type": "stream",
     "text": [
      "[[574  36]\n",
      " [313  60]]\n"
     ]
    }
   ],
   "source": [
    "print(cm)"
   ]
  },
  {
   "cell_type": "markdown",
   "id": "708ba0a3",
   "metadata": {
    "papermill": {
     "duration": 0.022013,
     "end_time": "2023-06-10T21:37:46.063962",
     "exception": false,
     "start_time": "2023-06-10T21:37:46.041949",
     "status": "completed"
    },
    "tags": []
   },
   "source": [
    "Mediante el metodo \"precision_score\" medimos la calidad del modelo"
   ]
  },
  {
   "cell_type": "code",
   "execution_count": 37,
   "id": "d671584e",
   "metadata": {
    "execution": {
     "iopub.execute_input": "2023-06-10T21:37:46.110030Z",
     "iopub.status.busy": "2023-06-10T21:37:46.109593Z",
     "iopub.status.idle": "2023-06-10T21:37:46.120185Z",
     "shell.execute_reply": "2023-06-10T21:37:46.118974Z"
    },
    "papermill": {
     "duration": 0.036176,
     "end_time": "2023-06-10T21:37:46.122392",
     "exception": false,
     "start_time": "2023-06-10T21:37:46.086216",
     "status": "completed"
    },
    "tags": []
   },
   "outputs": [
    {
     "data": {
      "text/plain": [
       "0.625"
      ]
     },
     "execution_count": 37,
     "metadata": {},
     "output_type": "execute_result"
    }
   ],
   "source": [
    "from sklearn.metrics import precision_score\n",
    "precision_score(y_test, y_pred, average='binary')"
   ]
  },
  {
   "cell_type": "markdown",
   "id": "e266794d",
   "metadata": {
    "papermill": {
     "duration": 0.022239,
     "end_time": "2023-06-10T21:37:46.166337",
     "exception": false,
     "start_time": "2023-06-10T21:37:46.144098",
     "status": "completed"
    },
    "tags": []
   },
   "source": [
    "Conclusion: el modelo, con una definicon de 57 vecinos, tuvo un acierto del 62%"
   ]
  }
 ],
 "metadata": {
  "kernelspec": {
   "display_name": "Python 3",
   "language": "python",
   "name": "python3"
  },
  "language_info": {
   "codemirror_mode": {
    "name": "ipython",
    "version": 3
   },
   "file_extension": ".py",
   "mimetype": "text/x-python",
   "name": "python",
   "nbconvert_exporter": "python",
   "pygments_lexer": "ipython3",
   "version": "3.10.10"
  },
  "papermill": {
   "default_parameters": {},
   "duration": 21.503574,
   "end_time": "2023-06-10T21:37:47.313658",
   "environment_variables": {},
   "exception": null,
   "input_path": "__notebook__.ipynb",
   "output_path": "__notebook__.ipynb",
   "parameters": {},
   "start_time": "2023-06-10T21:37:25.810084",
   "version": "2.4.0"
  }
 },
 "nbformat": 4,
 "nbformat_minor": 5
}
